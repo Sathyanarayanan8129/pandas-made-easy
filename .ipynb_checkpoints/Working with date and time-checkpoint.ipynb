{
 "cells": [
  {
   "cell_type": "code",
   "execution_count": 1,
   "id": "hundred-custom",
   "metadata": {},
   "outputs": [],
   "source": [
    "import pandas as pd # pandas is an external lib\n",
    "import datetime as dt # datetime is an inbuilt library of python"
   ]
  },
  {
   "cell_type": "code",
   "execution_count": 2,
   "id": "flying-spokesman",
   "metadata": {},
   "outputs": [],
   "source": [
    "bday=dt.date(1993,3,28) # (year,month,day)"
   ]
  },
  {
   "cell_type": "code",
   "execution_count": 3,
   "id": "consecutive-welsh",
   "metadata": {},
   "outputs": [
    {
     "data": {
      "text/plain": [
       "28"
      ]
     },
     "execution_count": 3,
     "metadata": {},
     "output_type": "execute_result"
    }
   ],
   "source": [
    "bday.day # call different attributes of date object"
   ]
  },
  {
   "cell_type": "code",
   "execution_count": 4,
   "id": "nonprofit-territory",
   "metadata": {},
   "outputs": [
    {
     "data": {
      "text/plain": [
       "datetime.datetime(1993, 3, 28, 0, 0)"
      ]
     },
     "execution_count": 4,
     "metadata": {},
     "output_type": "execute_result"
    }
   ],
   "source": [
    "dt.datetime(1993,3,28,)"
   ]
  },
  {
   "cell_type": "code",
   "execution_count": 5,
   "id": "controlled-midnight",
   "metadata": {},
   "outputs": [],
   "source": [
    "sometime=dt.datetime(1993,3,28,8,13,57) # date:28/03/1993 and time 8.13 and 57 sec"
   ]
  },
  {
   "cell_type": "code",
   "execution_count": 6,
   "id": "pressed-romantic",
   "metadata": {},
   "outputs": [
    {
     "data": {
      "text/plain": [
       "57"
      ]
     },
     "execution_count": 6,
     "metadata": {},
     "output_type": "execute_result"
    }
   ],
   "source": [
    "sometime.second\n",
    "# attributes of datetime object"
   ]
  },
  {
   "cell_type": "code",
   "execution_count": 7,
   "id": "continent-inspector",
   "metadata": {},
   "outputs": [
    {
     "data": {
      "text/plain": [
       "'1993-03-28 08:13:57'"
      ]
     },
     "execution_count": 7,
     "metadata": {},
     "output_type": "execute_result"
    }
   ],
   "source": [
    "str(dt.datetime(1993,3,28,8,13,57))"
   ]
  },
  {
   "cell_type": "code",
   "execution_count": 8,
   "id": "noticed-travel",
   "metadata": {},
   "outputs": [
    {
     "data": {
      "text/plain": [
       "'1993-03-28'"
      ]
     },
     "execution_count": 8,
     "metadata": {},
     "output_type": "execute_result"
    }
   ],
   "source": [
    "str(bday)"
   ]
  },
  {
   "cell_type": "markdown",
   "id": "eleven-swing",
   "metadata": {},
   "source": [
    "# The pandas timestamp object \n",
    "the pandas version of python datetime object\n"
   ]
  },
  {
   "cell_type": "code",
   "execution_count": 9,
   "id": "bottom-noise",
   "metadata": {},
   "outputs": [
    {
     "data": {
      "text/plain": [
       "Timestamp('1993-03-28 00:00:00')"
      ]
     },
     "execution_count": 9,
     "metadata": {},
     "output_type": "execute_result"
    }
   ],
   "source": [
    "pd.Timestamp(\"1993-03-28\") # if time is not given ,it assign 12 midnight"
   ]
  },
  {
   "cell_type": "code",
   "execution_count": 10,
   "id": "bright-narrative",
   "metadata": {},
   "outputs": [
    {
     "data": {
      "text/plain": [
       "Timestamp('1993-03-28 00:00:00')"
      ]
     },
     "execution_count": 10,
     "metadata": {},
     "output_type": "execute_result"
    }
   ],
   "source": [
    "pd.Timestamp(\"1993/03/28\") # can use '/' and ',' to seperate"
   ]
  },
  {
   "cell_type": "code",
   "execution_count": 11,
   "id": "adequate-checkout",
   "metadata": {},
   "outputs": [
    {
     "data": {
      "text/plain": [
       "Timestamp('2019-12-19 00:00:00')"
      ]
     },
     "execution_count": 11,
     "metadata": {},
     "output_type": "execute_result"
    }
   ],
   "source": [
    "pd.Timestamp(\"19/12/2019\")# pandas can recognize 19 as day and 12 as month"
   ]
  },
  {
   "cell_type": "code",
   "execution_count": 12,
   "id": "developed-saturday",
   "metadata": {},
   "outputs": [
    {
     "data": {
      "text/plain": [
       "Timestamp('2019-04-03 00:00:00')"
      ]
     },
     "execution_count": 12,
     "metadata": {},
     "output_type": "execute_result"
    }
   ],
   "source": [
    "pd.Timestamp(\"4/3/2019\") # pandas takes 4 as month and 3 as day even if we meant the opposite"
   ]
  },
  {
   "cell_type": "code",
   "execution_count": 13,
   "id": "welsh-trauma",
   "metadata": {},
   "outputs": [
    {
     "data": {
      "text/plain": [
       "Timestamp('2019-12-19 08:35:45')"
      ]
     },
     "execution_count": 13,
     "metadata": {},
     "output_type": "execute_result"
    }
   ],
   "source": [
    "pd.Timestamp(\"19/12/2019 8:35:45\") # leave space between date and time"
   ]
  },
  {
   "cell_type": "code",
   "execution_count": 14,
   "id": "derived-modification",
   "metadata": {},
   "outputs": [
    {
     "data": {
      "text/plain": [
       "Timestamp('2019-12-19 20:35:45')"
      ]
     },
     "execution_count": 14,
     "metadata": {},
     "output_type": "execute_result"
    }
   ],
   "source": [
    "pd.Timestamp(\"19/12/2019 8:35:45 PM\") # add pm for evening and night"
   ]
  },
  {
   "cell_type": "code",
   "execution_count": 15,
   "id": "driving-chapel",
   "metadata": {},
   "outputs": [
    {
     "data": {
      "text/plain": [
       "Timestamp('1993-03-28 00:00:00')"
      ]
     },
     "execution_count": 15,
     "metadata": {},
     "output_type": "execute_result"
    }
   ],
   "source": [
    "pd.Timestamp(dt.date(1993,3,28))# we can also give date object of python as parameter to timestamp"
   ]
  },
  {
   "cell_type": "code",
   "execution_count": 16,
   "id": "seventh-chance",
   "metadata": {},
   "outputs": [
    {
     "data": {
      "text/plain": [
       "Timestamp('1993-03-28 06:15:45')"
      ]
     },
     "execution_count": 16,
     "metadata": {},
     "output_type": "execute_result"
    }
   ],
   "source": [
    "pd.Timestamp(dt.datetime(1993,3,28,6,15,45))"
   ]
  },
  {
   "cell_type": "markdown",
   "id": "copyrighted-meditation",
   "metadata": {},
   "source": [
    "# the pandas DatetimeIndex object"
   ]
  },
  {
   "cell_type": "code",
   "execution_count": 17,
   "id": "hybrid-original",
   "metadata": {},
   "outputs": [
    {
     "data": {
      "text/plain": [
       "DatetimeIndex(['2016-03-02', '2017-04-01', '2015-11-23'], dtype='datetime64[ns]', freq=None)"
      ]
     },
     "execution_count": 17,
     "metadata": {},
     "output_type": "execute_result"
    }
   ],
   "source": [
    "dates=[\"2016/03/2\",\"2017-04-1\",\"2015-11-23\"]\n",
    "pd.DatetimeIndex(dates)"
   ]
  },
  {
   "cell_type": "code",
   "execution_count": 18,
   "id": "accomplished-cologne",
   "metadata": {},
   "outputs": [
    {
     "data": {
      "text/plain": [
       "pandas.core.indexes.datetimes.DatetimeIndex"
      ]
     },
     "execution_count": 18,
     "metadata": {},
     "output_type": "execute_result"
    }
   ],
   "source": [
    "type(pd.DatetimeIndex(dates))"
   ]
  },
  {
   "cell_type": "code",
   "execution_count": 19,
   "id": "caroline-publication",
   "metadata": {},
   "outputs": [],
   "source": [
    "date=[dt.datetime(1990,4,12),dt.datetime(1991,7,22),dt.datetime(1997,1,12)]"
   ]
  },
  {
   "cell_type": "code",
   "execution_count": 20,
   "id": "varying-leave",
   "metadata": {},
   "outputs": [],
   "source": [
    "dtindex=pd.DatetimeIndex(date)"
   ]
  },
  {
   "cell_type": "code",
   "execution_count": 21,
   "id": "unique-journalist",
   "metadata": {},
   "outputs": [],
   "source": [
    "values=[100,200,300]"
   ]
  },
  {
   "cell_type": "code",
   "execution_count": 22,
   "id": "interested-grammar",
   "metadata": {},
   "outputs": [
    {
     "data": {
      "text/plain": [
       "1990-04-12    100\n",
       "1991-07-22    200\n",
       "1997-01-12    300\n",
       "dtype: int64"
      ]
     },
     "execution_count": 22,
     "metadata": {},
     "output_type": "execute_result"
    }
   ],
   "source": [
    "pd.Series(data=values,index=dtindex)"
   ]
  },
  {
   "cell_type": "markdown",
   "id": "educated-amplifier",
   "metadata": {},
   "source": [
    "# pd.to_datetime method"
   ]
  },
  {
   "cell_type": "code",
   "execution_count": 23,
   "id": "revised-state",
   "metadata": {},
   "outputs": [
    {
     "data": {
      "text/plain": [
       "Timestamp('2020-01-12 00:00:00')"
      ]
     },
     "execution_count": 23,
     "metadata": {},
     "output_type": "execute_result"
    }
   ],
   "source": [
    "pd.to_datetime(\"2020/1/12\") # to convert  string to pandas time stamp."
   ]
  },
  {
   "cell_type": "code",
   "execution_count": 24,
   "id": "conditional-positive",
   "metadata": {},
   "outputs": [
    {
     "data": {
      "text/plain": [
       "Timestamp('2017-03-04 00:00:00')"
      ]
     },
     "execution_count": 24,
     "metadata": {},
     "output_type": "execute_result"
    }
   ],
   "source": [
    "pd.to_datetime(dt.date(2017,3,4)) # to convert date object to pandas timestamp"
   ]
  },
  {
   "cell_type": "code",
   "execution_count": 25,
   "id": "hydraulic-horror",
   "metadata": {},
   "outputs": [
    {
     "data": {
      "text/plain": [
       "Timestamp('2017-03-04 19:27:36')"
      ]
     },
     "execution_count": 25,
     "metadata": {},
     "output_type": "execute_result"
    }
   ],
   "source": [
    "pd.to_datetime(dt.datetime(2017,3,4,19,27,36))"
   ]
  },
  {
   "cell_type": "code",
   "execution_count": 26,
   "id": "sufficient-silly",
   "metadata": {},
   "outputs": [
    {
     "data": {
      "text/plain": [
       "DatetimeIndex(['2015-08-23', '2016-01-01', '1994-06-02'], dtype='datetime64[ns]', freq=None)"
      ]
     },
     "execution_count": 26,
     "metadata": {},
     "output_type": "execute_result"
    }
   ],
   "source": [
    "pd.to_datetime([\"2015/8/23\",\"2016\",\"june 2nd,1994\"]) # coverts all to datetimeindex object "
   ]
  },
  {
   "cell_type": "code",
   "execution_count": 27,
   "id": "settled-taste",
   "metadata": {},
   "outputs": [],
   "source": [
    "dates=pd.Series([\"2015/8/23\",\"2016\",\"june 2nd,1994\"])"
   ]
  },
  {
   "cell_type": "code",
   "execution_count": 28,
   "id": "caring-press",
   "metadata": {},
   "outputs": [
    {
     "data": {
      "text/plain": [
       "0        2015/8/23\n",
       "1             2016\n",
       "2    june 2nd,1994\n",
       "dtype: object"
      ]
     },
     "execution_count": 28,
     "metadata": {},
     "output_type": "execute_result"
    }
   ],
   "source": [
    "dates"
   ]
  },
  {
   "cell_type": "code",
   "execution_count": 29,
   "id": "shaped-drive",
   "metadata": {},
   "outputs": [
    {
     "data": {
      "text/plain": [
       "0   2015-08-23\n",
       "1   2016-01-01\n",
       "2   1994-06-02\n",
       "dtype: datetime64[ns]"
      ]
     },
     "execution_count": 29,
     "metadata": {},
     "output_type": "execute_result"
    }
   ],
   "source": [
    "pd.to_datetime(dates)# to covert a string of dates in a series to datetime object rather than string objects\n"
   ]
  },
  {
   "cell_type": "code",
   "execution_count": 30,
   "id": "freelance-wireless",
   "metadata": {},
   "outputs": [],
   "source": [
    "dates=pd.Series([\"july 2nd,1966\",\"10/04/1991\",\"hello\",\"2016-2-31\"])"
   ]
  },
  {
   "cell_type": "code",
   "execution_count": 31,
   "id": "democratic-guard",
   "metadata": {},
   "outputs": [
    {
     "data": {
      "text/plain": [
       "0    july 2nd,1966\n",
       "1       10/04/1991\n",
       "2            hello\n",
       "3        2016-2-31\n",
       "dtype: object"
      ]
     },
     "execution_count": 31,
     "metadata": {},
     "output_type": "execute_result"
    }
   ],
   "source": [
    "dates"
   ]
  },
  {
   "cell_type": "code",
   "execution_count": 33,
   "id": "received-interface",
   "metadata": {
    "collapsed": true
   },
   "outputs": [
    {
     "ename": "ParserError",
     "evalue": "Unknown string format: hello",
     "output_type": "error",
     "traceback": [
      "\u001b[1;31m---------------------------------------------------------------------------\u001b[0m",
      "\u001b[1;31mTypeError\u001b[0m                                 Traceback (most recent call last)",
      "\u001b[1;32mc:\\python\\python392\\lib\\site-packages\\pandas\\core\\arrays\\datetimes.py\u001b[0m in \u001b[0;36mobjects_to_datetime64ns\u001b[1;34m(data, dayfirst, yearfirst, utc, errors, require_iso8601, allow_object)\u001b[0m\n\u001b[0;32m   2084\u001b[0m         \u001b[1;32mtry\u001b[0m\u001b[1;33m:\u001b[0m\u001b[1;33m\u001b[0m\u001b[1;33m\u001b[0m\u001b[0m\n\u001b[1;32m-> 2085\u001b[1;33m             \u001b[0mvalues\u001b[0m\u001b[1;33m,\u001b[0m \u001b[0mtz_parsed\u001b[0m \u001b[1;33m=\u001b[0m \u001b[0mconversion\u001b[0m\u001b[1;33m.\u001b[0m\u001b[0mdatetime_to_datetime64\u001b[0m\u001b[1;33m(\u001b[0m\u001b[0mdata\u001b[0m\u001b[1;33m)\u001b[0m\u001b[1;33m\u001b[0m\u001b[1;33m\u001b[0m\u001b[0m\n\u001b[0m\u001b[0;32m   2086\u001b[0m             \u001b[1;31m# If tzaware, these values represent unix timestamps, so we\u001b[0m\u001b[1;33m\u001b[0m\u001b[1;33m\u001b[0m\u001b[1;33m\u001b[0m\u001b[0m\n",
      "\u001b[1;32mpandas\\_libs\\tslibs\\conversion.pyx\u001b[0m in \u001b[0;36mpandas._libs.tslibs.conversion.datetime_to_datetime64\u001b[1;34m()\u001b[0m\n",
      "\u001b[1;31mTypeError\u001b[0m: Unrecognized value type: <class 'str'>",
      "\nDuring handling of the above exception, another exception occurred:\n",
      "\u001b[1;31mParserError\u001b[0m                               Traceback (most recent call last)",
      "\u001b[1;32m<ipython-input-33-ddd2d201db8c>\u001b[0m in \u001b[0;36m<module>\u001b[1;34m\u001b[0m\n\u001b[1;32m----> 1\u001b[1;33m \u001b[0mpd\u001b[0m\u001b[1;33m.\u001b[0m\u001b[0mto_datetime\u001b[0m\u001b[1;33m(\u001b[0m\u001b[0mdates\u001b[0m\u001b[1;33m)\u001b[0m\u001b[1;33m\u001b[0m\u001b[1;33m\u001b[0m\u001b[0m\n\u001b[0m",
      "\u001b[1;32mc:\\python\\python392\\lib\\site-packages\\pandas\\core\\tools\\datetimes.py\u001b[0m in \u001b[0;36mto_datetime\u001b[1;34m(arg, errors, dayfirst, yearfirst, utc, format, exact, unit, infer_datetime_format, origin, cache)\u001b[0m\n\u001b[0;32m    803\u001b[0m             \u001b[0mresult\u001b[0m \u001b[1;33m=\u001b[0m \u001b[0marg\u001b[0m\u001b[1;33m.\u001b[0m\u001b[0mmap\u001b[0m\u001b[1;33m(\u001b[0m\u001b[0mcache_array\u001b[0m\u001b[1;33m)\u001b[0m\u001b[1;33m\u001b[0m\u001b[1;33m\u001b[0m\u001b[0m\n\u001b[0;32m    804\u001b[0m         \u001b[1;32melse\u001b[0m\u001b[1;33m:\u001b[0m\u001b[1;33m\u001b[0m\u001b[1;33m\u001b[0m\u001b[0m\n\u001b[1;32m--> 805\u001b[1;33m             \u001b[0mvalues\u001b[0m \u001b[1;33m=\u001b[0m \u001b[0mconvert_listlike\u001b[0m\u001b[1;33m(\u001b[0m\u001b[0marg\u001b[0m\u001b[1;33m.\u001b[0m\u001b[0m_values\u001b[0m\u001b[1;33m,\u001b[0m \u001b[0mformat\u001b[0m\u001b[1;33m)\u001b[0m\u001b[1;33m\u001b[0m\u001b[1;33m\u001b[0m\u001b[0m\n\u001b[0m\u001b[0;32m    806\u001b[0m             \u001b[0mresult\u001b[0m \u001b[1;33m=\u001b[0m \u001b[0marg\u001b[0m\u001b[1;33m.\u001b[0m\u001b[0m_constructor\u001b[0m\u001b[1;33m(\u001b[0m\u001b[0mvalues\u001b[0m\u001b[1;33m,\u001b[0m \u001b[0mindex\u001b[0m\u001b[1;33m=\u001b[0m\u001b[0marg\u001b[0m\u001b[1;33m.\u001b[0m\u001b[0mindex\u001b[0m\u001b[1;33m,\u001b[0m \u001b[0mname\u001b[0m\u001b[1;33m=\u001b[0m\u001b[0marg\u001b[0m\u001b[1;33m.\u001b[0m\u001b[0mname\u001b[0m\u001b[1;33m)\u001b[0m\u001b[1;33m\u001b[0m\u001b[1;33m\u001b[0m\u001b[0m\n\u001b[0;32m    807\u001b[0m     \u001b[1;32melif\u001b[0m \u001b[0misinstance\u001b[0m\u001b[1;33m(\u001b[0m\u001b[0marg\u001b[0m\u001b[1;33m,\u001b[0m \u001b[1;33m(\u001b[0m\u001b[0mABCDataFrame\u001b[0m\u001b[1;33m,\u001b[0m \u001b[0mabc\u001b[0m\u001b[1;33m.\u001b[0m\u001b[0mMutableMapping\u001b[0m\u001b[1;33m)\u001b[0m\u001b[1;33m)\u001b[0m\u001b[1;33m:\u001b[0m\u001b[1;33m\u001b[0m\u001b[1;33m\u001b[0m\u001b[0m\n",
      "\u001b[1;32mc:\\python\\python392\\lib\\site-packages\\pandas\\core\\tools\\datetimes.py\u001b[0m in \u001b[0;36m_convert_listlike_datetimes\u001b[1;34m(arg, format, name, tz, unit, errors, infer_datetime_format, dayfirst, yearfirst, exact)\u001b[0m\n\u001b[0;32m    463\u001b[0m         \u001b[1;32massert\u001b[0m \u001b[0mformat\u001b[0m \u001b[1;32mis\u001b[0m \u001b[1;32mNone\u001b[0m \u001b[1;32mor\u001b[0m \u001b[0minfer_datetime_format\u001b[0m\u001b[1;33m\u001b[0m\u001b[1;33m\u001b[0m\u001b[0m\n\u001b[0;32m    464\u001b[0m         \u001b[0mutc\u001b[0m \u001b[1;33m=\u001b[0m \u001b[0mtz\u001b[0m \u001b[1;33m==\u001b[0m \u001b[1;34m\"utc\"\u001b[0m\u001b[1;33m\u001b[0m\u001b[1;33m\u001b[0m\u001b[0m\n\u001b[1;32m--> 465\u001b[1;33m         result, tz_parsed = objects_to_datetime64ns(\n\u001b[0m\u001b[0;32m    466\u001b[0m             \u001b[0marg\u001b[0m\u001b[1;33m,\u001b[0m\u001b[1;33m\u001b[0m\u001b[1;33m\u001b[0m\u001b[0m\n\u001b[0;32m    467\u001b[0m             \u001b[0mdayfirst\u001b[0m\u001b[1;33m=\u001b[0m\u001b[0mdayfirst\u001b[0m\u001b[1;33m,\u001b[0m\u001b[1;33m\u001b[0m\u001b[1;33m\u001b[0m\u001b[0m\n",
      "\u001b[1;32mc:\\python\\python392\\lib\\site-packages\\pandas\\core\\arrays\\datetimes.py\u001b[0m in \u001b[0;36mobjects_to_datetime64ns\u001b[1;34m(data, dayfirst, yearfirst, utc, errors, require_iso8601, allow_object)\u001b[0m\n\u001b[0;32m   2088\u001b[0m             \u001b[1;32mreturn\u001b[0m \u001b[0mvalues\u001b[0m\u001b[1;33m.\u001b[0m\u001b[0mview\u001b[0m\u001b[1;33m(\u001b[0m\u001b[1;34m\"i8\"\u001b[0m\u001b[1;33m)\u001b[0m\u001b[1;33m,\u001b[0m \u001b[0mtz_parsed\u001b[0m\u001b[1;33m\u001b[0m\u001b[1;33m\u001b[0m\u001b[0m\n\u001b[0;32m   2089\u001b[0m         \u001b[1;32mexcept\u001b[0m \u001b[1;33m(\u001b[0m\u001b[0mValueError\u001b[0m\u001b[1;33m,\u001b[0m \u001b[0mTypeError\u001b[0m\u001b[1;33m)\u001b[0m\u001b[1;33m:\u001b[0m\u001b[1;33m\u001b[0m\u001b[1;33m\u001b[0m\u001b[0m\n\u001b[1;32m-> 2090\u001b[1;33m             \u001b[1;32mraise\u001b[0m \u001b[0me\u001b[0m\u001b[1;33m\u001b[0m\u001b[1;33m\u001b[0m\u001b[0m\n\u001b[0m\u001b[0;32m   2091\u001b[0m \u001b[1;33m\u001b[0m\u001b[0m\n\u001b[0;32m   2092\u001b[0m     \u001b[1;32mif\u001b[0m \u001b[0mtz_parsed\u001b[0m \u001b[1;32mis\u001b[0m \u001b[1;32mnot\u001b[0m \u001b[1;32mNone\u001b[0m\u001b[1;33m:\u001b[0m\u001b[1;33m\u001b[0m\u001b[1;33m\u001b[0m\u001b[0m\n",
      "\u001b[1;32mc:\\python\\python392\\lib\\site-packages\\pandas\\core\\arrays\\datetimes.py\u001b[0m in \u001b[0;36mobjects_to_datetime64ns\u001b[1;34m(data, dayfirst, yearfirst, utc, errors, require_iso8601, allow_object)\u001b[0m\n\u001b[0;32m   2073\u001b[0m \u001b[1;33m\u001b[0m\u001b[0m\n\u001b[0;32m   2074\u001b[0m     \u001b[1;32mtry\u001b[0m\u001b[1;33m:\u001b[0m\u001b[1;33m\u001b[0m\u001b[1;33m\u001b[0m\u001b[0m\n\u001b[1;32m-> 2075\u001b[1;33m         result, tz_parsed = tslib.array_to_datetime(\n\u001b[0m\u001b[0;32m   2076\u001b[0m             \u001b[0mdata\u001b[0m\u001b[1;33m,\u001b[0m\u001b[1;33m\u001b[0m\u001b[1;33m\u001b[0m\u001b[0m\n\u001b[0;32m   2077\u001b[0m             \u001b[0merrors\u001b[0m\u001b[1;33m=\u001b[0m\u001b[0merrors\u001b[0m\u001b[1;33m,\u001b[0m\u001b[1;33m\u001b[0m\u001b[1;33m\u001b[0m\u001b[0m\n",
      "\u001b[1;32mpandas\\_libs\\tslib.pyx\u001b[0m in \u001b[0;36mpandas._libs.tslib.array_to_datetime\u001b[1;34m()\u001b[0m\n",
      "\u001b[1;32mpandas\\_libs\\tslib.pyx\u001b[0m in \u001b[0;36mpandas._libs.tslib.array_to_datetime\u001b[1;34m()\u001b[0m\n",
      "\u001b[1;32mpandas\\_libs\\tslib.pyx\u001b[0m in \u001b[0;36mpandas._libs.tslib.array_to_datetime_object\u001b[1;34m()\u001b[0m\n",
      "\u001b[1;32mpandas\\_libs\\tslib.pyx\u001b[0m in \u001b[0;36mpandas._libs.tslib.array_to_datetime_object\u001b[1;34m()\u001b[0m\n",
      "\u001b[1;32mpandas\\_libs\\tslibs\\parsing.pyx\u001b[0m in \u001b[0;36mpandas._libs.tslibs.parsing.parse_datetime_string\u001b[1;34m()\u001b[0m\n",
      "\u001b[1;32mc:\\python\\python392\\lib\\site-packages\\dateutil\\parser\\_parser.py\u001b[0m in \u001b[0;36mparse\u001b[1;34m(timestr, parserinfo, **kwargs)\u001b[0m\n\u001b[0;32m   1372\u001b[0m         \u001b[1;32mreturn\u001b[0m \u001b[0mparser\u001b[0m\u001b[1;33m(\u001b[0m\u001b[0mparserinfo\u001b[0m\u001b[1;33m)\u001b[0m\u001b[1;33m.\u001b[0m\u001b[0mparse\u001b[0m\u001b[1;33m(\u001b[0m\u001b[0mtimestr\u001b[0m\u001b[1;33m,\u001b[0m \u001b[1;33m**\u001b[0m\u001b[0mkwargs\u001b[0m\u001b[1;33m)\u001b[0m\u001b[1;33m\u001b[0m\u001b[1;33m\u001b[0m\u001b[0m\n\u001b[0;32m   1373\u001b[0m     \u001b[1;32melse\u001b[0m\u001b[1;33m:\u001b[0m\u001b[1;33m\u001b[0m\u001b[1;33m\u001b[0m\u001b[0m\n\u001b[1;32m-> 1374\u001b[1;33m         \u001b[1;32mreturn\u001b[0m \u001b[0mDEFAULTPARSER\u001b[0m\u001b[1;33m.\u001b[0m\u001b[0mparse\u001b[0m\u001b[1;33m(\u001b[0m\u001b[0mtimestr\u001b[0m\u001b[1;33m,\u001b[0m \u001b[1;33m**\u001b[0m\u001b[0mkwargs\u001b[0m\u001b[1;33m)\u001b[0m\u001b[1;33m\u001b[0m\u001b[1;33m\u001b[0m\u001b[0m\n\u001b[0m\u001b[0;32m   1375\u001b[0m \u001b[1;33m\u001b[0m\u001b[0m\n\u001b[0;32m   1376\u001b[0m \u001b[1;33m\u001b[0m\u001b[0m\n",
      "\u001b[1;32mc:\\python\\python392\\lib\\site-packages\\dateutil\\parser\\_parser.py\u001b[0m in \u001b[0;36mparse\u001b[1;34m(self, timestr, default, ignoretz, tzinfos, **kwargs)\u001b[0m\n\u001b[0;32m    647\u001b[0m \u001b[1;33m\u001b[0m\u001b[0m\n\u001b[0;32m    648\u001b[0m         \u001b[1;32mif\u001b[0m \u001b[0mres\u001b[0m \u001b[1;32mis\u001b[0m \u001b[1;32mNone\u001b[0m\u001b[1;33m:\u001b[0m\u001b[1;33m\u001b[0m\u001b[1;33m\u001b[0m\u001b[0m\n\u001b[1;32m--> 649\u001b[1;33m             \u001b[1;32mraise\u001b[0m \u001b[0mParserError\u001b[0m\u001b[1;33m(\u001b[0m\u001b[1;34m\"Unknown string format: %s\"\u001b[0m\u001b[1;33m,\u001b[0m \u001b[0mtimestr\u001b[0m\u001b[1;33m)\u001b[0m\u001b[1;33m\u001b[0m\u001b[1;33m\u001b[0m\u001b[0m\n\u001b[0m\u001b[0;32m    650\u001b[0m \u001b[1;33m\u001b[0m\u001b[0m\n\u001b[0;32m    651\u001b[0m         \u001b[1;32mif\u001b[0m \u001b[0mlen\u001b[0m\u001b[1;33m(\u001b[0m\u001b[0mres\u001b[0m\u001b[1;33m)\u001b[0m \u001b[1;33m==\u001b[0m \u001b[1;36m0\u001b[0m\u001b[1;33m:\u001b[0m\u001b[1;33m\u001b[0m\u001b[1;33m\u001b[0m\u001b[0m\n",
      "\u001b[1;31mParserError\u001b[0m: Unknown string format: hello"
     ]
    }
   ],
   "source": [
    "pd.to_datetime(dates)# this will give error"
   ]
  },
  {
   "cell_type": "code",
   "execution_count": null,
   "id": "massive-transsexual",
   "metadata": {},
   "outputs": [],
   "source": [
    "pd.to_datetime(dates,errors=\"coerce\")# NaT=not a time,set errors = coerce to convert the series to datetimeindex"
   ]
  },
  {
   "cell_type": "markdown",
   "id": "historical-ministry",
   "metadata": {},
   "source": [
    "# unix time"
   ]
  },
  {
   "cell_type": "code",
   "execution_count": null,
   "id": "right-senate",
   "metadata": {},
   "outputs": [],
   "source": [
    "pd.to_datetime([1490750889, 1490751209, 1490751569],unit='s')\n",
    "# time in seconds after jan1 ,1970 is a unix timestamp.to convert these to \n",
    "#actual dates,set unit='s' where s stands for seconds."
   ]
  },
  {
   "cell_type": "markdown",
   "id": "loose-compromise",
   "metadata": {},
   "source": [
    "# pd.date_range() Method"
   ]
  },
  {
   "cell_type": "code",
   "execution_count": null,
   "id": "dying-garlic",
   "metadata": {},
   "outputs": [],
   "source": [
    "times=pd.date_range(start= \"2018/03/28\",end=\"2018/04/6\",freq=\"D\")"
   ]
  },
  {
   "cell_type": "code",
   "execution_count": null,
   "id": "shaped-postcard",
   "metadata": {},
   "outputs": [],
   "source": [
    "type(times) # it is a datetimeindex object."
   ]
  },
  {
   "cell_type": "code",
   "execution_count": null,
   "id": "impossible-canada",
   "metadata": {},
   "outputs": [],
   "source": [
    "times[0]"
   ]
  },
  {
   "cell_type": "code",
   "execution_count": null,
   "id": "experienced-toolbox",
   "metadata": {},
   "outputs": [],
   "source": [
    "type(times[0]) # it is a time stamp."
   ]
  },
  {
   "cell_type": "code",
   "execution_count": null,
   "id": "resident-exhibition",
   "metadata": {},
   "outputs": [],
   "source": [
    "pd.date_range(start= \"2018/03/28\",end=\"2018/04/6\",freq=\"2D\")"
   ]
  },
  {
   "cell_type": "code",
   "execution_count": null,
   "id": "forward-ottawa",
   "metadata": {},
   "outputs": [],
   "source": [
    "pd.date_range(start= \"2018/03/28\",end=\"2018/04/6\",freq=\"B\")# business days"
   ]
  },
  {
   "cell_type": "code",
   "execution_count": null,
   "id": "downtown-cuisine",
   "metadata": {},
   "outputs": [],
   "source": [
    "pd.date_range(start= \"2018/03/28\",end=\"2018/04/8\",freq=\"W\") # returns a week starting from 1 sunday to the next in the given range"
   ]
  },
  {
   "cell_type": "code",
   "execution_count": null,
   "id": "secondary-contrast",
   "metadata": {},
   "outputs": [],
   "source": [
    "pd.date_range(start= \"2018/03/28\",end=\"2018/04/20\",freq=\"W-FRI\") # starts the week on friday"
   ]
  },
  {
   "cell_type": "code",
   "execution_count": null,
   "id": "statutory-trauma",
   "metadata": {},
   "outputs": [],
   "source": [
    "pd.date_range(start= \"2018/03/28\",end=\"2018/03/29\",freq=\"H\") # every hour from start to end"
   ]
  },
  {
   "cell_type": "code",
   "execution_count": null,
   "id": "apart-small",
   "metadata": {},
   "outputs": [],
   "source": [
    "pd.date_range(start= \"2018/03/28\",end=\"2018/03/30\",freq=\"5H\")"
   ]
  },
  {
   "cell_type": "code",
   "execution_count": null,
   "id": "promotional-grave",
   "metadata": {},
   "outputs": [],
   "source": [
    "pd.date_range(start= \"2018/03/28\",end=\"2018/06/20\",freq=\"M\") # returns month ends within the range"
   ]
  },
  {
   "cell_type": "code",
   "execution_count": null,
   "id": "broad-cotton",
   "metadata": {},
   "outputs": [],
   "source": [
    "pd.date_range(start= \"2018/03/28\",end=\"2018/08/20\",freq=\"MS\") # returns month starts within the range"
   ]
  },
  {
   "cell_type": "code",
   "execution_count": null,
   "id": "jewish-bruce",
   "metadata": {},
   "outputs": [],
   "source": [
    "pd.date_range(start= \"2018/03/28\",end=\"2030/06/20\",freq=\"A\") # returns year ends within the range"
   ]
  },
  {
   "cell_type": "markdown",
   "id": "friendly-tours",
   "metadata": {},
   "source": [
    "# pd.date_range part two"
   ]
  },
  {
   "cell_type": "code",
   "execution_count": null,
   "id": "dimensional-cosmetic",
   "metadata": {},
   "outputs": [],
   "source": [
    "pd.date_range(start=\"2009/03/28\",periods=25,freq=\"D\") # using start and period ( no need for end)"
   ]
  },
  {
   "cell_type": "code",
   "execution_count": null,
   "id": "statutory-circus",
   "metadata": {},
   "outputs": [],
   "source": [
    "pd.date_range(start=\"2009/03/28\",periods=25,freq=\"B\")#  returns 25 business days from 28 th march"
   ]
  },
  {
   "cell_type": "code",
   "execution_count": null,
   "id": "played-wallet",
   "metadata": {},
   "outputs": [],
   "source": [
    "pd.date_range(start=\"2009/03/28\",periods=25,freq=\"W\") # 29 is sunday and it returns 25 weeks starting with sunday"
   ]
  },
  {
   "cell_type": "code",
   "execution_count": null,
   "id": "moved-northern",
   "metadata": {},
   "outputs": [],
   "source": [
    "pd.date_range(start=\"2009/03/28\",periods=25,freq=\"W-TUE\")"
   ]
  },
  {
   "cell_type": "code",
   "execution_count": null,
   "id": "conceptual-bulletin",
   "metadata": {},
   "outputs": [],
   "source": [
    "pd.date_range(start=\"2009/03/28\",periods=25,freq=\"MS\")"
   ]
  },
  {
   "cell_type": "code",
   "execution_count": null,
   "id": "severe-prayer",
   "metadata": {},
   "outputs": [],
   "source": [
    "pd.date_range(start=\"2009/03/28\",periods=25,freq=\"A\") #year ends  from 2009"
   ]
  },
  {
   "cell_type": "code",
   "execution_count": null,
   "id": "julian-butter",
   "metadata": {},
   "outputs": [],
   "source": [
    "type(pd.date_range(start=\"2009/03/28\",periods=10,freq=\"6H\"))"
   ]
  },
  {
   "cell_type": "markdown",
   "id": "preceding-aerospace",
   "metadata": {},
   "source": [
    "# pd.date_range Method 3"
   ]
  },
  {
   "cell_type": "code",
   "execution_count": null,
   "id": "likely-formation",
   "metadata": {},
   "outputs": [],
   "source": [
    "pd.date_range(end=\"2009/03/28\",periods=25,freq=\"D\")"
   ]
  },
  {
   "cell_type": "code",
   "execution_count": null,
   "id": "suited-bicycle",
   "metadata": {},
   "outputs": [],
   "source": [
    "pd.date_range(end=\"2009/03/28\",periods=25,freq=\"B\")"
   ]
  },
  {
   "cell_type": "code",
   "execution_count": null,
   "id": "deluxe-bridges",
   "metadata": {},
   "outputs": [],
   "source": [
    "pd.date_range(end=\"2009/03/28\",periods=25,freq=\"2B\")"
   ]
  },
  {
   "cell_type": "code",
   "execution_count": null,
   "id": "effective-habitat",
   "metadata": {},
   "outputs": [],
   "source": [
    "pd.date_range(end=\"2009/03/28\",periods=10,freq=\"12h\")"
   ]
  },
  {
   "cell_type": "code",
   "execution_count": null,
   "id": "romantic-grenada",
   "metadata": {},
   "outputs": [],
   "source": [
    "pd.date_range(end=\"2009/03/28\",periods=10,freq=\"w-sat\")"
   ]
  },
  {
   "cell_type": "code",
   "execution_count": null,
   "id": "mediterranean-slave",
   "metadata": {},
   "outputs": [],
   "source": [
    "pd.date_range(end=\"2009/03/28\",periods=25,freq=\"M\")"
   ]
  },
  {
   "cell_type": "code",
   "execution_count": null,
   "id": "dedicated-toddler",
   "metadata": {},
   "outputs": [],
   "source": [
    "pd.date_range(end=\"2009/03/28\",periods=10,freq=\"ms\")"
   ]
  },
  {
   "cell_type": "markdown",
   "id": "boxed-stretch",
   "metadata": {},
   "source": [
    "# .dt Accessor"
   ]
  },
  {
   "cell_type": "code",
   "execution_count": null,
   "id": "universal-louisville",
   "metadata": {},
   "outputs": [],
   "source": [
    "bunch_of_dates=pd.date_range(start=\"2000-01-01\",end=\"2010-12-13\",freq=\"24D\")"
   ]
  },
  {
   "cell_type": "code",
   "execution_count": null,
   "id": "raising-capability",
   "metadata": {},
   "outputs": [],
   "source": [
    "s=pd.Series(bunch_of_dates)# series of dates\n",
    "s.head(3)"
   ]
  },
  {
   "cell_type": "code",
   "execution_count": null,
   "id": "monthly-regulation",
   "metadata": {},
   "outputs": [],
   "source": [
    "s.dt.day # to access only the days from bunch_of_dates."
   ]
  },
  {
   "cell_type": "code",
   "execution_count": null,
   "id": "several-alpha",
   "metadata": {},
   "outputs": [],
   "source": [
    "s.dt.month"
   ]
  },
  {
   "cell_type": "code",
   "execution_count": null,
   "id": "geological-plaintiff",
   "metadata": {},
   "outputs": [],
   "source": [
    "s[s.dt.is_quarter_start] # to check if there are any days where a quarter starts."
   ]
  },
  {
   "cell_type": "code",
   "execution_count": null,
   "id": "anonymous-model",
   "metadata": {},
   "outputs": [],
   "source": [
    "s[s.dt.is_month_start] #to check if there are any days where a month starts."
   ]
  },
  {
   "cell_type": "code",
   "execution_count": null,
   "id": "precious-peoples",
   "metadata": {},
   "outputs": [],
   "source": [
    "stocks"
   ]
  },
  {
   "cell_type": "code",
   "execution_count": null,
   "id": "exotic-window",
   "metadata": {},
   "outputs": [],
   "source": []
  }
 ],
 "metadata": {
  "kernelspec": {
   "display_name": "Python 3",
   "language": "python",
   "name": "python3"
  },
  "language_info": {
   "codemirror_mode": {
    "name": "ipython",
    "version": 3
   },
   "file_extension": ".py",
   "mimetype": "text/x-python",
   "name": "python",
   "nbconvert_exporter": "python",
   "pygments_lexer": "ipython3",
   "version": "3.9.2"
  }
 },
 "nbformat": 4,
 "nbformat_minor": 5
}
