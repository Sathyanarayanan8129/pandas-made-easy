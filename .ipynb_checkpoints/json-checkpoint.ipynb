{
 "cells": [
  {
   "cell_type": "code",
   "execution_count": 24,
   "id": "rotary-tradition",
   "metadata": {},
   "outputs": [
    {
     "data": {
      "text/html": [
       "<div>\n",
       "<style scoped>\n",
       "    .dataframe tbody tr th:only-of-type {\n",
       "        vertical-align: middle;\n",
       "    }\n",
       "\n",
       "    .dataframe tbody tr th {\n",
       "        vertical-align: top;\n",
       "    }\n",
       "\n",
       "    .dataframe thead th {\n",
       "        text-align: right;\n",
       "    }\n",
       "</style>\n",
       "<table border=\"1\" class=\"dataframe\">\n",
       "  <thead>\n",
       "    <tr style=\"text-align: right;\">\n",
       "      <th></th>\n",
       "      <th>squadName</th>\n",
       "      <th>homeTown</th>\n",
       "      <th>formed</th>\n",
       "      <th>secretBase</th>\n",
       "      <th>active</th>\n",
       "      <th>members</th>\n",
       "    </tr>\n",
       "  </thead>\n",
       "  <tbody>\n",
       "    <tr>\n",
       "      <th>0</th>\n",
       "      <td>Super Hero Squad</td>\n",
       "      <td>Metro City</td>\n",
       "      <td>2016</td>\n",
       "      <td>Super tower</td>\n",
       "      <td>True</td>\n",
       "      <td>{'name': 'Molecule Man', 'age': 29, 'secretIde...</td>\n",
       "    </tr>\n",
       "    <tr>\n",
       "      <th>1</th>\n",
       "      <td>Super Hero Squad</td>\n",
       "      <td>Metro City</td>\n",
       "      <td>2016</td>\n",
       "      <td>Super tower</td>\n",
       "      <td>True</td>\n",
       "      <td>{'name': 'Madame Uppercut', 'age': 39, 'secret...</td>\n",
       "    </tr>\n",
       "    <tr>\n",
       "      <th>2</th>\n",
       "      <td>Super Hero Squad</td>\n",
       "      <td>Metro City</td>\n",
       "      <td>2016</td>\n",
       "      <td>Super tower</td>\n",
       "      <td>True</td>\n",
       "      <td>{'name': 'Eternal Flame', 'age': 1000000, 'sec...</td>\n",
       "    </tr>\n",
       "  </tbody>\n",
       "</table>\n",
       "</div>"
      ],
      "text/plain": [
       "          squadName    homeTown  formed   secretBase  active  \\\n",
       "0  Super Hero Squad  Metro City    2016  Super tower    True   \n",
       "1  Super Hero Squad  Metro City    2016  Super tower    True   \n",
       "2  Super Hero Squad  Metro City    2016  Super tower    True   \n",
       "\n",
       "                                             members  \n",
       "0  {'name': 'Molecule Man', 'age': 29, 'secretIde...  \n",
       "1  {'name': 'Madame Uppercut', 'age': 39, 'secret...  \n",
       "2  {'name': 'Eternal Flame', 'age': 1000000, 'sec...  "
      ]
     },
     "execution_count": 24,
     "metadata": {},
     "output_type": "execute_result"
    }
   ],
   "source": [
    "import pandas as pd   # to open json file as a dataframe\n",
    "df = pd.read_json(\"superheroes.json\")\n",
    "df"
   ]
  },
  {
   "cell_type": "code",
   "execution_count": 26,
   "id": "meaning-consultation",
   "metadata": {},
   "outputs": [
    {
     "data": {
      "text/html": [
       "<div>\n",
       "<style scoped>\n",
       "    .dataframe tbody tr th:only-of-type {\n",
       "        vertical-align: middle;\n",
       "    }\n",
       "\n",
       "    .dataframe tbody tr th {\n",
       "        vertical-align: top;\n",
       "    }\n",
       "\n",
       "    .dataframe thead th {\n",
       "        text-align: right;\n",
       "    }\n",
       "</style>\n",
       "<table border=\"1\" class=\"dataframe\">\n",
       "  <thead>\n",
       "    <tr style=\"text-align: right;\">\n",
       "      <th></th>\n",
       "      <th>name</th>\n",
       "      <th>age</th>\n",
       "      <th>secretIdentity</th>\n",
       "      <th>powers</th>\n",
       "      <th>squadName</th>\n",
       "      <th>homeTown</th>\n",
       "      <th>formed</th>\n",
       "      <th>secretBase</th>\n",
       "      <th>active</th>\n",
       "    </tr>\n",
       "  </thead>\n",
       "  <tbody>\n",
       "    <tr>\n",
       "      <th>0</th>\n",
       "      <td>Molecule Man</td>\n",
       "      <td>29</td>\n",
       "      <td>Dan Jukes</td>\n",
       "      <td>[Radiation resistance, Turning tiny, Radiation...</td>\n",
       "      <td>Super Hero Squad</td>\n",
       "      <td>Metro City</td>\n",
       "      <td>2016</td>\n",
       "      <td>Super tower</td>\n",
       "      <td>True</td>\n",
       "    </tr>\n",
       "    <tr>\n",
       "      <th>1</th>\n",
       "      <td>Madame Uppercut</td>\n",
       "      <td>39</td>\n",
       "      <td>Jane Wilson</td>\n",
       "      <td>[Million tonne punch, Damage resistance, Super...</td>\n",
       "      <td>Super Hero Squad</td>\n",
       "      <td>Metro City</td>\n",
       "      <td>2016</td>\n",
       "      <td>Super tower</td>\n",
       "      <td>True</td>\n",
       "    </tr>\n",
       "    <tr>\n",
       "      <th>2</th>\n",
       "      <td>Eternal Flame</td>\n",
       "      <td>1000000</td>\n",
       "      <td>Unknown</td>\n",
       "      <td>[Immortality, Heat Immunity, Inferno, Teleport...</td>\n",
       "      <td>Super Hero Squad</td>\n",
       "      <td>Metro City</td>\n",
       "      <td>2016</td>\n",
       "      <td>Super tower</td>\n",
       "      <td>True</td>\n",
       "    </tr>\n",
       "  </tbody>\n",
       "</table>\n",
       "</div>"
      ],
      "text/plain": [
       "              name      age secretIdentity  \\\n",
       "0     Molecule Man       29      Dan Jukes   \n",
       "1  Madame Uppercut       39    Jane Wilson   \n",
       "2    Eternal Flame  1000000        Unknown   \n",
       "\n",
       "                                              powers         squadName  \\\n",
       "0  [Radiation resistance, Turning tiny, Radiation...  Super Hero Squad   \n",
       "1  [Million tonne punch, Damage resistance, Super...  Super Hero Squad   \n",
       "2  [Immortality, Heat Immunity, Inferno, Teleport...  Super Hero Squad   \n",
       "\n",
       "     homeTown formed   secretBase active  \n",
       "0  Metro City   2016  Super tower   True  \n",
       "1  Metro City   2016  Super tower   True  \n",
       "2  Metro City   2016  Super tower   True  "
      ]
     },
     "execution_count": 26,
     "metadata": {},
     "output_type": "execute_result"
    }
   ],
   "source": [
    "pd.json_normalize(superHeroSquad, record_path = ['members'], meta =\n",
    "['squadName', 'homeTown', 'formed', 'secretBase', 'active'])"
   ]
  },
  {
   "cell_type": "code",
   "execution_count": 3,
   "id": "center-exercise",
   "metadata": {},
   "outputs": [],
   "source": [
    "import json"
   ]
  },
  {
   "cell_type": "code",
   "execution_count": 40,
   "id": "early-alcohol",
   "metadata": {},
   "outputs": [],
   "source": [
    "file=open('superheroes.json','r')"
   ]
  },
  {
   "cell_type": "code",
   "execution_count": 41,
   "id": "thirty-infrared",
   "metadata": {},
   "outputs": [
    {
     "data": {
      "text/plain": [
       "dict"
      ]
     },
     "execution_count": 41,
     "metadata": {},
     "output_type": "execute_result"
    }
   ],
   "source": [
    "superHeroSquad=json.load(file) # to open json file as python dict\n",
    "#superHeroSquad.keys()\n",
    "type(superHeroSquad)"
   ]
  },
  {
   "cell_type": "code",
   "execution_count": 44,
   "id": "psychological-region",
   "metadata": {},
   "outputs": [
    {
     "data": {
      "text/plain": [
       "'Jane Wilson'"
      ]
     },
     "execution_count": 44,
     "metadata": {},
     "output_type": "execute_result"
    }
   ],
   "source": [
    "superHeroSquad['members'][1]['secretIdentity']"
   ]
  },
  {
   "cell_type": "code",
   "execution_count": 32,
   "id": "deluxe-brother",
   "metadata": {},
   "outputs": [],
   "source": [
    "#update secret identity of Eternal Flame\n",
    "superHeroSquad['members'][2]['secretIdentity'] = 'Will Smith'"
   ]
  },
  {
   "cell_type": "code",
   "execution_count": 33,
   "id": "arabic-audit",
   "metadata": {},
   "outputs": [],
   "source": [
    "file=open('superheroes.json', 'w') #write the updation to actual \n",
    "json.dump(superHeroSquad, file)    # superheroes.json file\n"
   ]
  },
  {
   "cell_type": "code",
   "execution_count": 36,
   "id": "working-cream",
   "metadata": {},
   "outputs": [
    {
     "data": {
      "text/plain": [
       "{'squadName': 'Super Hero Squad',\n",
       " 'homeTown': 'Metro City',\n",
       " 'formed': 2016,\n",
       " 'secretBase': 'Super tower',\n",
       " 'active': True,\n",
       " 'members': [{'name': 'Molecule Man',\n",
       "   'age': 29,\n",
       "   'secretIdentity': 'Dan Jukes',\n",
       "   'powers': ['Radiation resistance', 'Turning tiny', 'Radiation blast']},\n",
       "  {'name': 'Madame Uppercut',\n",
       "   'age': 39,\n",
       "   'secretIdentity': 'Jane Wilson',\n",
       "   'powers': ['Million tonne punch',\n",
       "    'Damage resistance',\n",
       "    'Superhuman reflexes']},\n",
       "  {'name': 'Eternal Flame',\n",
       "   'age': 1000000,\n",
       "   'secretIdentity': 'Will Smith',\n",
       "   'powers': ['Immortality',\n",
       "    'Heat Immunity',\n",
       "    'Inferno',\n",
       "    'Teleportation',\n",
       "    'Interdimensional travel']}]}"
      ]
     },
     "execution_count": 36,
     "metadata": {},
     "output_type": "execute_result"
    }
   ],
   "source": [
    "file=open('superheroes.json', 'r') # to check the updation load \n",
    "json.load(file)                    # the json file  as python dict"
   ]
  },
  {
   "cell_type": "code",
   "execution_count": null,
   "id": "liable-strengthening",
   "metadata": {},
   "outputs": [],
   "source": []
  }
 ],
 "metadata": {
  "kernelspec": {
   "display_name": "Python 3",
   "language": "python",
   "name": "python3"
  },
  "language_info": {
   "codemirror_mode": {
    "name": "ipython",
    "version": 3
   },
   "file_extension": ".py",
   "mimetype": "text/x-python",
   "name": "python",
   "nbconvert_exporter": "python",
   "pygments_lexer": "ipython3",
   "version": "3.9.2"
  }
 },
 "nbformat": 4,
 "nbformat_minor": 5
}
