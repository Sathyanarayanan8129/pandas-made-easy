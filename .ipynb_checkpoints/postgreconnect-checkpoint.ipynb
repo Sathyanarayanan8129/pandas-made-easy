{
 "cells": [
  {
   "cell_type": "code",
   "execution_count": 1,
   "id": "opposite-adventure",
   "metadata": {},
   "outputs": [],
   "source": [
    "import psycopg2"
   ]
  },
  {
   "cell_type": "code",
   "execution_count": 2,
   "id": "lonely-manufacturer",
   "metadata": {},
   "outputs": [],
   "source": [
    "conn=psycopg2.connect(database=\"Course_data\",\n",
    "                      user=\"postgres\",\n",
    "                      password=\"rohini28\")"
   ]
  },
  {
   "cell_type": "code",
   "execution_count": 3,
   "id": "alien-fellow",
   "metadata": {},
   "outputs": [],
   "source": [
    "crsr=conn.cursor()"
   ]
  },
  {
   "cell_type": "code",
   "execution_count": null,
   "id": "miniature-management",
   "metadata": {},
   "outputs": [],
   "source": [
    "crsr.execute(\"select department from employees\")"
   ]
  },
  {
   "cell_type": "code",
   "execution_count": null,
   "id": "elegant-mainland",
   "metadata": {},
   "outputs": [],
   "source": [
    "c"
   ]
  },
  {
   "cell_type": "code",
   "execution_count": null,
   "id": "smaller-munich",
   "metadata": {},
   "outputs": [],
   "source": []
  },
  {
   "cell_type": "raw",
   "id": "amazing-shooting",
   "metadata": {},
   "source": []
  }
 ],
 "metadata": {
  "kernelspec": {
   "display_name": "Python 3",
   "language": "python",
   "name": "python3"
  },
  "language_info": {
   "codemirror_mode": {
    "name": "ipython",
    "version": 3
   },
   "file_extension": ".py",
   "mimetype": "text/x-python",
   "name": "python",
   "nbconvert_exporter": "python",
   "pygments_lexer": "ipython3",
   "version": "3.9.2"
  }
 },
 "nbformat": 4,
 "nbformat_minor": 5
}
