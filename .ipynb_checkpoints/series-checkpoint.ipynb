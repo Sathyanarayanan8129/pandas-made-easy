{
 "cells": [
  {
   "cell_type": "code",
   "execution_count": 1,
   "id": "informal-oracle",
   "metadata": {},
   "outputs": [],
   "source": [
    "import numpy as np"
   ]
  },
  {
   "cell_type": "code",
   "execution_count": 2,
   "id": "sophisticated-citizen",
   "metadata": {},
   "outputs": [],
   "source": [
    "import pandas as pd"
   ]
  },
  {
   "cell_type": "code",
   "execution_count": 3,
   "id": "chronic-apple",
   "metadata": {},
   "outputs": [],
   "source": [
    "labels=[\"a\",\"b\",\"c\"]\n",
    "my_data=[10,20,30]\n",
    "arr=np.array(my_data)\n",
    "d={\"a\":10,\n",
    "   \"b\":20,\n",
    "   \"c\":30}"
   ]
  },
  {
   "cell_type": "code",
   "execution_count": 7,
   "id": "cheap-bandwidth",
   "metadata": {},
   "outputs": [
    {
     "data": {
      "text/plain": [
       "a    10\n",
       "b    20\n",
       "c    30\n",
       "dtype: int64"
      ]
     },
     "execution_count": 7,
     "metadata": {},
     "output_type": "execute_result"
    }
   ],
   "source": [
    "pd.Series(data=my_data,index=labels)"
   ]
  },
  {
   "cell_type": "code",
   "execution_count": 8,
   "id": "chemical-newfoundland",
   "metadata": {},
   "outputs": [
    {
     "data": {
      "text/plain": [
       "a    10\n",
       "b    20\n",
       "c    30\n",
       "dtype: int64"
      ]
     },
     "execution_count": 8,
     "metadata": {},
     "output_type": "execute_result"
    }
   ],
   "source": [
    "pd.Series(my_data,labels) #another way of defining series"
   ]
  },
  {
   "cell_type": "code",
   "execution_count": 14,
   "id": "regulated-baker",
   "metadata": {},
   "outputs": [
    {
     "data": {
      "text/plain": [
       "a    10\n",
       "b    20\n",
       "c    30\n",
       "dtype: int32"
      ]
     },
     "execution_count": 14,
     "metadata": {},
     "output_type": "execute_result"
    }
   ],
   "source": [
    "pd.Series(arr,labels)"
   ]
  },
  {
   "cell_type": "code",
   "execution_count": 15,
   "id": "ultimate-minutes",
   "metadata": {},
   "outputs": [
    {
     "data": {
      "text/plain": [
       "a    10\n",
       "b    20\n",
       "c    30\n",
       "dtype: int64"
      ]
     },
     "execution_count": 15,
     "metadata": {},
     "output_type": "execute_result"
    }
   ],
   "source": [
    "pd.Series(d)"
   ]
  },
  {
   "cell_type": "code",
   "execution_count": 23,
   "id": "smoking-quantum",
   "metadata": {},
   "outputs": [
    {
     "data": {
      "text/plain": [
       "0      <built-in function sum>\n",
       "1      <built-in function len>\n",
       "2    <built-in function print>\n",
       "dtype: object"
      ]
     },
     "execution_count": 23,
     "metadata": {},
     "output_type": "execute_result"
    }
   ],
   "source": [
    "pd.Series(data=(sum,len,print))# we can pass built in functions as data in pandas series"
   ]
  },
  {
   "cell_type": "code",
   "execution_count": 24,
   "id": "concerned-kennedy",
   "metadata": {},
   "outputs": [],
   "source": [
    "ser1=pd.Series([1,2,3,4],['USA','India','germany','Italy'])"
   ]
  },
  {
   "cell_type": "code",
   "execution_count": 25,
   "id": "infectious-arcade",
   "metadata": {},
   "outputs": [
    {
     "data": {
      "text/plain": [
       "USA        1\n",
       "India      2\n",
       "germany    3\n",
       "Italy      4\n",
       "dtype: int64"
      ]
     },
     "execution_count": 25,
     "metadata": {},
     "output_type": "execute_result"
    }
   ],
   "source": [
    "ser1"
   ]
  },
  {
   "cell_type": "code",
   "execution_count": 26,
   "id": "brief-grammar",
   "metadata": {},
   "outputs": [],
   "source": [
    "ser2=pd.Series([1,2,3,5],['USA','Russia','China','India'])"
   ]
  },
  {
   "cell_type": "code",
   "execution_count": 27,
   "id": "pregnant-threshold",
   "metadata": {},
   "outputs": [
    {
     "data": {
      "text/plain": [
       "USA       1\n",
       "Russia    2\n",
       "China     3\n",
       "India     5\n",
       "dtype: int64"
      ]
     },
     "execution_count": 27,
     "metadata": {},
     "output_type": "execute_result"
    }
   ],
   "source": [
    "ser2"
   ]
  },
  {
   "cell_type": "code",
   "execution_count": 28,
   "id": "modified-terminal",
   "metadata": {},
   "outputs": [
    {
     "data": {
      "text/plain": [
       "1"
      ]
     },
     "execution_count": 28,
     "metadata": {},
     "output_type": "execute_result"
    }
   ],
   "source": [
    "ser1['USA'] # how to call a value in ser1 ,it can be done using the index as parameter"
   ]
  },
  {
   "cell_type": "code",
   "execution_count": 29,
   "id": "young-moscow",
   "metadata": {},
   "outputs": [
    {
     "data": {
      "text/plain": [
       "5"
      ]
     },
     "execution_count": 29,
     "metadata": {},
     "output_type": "execute_result"
    }
   ],
   "source": [
    "ser2['India']"
   ]
  },
  {
   "cell_type": "code",
   "execution_count": 30,
   "id": "statistical-columbus",
   "metadata": {},
   "outputs": [
    {
     "data": {
      "text/plain": [
       "China      NaN\n",
       "India      7.0\n",
       "Italy      NaN\n",
       "Russia     NaN\n",
       "USA        2.0\n",
       "germany    NaN\n",
       "dtype: float64"
      ]
     },
     "execution_count": 30,
     "metadata": {},
     "output_type": "execute_result"
    }
   ],
   "source": [
    "ser1 + ser2"
   ]
  },
  {
   "cell_type": "code",
   "execution_count": null,
   "id": "historic-intervention",
   "metadata": {},
   "outputs": [],
   "source": []
  }
 ],
 "metadata": {
  "kernelspec": {
   "display_name": "Python 3",
   "language": "python",
   "name": "python3"
  },
  "language_info": {
   "codemirror_mode": {
    "name": "ipython",
    "version": 3
   },
   "file_extension": ".py",
   "mimetype": "text/x-python",
   "name": "python",
   "nbconvert_exporter": "python",
   "pygments_lexer": "ipython3",
   "version": "3.9.2"
  }
 },
 "nbformat": 4,
 "nbformat_minor": 5
}
