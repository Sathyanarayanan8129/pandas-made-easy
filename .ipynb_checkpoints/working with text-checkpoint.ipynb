{
 "cells": [
  {
   "cell_type": "code",
   "execution_count": 1,
   "id": "automatic-hearts",
   "metadata": {},
   "outputs": [],
   "source": [
    "import pandas as pd"
   ]
  },
  {
   "cell_type": "code",
   "execution_count": 2,
   "id": "bridal-poverty",
   "metadata": {},
   "outputs": [
    {
     "data": {
      "text/html": [
       "<div>\n",
       "<style scoped>\n",
       "    .dataframe tbody tr th:only-of-type {\n",
       "        vertical-align: middle;\n",
       "    }\n",
       "\n",
       "    .dataframe tbody tr th {\n",
       "        vertical-align: top;\n",
       "    }\n",
       "\n",
       "    .dataframe thead th {\n",
       "        text-align: right;\n",
       "    }\n",
       "</style>\n",
       "<table border=\"1\" class=\"dataframe\">\n",
       "  <thead>\n",
       "    <tr style=\"text-align: right;\">\n",
       "      <th></th>\n",
       "      <th>Name</th>\n",
       "      <th>Job Titles</th>\n",
       "      <th>Department</th>\n",
       "      <th>Full or Part-Time</th>\n",
       "      <th>Salary or Hourly</th>\n",
       "      <th>Typical Hours</th>\n",
       "      <th>Annual Salary</th>\n",
       "      <th>Hourly Rate</th>\n",
       "    </tr>\n",
       "  </thead>\n",
       "  <tbody>\n",
       "    <tr>\n",
       "      <th>32807</th>\n",
       "      <td>ZYLINSKA,  KATARZYNA</td>\n",
       "      <td>POLICE OFFICER</td>\n",
       "      <td>POLICE</td>\n",
       "      <td>F</td>\n",
       "      <td>Salary</td>\n",
       "      <td>NaN</td>\n",
       "      <td>$72,510.00</td>\n",
       "      <td>NaN</td>\n",
       "    </tr>\n",
       "    <tr>\n",
       "      <th>32808</th>\n",
       "      <td>ZYMANTAS,  LAURA C</td>\n",
       "      <td>POLICE OFFICER</td>\n",
       "      <td>POLICE</td>\n",
       "      <td>F</td>\n",
       "      <td>Salary</td>\n",
       "      <td>NaN</td>\n",
       "      <td>$48,078.00</td>\n",
       "      <td>NaN</td>\n",
       "    </tr>\n",
       "    <tr>\n",
       "      <th>32809</th>\n",
       "      <td>ZYMANTAS,  MARK E</td>\n",
       "      <td>POLICE OFFICER</td>\n",
       "      <td>POLICE</td>\n",
       "      <td>F</td>\n",
       "      <td>Salary</td>\n",
       "      <td>NaN</td>\n",
       "      <td>$87,006.00</td>\n",
       "      <td>NaN</td>\n",
       "    </tr>\n",
       "    <tr>\n",
       "      <th>32810</th>\n",
       "      <td>ZYRKOWSKI,  CARLO E</td>\n",
       "      <td>POLICE OFFICER</td>\n",
       "      <td>POLICE</td>\n",
       "      <td>F</td>\n",
       "      <td>Salary</td>\n",
       "      <td>NaN</td>\n",
       "      <td>$93,354.00</td>\n",
       "      <td>NaN</td>\n",
       "    </tr>\n",
       "    <tr>\n",
       "      <th>32811</th>\n",
       "      <td>ZYSKOWSKI,  DARIUSZ</td>\n",
       "      <td>CHIEF DATA BASE ANALYST</td>\n",
       "      <td>DoIT</td>\n",
       "      <td>F</td>\n",
       "      <td>Salary</td>\n",
       "      <td>NaN</td>\n",
       "      <td>$115,932.00</td>\n",
       "      <td>NaN</td>\n",
       "    </tr>\n",
       "  </tbody>\n",
       "</table>\n",
       "</div>"
      ],
      "text/plain": [
       "                        Name               Job Titles Department  \\\n",
       "32807  ZYLINSKA,  KATARZYNA            POLICE OFFICER     POLICE   \n",
       "32808     ZYMANTAS,  LAURA C           POLICE OFFICER     POLICE   \n",
       "32809      ZYMANTAS,  MARK E           POLICE OFFICER     POLICE   \n",
       "32810    ZYRKOWSKI,  CARLO E           POLICE OFFICER     POLICE   \n",
       "32811   ZYSKOWSKI,  DARIUSZ   CHIEF DATA BASE ANALYST       DoIT   \n",
       "\n",
       "      Full or Part-Time Salary or Hourly  Typical Hours Annual Salary  \\\n",
       "32807                 F           Salary            NaN   $72,510.00    \n",
       "32808                 F           Salary            NaN   $48,078.00    \n",
       "32809                 F           Salary            NaN   $87,006.00    \n",
       "32810                 F           Salary            NaN   $93,354.00    \n",
       "32811                 F           Salary            NaN  $115,932.00    \n",
       "\n",
       "      Hourly Rate  \n",
       "32807         NaN  \n",
       "32808         NaN  \n",
       "32809         NaN  \n",
       "32810         NaN  \n",
       "32811         NaN  "
      ]
     },
     "execution_count": 2,
     "metadata": {},
     "output_type": "execute_result"
    }
   ],
   "source": [
    "chic=pd.read_csv('chicago-employees.csv').dropna(how=\"all\")\n",
    "chic['Department']=chic['Department'].astype('category') #converting deprtmentto category\n",
    "chic.tail()"
   ]
  },
  {
   "cell_type": "code",
   "execution_count": 3,
   "id": "foreign-force",
   "metadata": {
    "scrolled": true
   },
   "outputs": [
    {
     "data": {
      "text/plain": [
       "Name                 32520\n",
       "Job Titles            1121\n",
       "Department              36\n",
       "Full or Part-Time        2\n",
       "Salary or Hourly         2\n",
       "Typical Hours            4\n",
       "Annual Salary         1017\n",
       "Hourly Rate            171\n",
       "dtype: int64"
      ]
     },
     "execution_count": 3,
     "metadata": {},
     "output_type": "execute_result"
    }
   ],
   "source": [
    "chic.nunique() # unique values in each column"
   ]
  },
  {
   "cell_type": "code",
   "execution_count": 4,
   "id": "secret-testimony",
   "metadata": {},
   "outputs": [
    {
     "data": {
      "text/plain": [
       "CategoricalDtype(categories=['ADMIN HEARNG', 'ANIMAL CONTRL', 'AVIATION',\n",
       "                  'BOARD OF ELECTION', 'BOARD OF ETHICS', 'BUDGET & MGMT',\n",
       "                  'BUILDINGS', 'BUSINESS AFFAIRS', 'CITY CLERK',\n",
       "                  'CITY COUNCIL', 'COMMUNITY DEVELOPMENT', 'COPA',\n",
       "                  'CULTURAL AFFAIRS', 'DISABILITIES', 'DoIT',\n",
       "                  'FAMILY & SUPPORT', 'FINANCE', 'FIRE', 'GENERAL SERVICES',\n",
       "                  'HEALTH', 'HUMAN RELATIONS', 'HUMAN RESOURCES',\n",
       "                  'INSPECTOR GEN', 'IPRA', 'LAW', 'LICENSE APPL COMM',\n",
       "                  'MAYOR'S OFFICE', 'OEMC', 'POLICE', 'POLICE BOARD',\n",
       "                  'PROCUREMENT', 'PUBLIC LIBRARY', 'STREETS & SAN',\n",
       "                  'TRANSPORTN', 'TREASURER', 'WATER MGMNT'],\n",
       ", ordered=False)"
      ]
     },
     "execution_count": 4,
     "metadata": {},
     "output_type": "execute_result"
    }
   ],
   "source": [
    "chic['Department'].dtype #categorical dtype"
   ]
  },
  {
   "cell_type": "code",
   "execution_count": 5,
   "id": "complete-elimination",
   "metadata": {},
   "outputs": [
    {
     "data": {
      "text/plain": [
       "'HELLO WORLD'"
      ]
     },
     "execution_count": 5,
     "metadata": {},
     "output_type": "execute_result"
    }
   ],
   "source": [
    "#\"HELLO WORLD\".lower() # convert to lower case\\\n",
    "\"hello world\".upper() # convert to upper case"
   ]
  },
  {
   "cell_type": "code",
   "execution_count": 6,
   "id": "domestic-diameter",
   "metadata": {},
   "outputs": [
    {
     "data": {
      "text/plain": [
       "'Hello World'"
      ]
     },
     "execution_count": 6,
     "metadata": {},
     "output_type": "execute_result"
    }
   ],
   "source": [
    "\"hello world\".title() # converts first letter to uppercaselen)"
   ]
  },
  {
   "cell_type": "code",
   "execution_count": 7,
   "id": "conservative-ticket",
   "metadata": {},
   "outputs": [
    {
     "data": {
      "text/plain": [
       "11"
      ]
     },
     "execution_count": 7,
     "metadata": {},
     "output_type": "execute_result"
    }
   ],
   "source": [
    "len(\"hello world\")"
   ]
  },
  {
   "cell_type": "markdown",
   "id": "fantastic-circus",
   "metadata": {},
   "source": [
    "USING ABOVE FUNCTIONS TO A SERIES"
   ]
  },
  {
   "cell_type": "code",
   "execution_count": 8,
   "id": "european-technician",
   "metadata": {},
   "outputs": [
    {
     "data": {
      "text/plain": [
       "0            Aaron,  Jeffery M\n",
       "1              Aaron,  Karina \n",
       "2          Aaron,  Kimberlei R\n",
       "3          Abad Jr,  Vicente M\n",
       "4           Abarca,  Emmanuel \n",
       "                 ...          \n",
       "32807    Zylinska,  Katarzyna \n",
       "32808       Zymantas,  Laura C\n",
       "32809        Zymantas,  Mark E\n",
       "32810      Zyrkowski,  Carlo E\n",
       "32811     Zyskowski,  Dariusz \n",
       "Name: Name, Length: 32812, dtype: object"
      ]
     },
     "execution_count": 8,
     "metadata": {},
     "output_type": "execute_result"
    }
   ],
   "source": [
    "chic['Name'].str.title() # so inorder to apply to a column use .str then use string functions."
   ]
  },
  {
   "cell_type": "code",
   "execution_count": 9,
   "id": "paperback-assurance",
   "metadata": {},
   "outputs": [
    {
     "data": {
      "text/plain": [
       "0            aaron,  jeffery m\n",
       "1              aaron,  karina \n",
       "2          aaron,  kimberlei r\n",
       "3          abad jr,  vicente m\n",
       "4           abarca,  emmanuel \n",
       "                 ...          \n",
       "32807    zylinska,  katarzyna \n",
       "32808       zymantas,  laura c\n",
       "32809        zymantas,  mark e\n",
       "32810      zyrkowski,  carlo e\n",
       "32811     zyskowski,  dariusz \n",
       "Name: Name, Length: 32812, dtype: object"
      ]
     },
     "execution_count": 9,
     "metadata": {},
     "output_type": "execute_result"
    }
   ],
   "source": [
    "chic['Name'].str.lower()"
   ]
  },
  {
   "cell_type": "code",
   "execution_count": 10,
   "id": "empty-grass",
   "metadata": {},
   "outputs": [
    {
     "data": {
      "text/plain": [
       "0            AARON,  JEFFERY M\n",
       "1              AARON,  KARINA \n",
       "2          AARON,  KIMBERLEI R\n",
       "3          ABAD JR,  VICENTE M\n",
       "4           ABARCA,  EMMANUEL \n",
       "                 ...          \n",
       "32807    ZYLINSKA,  KATARZYNA \n",
       "32808       ZYMANTAS,  LAURA C\n",
       "32809        ZYMANTAS,  MARK E\n",
       "32810      ZYRKOWSKI,  CARLO E\n",
       "32811     ZYSKOWSKI,  DARIUSZ \n",
       "Name: Name, Length: 32812, dtype: object"
      ]
     },
     "execution_count": 10,
     "metadata": {},
     "output_type": "execute_result"
    }
   ],
   "source": [
    "chic['Name'].str.upper()"
   ]
  },
  {
   "cell_type": "code",
   "execution_count": 11,
   "id": "novel-engineering",
   "metadata": {},
   "outputs": [
    {
     "data": {
      "text/plain": [
       "0            AARON,  JEFFERY M\n",
       "1              AARON,  KARINA \n",
       "2          AARON,  KIMBERLEI R\n",
       "3          ABAD JR,  VICENTE M\n",
       "4           ABARCA,  EMMANUEL \n",
       "                 ...          \n",
       "32807    ZYLINSKA,  KATARZYNA \n",
       "32808       ZYMANTAS,  LAURA C\n",
       "32809        ZYMANTAS,  MARK E\n",
       "32810      ZYRKOWSKI,  CARLO E\n",
       "32811     ZYSKOWSKI,  DARIUSZ \n",
       "Name: Name, Length: 32812, dtype: object"
      ]
     },
     "execution_count": 11,
     "metadata": {},
     "output_type": "execute_result"
    }
   ],
   "source": [
    "chic['Name'].str.lower().str.upper()"
   ]
  },
  {
   "cell_type": "code",
   "execution_count": 12,
   "id": "pacific-hygiene",
   "metadata": {},
   "outputs": [],
   "source": [
    "chic['Job Titles']=chic['Job Titles'].str.title()"
   ]
  },
  {
   "cell_type": "code",
   "execution_count": 13,
   "id": "motivated-eating",
   "metadata": {},
   "outputs": [
    {
     "data": {
      "text/plain": [
       "32812"
      ]
     },
     "execution_count": 13,
     "metadata": {},
     "output_type": "execute_result"
    }
   ],
   "source": [
    "len(chic['Name']) "
   ]
  },
  {
   "cell_type": "code",
   "execution_count": 14,
   "id": "turkish-interaction",
   "metadata": {},
   "outputs": [
    {
     "data": {
      "text/plain": [
       "0        17\n",
       "1        15\n",
       "2        19\n",
       "3        19\n",
       "4        18\n",
       "         ..\n",
       "32807    21\n",
       "32808    18\n",
       "32809    17\n",
       "32810    19\n",
       "32811    20\n",
       "Name: Name, Length: 32812, dtype: int64"
      ]
     },
     "execution_count": 14,
     "metadata": {},
     "output_type": "execute_result"
    }
   ],
   "source": [
    "chic['Name'].str.len() # to find len of each string in a column\n",
    "       #in python,len is a built in function but in pandas it is a method"
   ]
  },
  {
   "cell_type": "code",
   "execution_count": 15,
   "id": "individual-palestine",
   "metadata": {},
   "outputs": [
    {
     "data": {
      "text/plain": [
       "0            Aaron,  jeffery m\n",
       "1              Aaron,  karina \n",
       "2          Aaron,  kimberlei r\n",
       "3          Abad jr,  vicente m\n",
       "4           Abarca,  emmanuel \n",
       "                 ...          \n",
       "32807    Zylinska,  katarzyna \n",
       "32808       Zymantas,  laura c\n",
       "32809        Zymantas,  mark e\n",
       "32810      Zyrkowski,  carlo e\n",
       "32811     Zyskowski,  dariusz \n",
       "Name: Name, Length: 32812, dtype: object"
      ]
     },
     "execution_count": 15,
     "metadata": {},
     "output_type": "execute_result"
    }
   ],
   "source": [
    "chic['Name'].str.capitalize() #just first character to uppercase and rest lowercase."
   ]
  },
  {
   "cell_type": "code",
   "execution_count": 16,
   "id": "phantom-customer",
   "metadata": {},
   "outputs": [
    {
     "data": {
      "text/plain": [
       "0            aaron,  jeffery m\n",
       "1              aaron,  karina \n",
       "2          aaron,  kimberlei r\n",
       "3          abad jr,  vicente m\n",
       "4           abarca,  emmanuel \n",
       "                 ...          \n",
       "32807    zylinska,  katarzyna \n",
       "32808       zymantas,  laura c\n",
       "32809        zymantas,  mark e\n",
       "32810      zyrkowski,  carlo e\n",
       "32811     zyskowski,  dariusz \n",
       "Name: Name, Length: 32812, dtype: object"
      ]
     },
     "execution_count": 16,
     "metadata": {},
     "output_type": "execute_result"
    }
   ],
   "source": [
    "chic['Name'].str.casefold() # returns a a string where all characters are in lower case"
   ]
  },
  {
   "cell_type": "code",
   "execution_count": 17,
   "id": "integral-chance",
   "metadata": {},
   "outputs": [
    {
     "data": {
      "text/plain": [
       "'He!!o Wor!d'"
      ]
     },
     "execution_count": 17,
     "metadata": {},
     "output_type": "execute_result"
    }
   ],
   "source": [
    " \"Hello World\".replace(\"l\",'!')"
   ]
  },
  {
   "cell_type": "code",
   "execution_count": 18,
   "id": "south-response",
   "metadata": {},
   "outputs": [],
   "source": [
    "chic['Department']=chic['Department'].str.replace('MGMNT','MANAGEMENT') # replace mgmnt with management"
   ]
  },
  {
   "cell_type": "code",
   "execution_count": 19,
   "id": "through-florence",
   "metadata": {},
   "outputs": [
    {
     "name": "stderr",
     "output_type": "stream",
     "text": [
      "<ipython-input-19-d3c84681d6a2>:1: FutureWarning: The default value of regex will change from True to False in a future version. In addition, single character regular expressions will*not* be treated as literal strings when regex=True.\n",
      "  chic['Annual Salary']=chic['Annual Salary'].str.replace('$','').str.replace(',','').astype(float)\n"
     ]
    }
   ],
   "source": [
    "chic['Annual Salary']=chic['Annual Salary'].str.replace('$','').str.replace(',','').astype(float)\n",
    "# changing string to float also removing , and $"
   ]
  },
  {
   "cell_type": "code",
   "execution_count": 20,
   "id": "stone-afghanistan",
   "metadata": {},
   "outputs": [
    {
     "data": {
      "text/plain": [
       "2178570595.68"
      ]
     },
     "execution_count": 20,
     "metadata": {},
     "output_type": "execute_result"
    }
   ],
   "source": [
    "chic['Annual Salary'].sum()"
   ]
  },
  {
   "cell_type": "code",
   "execution_count": 21,
   "id": "cognitive-chorus",
   "metadata": {},
   "outputs": [
    {
     "data": {
      "text/plain": [
       "8315     300000.0\n",
       "13985    260004.0\n",
       "8083     216210.0\n",
       "26099    202728.0\n",
       "9075     197736.0\n",
       "Name: Annual Salary, dtype: float64"
      ]
     },
     "execution_count": 21,
     "metadata": {},
     "output_type": "execute_result"
    }
   ],
   "source": [
    "chic['Annual Salary'].nlargest(5) # 5 largest salaries"
   ]
  },
  {
   "cell_type": "markdown",
   "id": "unlikely-crawford",
   "metadata": {},
   "source": [
    "USING CONTAINS METHOD"
   ]
  },
  {
   "cell_type": "code",
   "execution_count": 22,
   "id": "preceding-shoulder",
   "metadata": {},
   "outputs": [],
   "source": [
    "mask=chic['Job Titles'].str.lower().str.contains('water') # to find labourer in the series"
   ]
  },
  {
   "cell_type": "code",
   "execution_count": 23,
   "id": "random-joshua",
   "metadata": {},
   "outputs": [
    {
     "data": {
      "text/html": [
       "<div>\n",
       "<style scoped>\n",
       "    .dataframe tbody tr th:only-of-type {\n",
       "        vertical-align: middle;\n",
       "    }\n",
       "\n",
       "    .dataframe tbody tr th {\n",
       "        vertical-align: top;\n",
       "    }\n",
       "\n",
       "    .dataframe thead th {\n",
       "        text-align: right;\n",
       "    }\n",
       "</style>\n",
       "<table border=\"1\" class=\"dataframe\">\n",
       "  <thead>\n",
       "    <tr style=\"text-align: right;\">\n",
       "      <th></th>\n",
       "      <th>Name</th>\n",
       "      <th>Job Titles</th>\n",
       "      <th>Department</th>\n",
       "      <th>Full or Part-Time</th>\n",
       "      <th>Salary or Hourly</th>\n",
       "      <th>Typical Hours</th>\n",
       "      <th>Annual Salary</th>\n",
       "      <th>Hourly Rate</th>\n",
       "    </tr>\n",
       "  </thead>\n",
       "  <tbody>\n",
       "    <tr>\n",
       "      <th>569</th>\n",
       "      <td>ALUISE,  VINCENT G</td>\n",
       "      <td>Foreman Of Water Pipe Construction</td>\n",
       "      <td>WATER MANAGEMENT</td>\n",
       "      <td>F</td>\n",
       "      <td>Hourly</td>\n",
       "      <td>40.0</td>\n",
       "      <td>NaN</td>\n",
       "      <td>$50.25</td>\n",
       "    </tr>\n",
       "    <tr>\n",
       "      <th>693</th>\n",
       "      <td>ANDER,  PERRY A</td>\n",
       "      <td>Water Chemist Ii</td>\n",
       "      <td>WATER MANAGEMENT</td>\n",
       "      <td>F</td>\n",
       "      <td>Salary</td>\n",
       "      <td>NaN</td>\n",
       "      <td>84516.0</td>\n",
       "      <td>NaN</td>\n",
       "    </tr>\n",
       "    <tr>\n",
       "      <th>707</th>\n",
       "      <td>ANDERSON,  ANDREW J</td>\n",
       "      <td>District Superintendent Of Water Distribution</td>\n",
       "      <td>WATER MANAGEMENT</td>\n",
       "      <td>F</td>\n",
       "      <td>Salary</td>\n",
       "      <td>NaN</td>\n",
       "      <td>111456.0</td>\n",
       "      <td>NaN</td>\n",
       "    </tr>\n",
       "    <tr>\n",
       "      <th>726</th>\n",
       "      <td>ANDERSON,  DONALD</td>\n",
       "      <td>Foreman Of Water Pipe Construction</td>\n",
       "      <td>WATER MANAGEMENT</td>\n",
       "      <td>F</td>\n",
       "      <td>Hourly</td>\n",
       "      <td>40.0</td>\n",
       "      <td>NaN</td>\n",
       "      <td>$50.25</td>\n",
       "    </tr>\n",
       "    <tr>\n",
       "      <th>737</th>\n",
       "      <td>ANDERSON,  HARVEY</td>\n",
       "      <td>Water Meter Machinist</td>\n",
       "      <td>WATER MANAGEMENT</td>\n",
       "      <td>F</td>\n",
       "      <td>Hourly</td>\n",
       "      <td>40.0</td>\n",
       "      <td>NaN</td>\n",
       "      <td>$40.70</td>\n",
       "    </tr>\n",
       "    <tr>\n",
       "      <th>...</th>\n",
       "      <td>...</td>\n",
       "      <td>...</td>\n",
       "      <td>...</td>\n",
       "      <td>...</td>\n",
       "      <td>...</td>\n",
       "      <td>...</td>\n",
       "      <td>...</td>\n",
       "      <td>...</td>\n",
       "    </tr>\n",
       "    <tr>\n",
       "      <th>30969</th>\n",
       "      <td>WASHINGTON,  JOSEPH</td>\n",
       "      <td>Water Chemist Iv</td>\n",
       "      <td>WATER MANAGEMENT</td>\n",
       "      <td>F</td>\n",
       "      <td>Salary</td>\n",
       "      <td>NaN</td>\n",
       "      <td>95580.0</td>\n",
       "      <td>NaN</td>\n",
       "    </tr>\n",
       "    <tr>\n",
       "      <th>31404</th>\n",
       "      <td>WHITLOCK,  JAMAAR</td>\n",
       "      <td>Water Meter Machinist - Trainee</td>\n",
       "      <td>WATER MANAGEMENT</td>\n",
       "      <td>F</td>\n",
       "      <td>Hourly</td>\n",
       "      <td>40.0</td>\n",
       "      <td>NaN</td>\n",
       "      <td>$24.42</td>\n",
       "    </tr>\n",
       "    <tr>\n",
       "      <th>31712</th>\n",
       "      <td>WILLIAMS,  MATTHEW</td>\n",
       "      <td>Foreman Of Water Pipe Construction</td>\n",
       "      <td>WATER MANAGEMENT</td>\n",
       "      <td>F</td>\n",
       "      <td>Hourly</td>\n",
       "      <td>40.0</td>\n",
       "      <td>NaN</td>\n",
       "      <td>$50.25</td>\n",
       "    </tr>\n",
       "    <tr>\n",
       "      <th>32131</th>\n",
       "      <td>WOODRIDGE,  ROBERT L</td>\n",
       "      <td>Foreman Of Water Pipe Construction</td>\n",
       "      <td>WATER MANAGEMENT</td>\n",
       "      <td>F</td>\n",
       "      <td>Hourly</td>\n",
       "      <td>40.0</td>\n",
       "      <td>NaN</td>\n",
       "      <td>$50.25</td>\n",
       "    </tr>\n",
       "    <tr>\n",
       "      <th>32297</th>\n",
       "      <td>WTORKOWSKI,  ALBERT P</td>\n",
       "      <td>Chief Water Engineer</td>\n",
       "      <td>WATER MANAGEMENT</td>\n",
       "      <td>F</td>\n",
       "      <td>Salary</td>\n",
       "      <td>NaN</td>\n",
       "      <td>125316.0</td>\n",
       "      <td>NaN</td>\n",
       "    </tr>\n",
       "  </tbody>\n",
       "</table>\n",
       "<p>104 rows × 8 columns</p>\n",
       "</div>"
      ],
      "text/plain": [
       "                        Name                                     Job Titles  \\\n",
       "569       ALUISE,  VINCENT G             Foreman Of Water Pipe Construction   \n",
       "693          ANDER,  PERRY A                               Water Chemist Ii   \n",
       "707      ANDERSON,  ANDREW J  District Superintendent Of Water Distribution   \n",
       "726       ANDERSON,  DONALD              Foreman Of Water Pipe Construction   \n",
       "737       ANDERSON,  HARVEY                           Water Meter Machinist   \n",
       "...                      ...                                            ...   \n",
       "30969   WASHINGTON,  JOSEPH                                Water Chemist Iv   \n",
       "31404     WHITLOCK,  JAMAAR                 Water Meter Machinist - Trainee   \n",
       "31712    WILLIAMS,  MATTHEW              Foreman Of Water Pipe Construction   \n",
       "32131   WOODRIDGE,  ROBERT L             Foreman Of Water Pipe Construction   \n",
       "32297  WTORKOWSKI,  ALBERT P                           Chief Water Engineer   \n",
       "\n",
       "             Department Full or Part-Time Salary or Hourly  Typical Hours  \\\n",
       "569    WATER MANAGEMENT                 F           Hourly           40.0   \n",
       "693    WATER MANAGEMENT                 F           Salary            NaN   \n",
       "707    WATER MANAGEMENT                 F           Salary            NaN   \n",
       "726    WATER MANAGEMENT                 F           Hourly           40.0   \n",
       "737    WATER MANAGEMENT                 F           Hourly           40.0   \n",
       "...                 ...               ...              ...            ...   \n",
       "30969  WATER MANAGEMENT                 F           Salary            NaN   \n",
       "31404  WATER MANAGEMENT                 F           Hourly           40.0   \n",
       "31712  WATER MANAGEMENT                 F           Hourly           40.0   \n",
       "32131  WATER MANAGEMENT                 F           Hourly           40.0   \n",
       "32297  WATER MANAGEMENT                 F           Salary            NaN   \n",
       "\n",
       "       Annual Salary Hourly Rate  \n",
       "569              NaN     $50.25   \n",
       "693          84516.0         NaN  \n",
       "707         111456.0         NaN  \n",
       "726              NaN     $50.25   \n",
       "737              NaN     $40.70   \n",
       "...              ...         ...  \n",
       "30969        95580.0         NaN  \n",
       "31404            NaN     $24.42   \n",
       "31712            NaN     $50.25   \n",
       "32131            NaN     $50.25   \n",
       "32297       125316.0         NaN  \n",
       "\n",
       "[104 rows x 8 columns]"
      ]
     },
     "execution_count": 23,
     "metadata": {},
     "output_type": "execute_result"
    }
   ],
   "source": [
    "chic[mask]"
   ]
  },
  {
   "cell_type": "markdown",
   "id": "known-carter",
   "metadata": {},
   "source": [
    "TO FIND WATER AT BEGINING"
   ]
  },
  {
   "cell_type": "code",
   "execution_count": 24,
   "id": "spatial-subscription",
   "metadata": {},
   "outputs": [
    {
     "data": {
      "text/html": [
       "<div>\n",
       "<style scoped>\n",
       "    .dataframe tbody tr th:only-of-type {\n",
       "        vertical-align: middle;\n",
       "    }\n",
       "\n",
       "    .dataframe tbody tr th {\n",
       "        vertical-align: top;\n",
       "    }\n",
       "\n",
       "    .dataframe thead th {\n",
       "        text-align: right;\n",
       "    }\n",
       "</style>\n",
       "<table border=\"1\" class=\"dataframe\">\n",
       "  <thead>\n",
       "    <tr style=\"text-align: right;\">\n",
       "      <th></th>\n",
       "      <th>Name</th>\n",
       "      <th>Job Titles</th>\n",
       "      <th>Department</th>\n",
       "      <th>Full or Part-Time</th>\n",
       "      <th>Salary or Hourly</th>\n",
       "      <th>Typical Hours</th>\n",
       "      <th>Annual Salary</th>\n",
       "      <th>Hourly Rate</th>\n",
       "    </tr>\n",
       "  </thead>\n",
       "  <tbody>\n",
       "    <tr>\n",
       "      <th>693</th>\n",
       "      <td>ANDER,  PERRY A</td>\n",
       "      <td>Water Chemist Ii</td>\n",
       "      <td>WATER MANAGEMENT</td>\n",
       "      <td>F</td>\n",
       "      <td>Salary</td>\n",
       "      <td>NaN</td>\n",
       "      <td>84516.0</td>\n",
       "      <td>NaN</td>\n",
       "    </tr>\n",
       "    <tr>\n",
       "      <th>737</th>\n",
       "      <td>ANDERSON,  HARVEY</td>\n",
       "      <td>Water Meter Machinist</td>\n",
       "      <td>WATER MANAGEMENT</td>\n",
       "      <td>F</td>\n",
       "      <td>Hourly</td>\n",
       "      <td>40.0</td>\n",
       "      <td>NaN</td>\n",
       "      <td>$40.70</td>\n",
       "    </tr>\n",
       "    <tr>\n",
       "      <th>1092</th>\n",
       "      <td>ASHLEY,  KARMA T</td>\n",
       "      <td>Water Chemist Ii</td>\n",
       "      <td>WATER MANAGEMENT</td>\n",
       "      <td>F</td>\n",
       "      <td>Salary</td>\n",
       "      <td>NaN</td>\n",
       "      <td>84516.0</td>\n",
       "      <td>NaN</td>\n",
       "    </tr>\n",
       "    <tr>\n",
       "      <th>1226</th>\n",
       "      <td>AZEEM,  MOHAMMED A</td>\n",
       "      <td>Water Chemist Ii</td>\n",
       "      <td>WATER MANAGEMENT</td>\n",
       "      <td>F</td>\n",
       "      <td>Salary</td>\n",
       "      <td>NaN</td>\n",
       "      <td>59436.0</td>\n",
       "      <td>NaN</td>\n",
       "    </tr>\n",
       "    <tr>\n",
       "      <th>2457</th>\n",
       "      <td>BOLTON,  BRIAN E</td>\n",
       "      <td>Water Rate Taker</td>\n",
       "      <td>WATER MANAGEMENT</td>\n",
       "      <td>F</td>\n",
       "      <td>Salary</td>\n",
       "      <td>NaN</td>\n",
       "      <td>80532.0</td>\n",
       "      <td>NaN</td>\n",
       "    </tr>\n",
       "    <tr>\n",
       "      <th>...</th>\n",
       "      <td>...</td>\n",
       "      <td>...</td>\n",
       "      <td>...</td>\n",
       "      <td>...</td>\n",
       "      <td>...</td>\n",
       "      <td>...</td>\n",
       "      <td>...</td>\n",
       "      <td>...</td>\n",
       "    </tr>\n",
       "    <tr>\n",
       "      <th>29253</th>\n",
       "      <td>TIGNOR,  DARRYL B</td>\n",
       "      <td>Water Rate Taker</td>\n",
       "      <td>WATER MANAGEMENT</td>\n",
       "      <td>F</td>\n",
       "      <td>Salary</td>\n",
       "      <td>NaN</td>\n",
       "      <td>80532.0</td>\n",
       "      <td>NaN</td>\n",
       "    </tr>\n",
       "    <tr>\n",
       "      <th>29607</th>\n",
       "      <td>TRAVIS COOK,  LESLIE R</td>\n",
       "      <td>Water Rate Taker</td>\n",
       "      <td>WATER MANAGEMENT</td>\n",
       "      <td>F</td>\n",
       "      <td>Salary</td>\n",
       "      <td>NaN</td>\n",
       "      <td>80532.0</td>\n",
       "      <td>NaN</td>\n",
       "    </tr>\n",
       "    <tr>\n",
       "      <th>30298</th>\n",
       "      <td>VELAZQUEZ,  JOHN</td>\n",
       "      <td>Water Rate Taker</td>\n",
       "      <td>WATER MANAGEMENT</td>\n",
       "      <td>F</td>\n",
       "      <td>Salary</td>\n",
       "      <td>NaN</td>\n",
       "      <td>80532.0</td>\n",
       "      <td>NaN</td>\n",
       "    </tr>\n",
       "    <tr>\n",
       "      <th>30969</th>\n",
       "      <td>WASHINGTON,  JOSEPH</td>\n",
       "      <td>Water Chemist Iv</td>\n",
       "      <td>WATER MANAGEMENT</td>\n",
       "      <td>F</td>\n",
       "      <td>Salary</td>\n",
       "      <td>NaN</td>\n",
       "      <td>95580.0</td>\n",
       "      <td>NaN</td>\n",
       "    </tr>\n",
       "    <tr>\n",
       "      <th>31404</th>\n",
       "      <td>WHITLOCK,  JAMAAR</td>\n",
       "      <td>Water Meter Machinist - Trainee</td>\n",
       "      <td>WATER MANAGEMENT</td>\n",
       "      <td>F</td>\n",
       "      <td>Hourly</td>\n",
       "      <td>40.0</td>\n",
       "      <td>NaN</td>\n",
       "      <td>$24.42</td>\n",
       "    </tr>\n",
       "  </tbody>\n",
       "</table>\n",
       "<p>68 rows × 8 columns</p>\n",
       "</div>"
      ],
      "text/plain": [
       "                         Name                       Job Titles  \\\n",
       "693           ANDER,  PERRY A                 Water Chemist Ii   \n",
       "737        ANDERSON,  HARVEY             Water Meter Machinist   \n",
       "1092         ASHLEY,  KARMA T                 Water Chemist Ii   \n",
       "1226       AZEEM,  MOHAMMED A                 Water Chemist Ii   \n",
       "2457         BOLTON,  BRIAN E                 Water Rate Taker   \n",
       "...                       ...                              ...   \n",
       "29253       TIGNOR,  DARRYL B                 Water Rate Taker   \n",
       "29607  TRAVIS COOK,  LESLIE R                 Water Rate Taker   \n",
       "30298       VELAZQUEZ,  JOHN                  Water Rate Taker   \n",
       "30969    WASHINGTON,  JOSEPH                  Water Chemist Iv   \n",
       "31404      WHITLOCK,  JAMAAR   Water Meter Machinist - Trainee   \n",
       "\n",
       "             Department Full or Part-Time Salary or Hourly  Typical Hours  \\\n",
       "693    WATER MANAGEMENT                 F           Salary            NaN   \n",
       "737    WATER MANAGEMENT                 F           Hourly           40.0   \n",
       "1092   WATER MANAGEMENT                 F           Salary            NaN   \n",
       "1226   WATER MANAGEMENT                 F           Salary            NaN   \n",
       "2457   WATER MANAGEMENT                 F           Salary            NaN   \n",
       "...                 ...               ...              ...            ...   \n",
       "29253  WATER MANAGEMENT                 F           Salary            NaN   \n",
       "29607  WATER MANAGEMENT                 F           Salary            NaN   \n",
       "30298  WATER MANAGEMENT                 F           Salary            NaN   \n",
       "30969  WATER MANAGEMENT                 F           Salary            NaN   \n",
       "31404  WATER MANAGEMENT                 F           Hourly           40.0   \n",
       "\n",
       "       Annual Salary Hourly Rate  \n",
       "693          84516.0         NaN  \n",
       "737              NaN     $40.70   \n",
       "1092         84516.0         NaN  \n",
       "1226         59436.0         NaN  \n",
       "2457         80532.0         NaN  \n",
       "...              ...         ...  \n",
       "29253        80532.0         NaN  \n",
       "29607        80532.0         NaN  \n",
       "30298        80532.0         NaN  \n",
       "30969        95580.0         NaN  \n",
       "31404            NaN     $24.42   \n",
       "\n",
       "[68 rows x 8 columns]"
      ]
     },
     "execution_count": 24,
     "metadata": {},
     "output_type": "execute_result"
    }
   ],
   "source": [
    "k=chic['Job Titles'].str.lower().str.startswith('water')\n",
    "chic[k]"
   ]
  },
  {
   "cell_type": "code",
   "execution_count": 25,
   "id": "lucky-france",
   "metadata": {},
   "outputs": [
    {
     "data": {
      "text/html": [
       "<div>\n",
       "<style scoped>\n",
       "    .dataframe tbody tr th:only-of-type {\n",
       "        vertical-align: middle;\n",
       "    }\n",
       "\n",
       "    .dataframe tbody tr th {\n",
       "        vertical-align: top;\n",
       "    }\n",
       "\n",
       "    .dataframe thead th {\n",
       "        text-align: right;\n",
       "    }\n",
       "</style>\n",
       "<table border=\"1\" class=\"dataframe\">\n",
       "  <thead>\n",
       "    <tr style=\"text-align: right;\">\n",
       "      <th></th>\n",
       "      <th>Name</th>\n",
       "      <th>Job Titles</th>\n",
       "      <th>Department</th>\n",
       "      <th>Full or Part-Time</th>\n",
       "      <th>Salary or Hourly</th>\n",
       "      <th>Typical Hours</th>\n",
       "      <th>Annual Salary</th>\n",
       "      <th>Hourly Rate</th>\n",
       "    </tr>\n",
       "  </thead>\n",
       "  <tbody>\n",
       "    <tr>\n",
       "      <th>31</th>\n",
       "      <td>ABOUELKHEIR,  HASSAN A</td>\n",
       "      <td>Senior Programmer/Analyst</td>\n",
       "      <td>FAMILY &amp; SUPPORT</td>\n",
       "      <td>F</td>\n",
       "      <td>Salary</td>\n",
       "      <td>NaN</td>\n",
       "      <td>110064.0</td>\n",
       "      <td>NaN</td>\n",
       "    </tr>\n",
       "    <tr>\n",
       "      <th>149</th>\n",
       "      <td>ADAMS,  RAYMOND B</td>\n",
       "      <td>Sr Procurement Specialist</td>\n",
       "      <td>PROCUREMENT</td>\n",
       "      <td>F</td>\n",
       "      <td>Salary</td>\n",
       "      <td>NaN</td>\n",
       "      <td>69924.0</td>\n",
       "      <td>NaN</td>\n",
       "    </tr>\n",
       "    <tr>\n",
       "      <th>220</th>\n",
       "      <td>AGUILAR,  JUANITA M</td>\n",
       "      <td>Editorial Asst</td>\n",
       "      <td>CITY CLERK</td>\n",
       "      <td>F</td>\n",
       "      <td>Salary</td>\n",
       "      <td>NaN</td>\n",
       "      <td>66948.0</td>\n",
       "      <td>NaN</td>\n",
       "    </tr>\n",
       "    <tr>\n",
       "      <th>249</th>\n",
       "      <td>AGYEKUM,  KOFI</td>\n",
       "      <td>Programmer/Analyst</td>\n",
       "      <td>BUSINESS AFFAIRS</td>\n",
       "      <td>F</td>\n",
       "      <td>Salary</td>\n",
       "      <td>NaN</td>\n",
       "      <td>92388.0</td>\n",
       "      <td>NaN</td>\n",
       "    </tr>\n",
       "    <tr>\n",
       "      <th>262</th>\n",
       "      <td>AHMED,  KHALID</td>\n",
       "      <td>Chief Programmer/Analyst</td>\n",
       "      <td>WATER MANAGEMENT</td>\n",
       "      <td>F</td>\n",
       "      <td>Salary</td>\n",
       "      <td>NaN</td>\n",
       "      <td>119124.0</td>\n",
       "      <td>NaN</td>\n",
       "    </tr>\n",
       "    <tr>\n",
       "      <th>...</th>\n",
       "      <td>...</td>\n",
       "      <td>...</td>\n",
       "      <td>...</td>\n",
       "      <td>...</td>\n",
       "      <td>...</td>\n",
       "      <td>...</td>\n",
       "      <td>...</td>\n",
       "      <td>...</td>\n",
       "    </tr>\n",
       "    <tr>\n",
       "      <th>32663</th>\n",
       "      <td>ZEMKE,  RICHARD P</td>\n",
       "      <td>Machinist</td>\n",
       "      <td>AVIATION</td>\n",
       "      <td>F</td>\n",
       "      <td>Hourly</td>\n",
       "      <td>40.0</td>\n",
       "      <td>NaN</td>\n",
       "      <td>$46.35</td>\n",
       "    </tr>\n",
       "    <tr>\n",
       "      <th>32680</th>\n",
       "      <td>ZEROM,  KRISTIANA M</td>\n",
       "      <td>Administrative Asst</td>\n",
       "      <td>MAYOR'S OFFICE</td>\n",
       "      <td>F</td>\n",
       "      <td>Salary</td>\n",
       "      <td>NaN</td>\n",
       "      <td>62976.0</td>\n",
       "      <td>NaN</td>\n",
       "    </tr>\n",
       "    <tr>\n",
       "      <th>32728</th>\n",
       "      <td>ZIRNGIBL,  DIANE M</td>\n",
       "      <td>Staff Asst</td>\n",
       "      <td>AVIATION</td>\n",
       "      <td>F</td>\n",
       "      <td>Salary</td>\n",
       "      <td>NaN</td>\n",
       "      <td>88344.0</td>\n",
       "      <td>NaN</td>\n",
       "    </tr>\n",
       "    <tr>\n",
       "      <th>32757</th>\n",
       "      <td>ZOVKO,  ERIKA</td>\n",
       "      <td>Administrative Asst</td>\n",
       "      <td>MAYOR'S OFFICE</td>\n",
       "      <td>F</td>\n",
       "      <td>Salary</td>\n",
       "      <td>NaN</td>\n",
       "      <td>64056.0</td>\n",
       "      <td>NaN</td>\n",
       "    </tr>\n",
       "    <tr>\n",
       "      <th>32811</th>\n",
       "      <td>ZYSKOWSKI,  DARIUSZ</td>\n",
       "      <td>Chief Data Base Analyst</td>\n",
       "      <td>DoIT</td>\n",
       "      <td>F</td>\n",
       "      <td>Salary</td>\n",
       "      <td>NaN</td>\n",
       "      <td>115932.0</td>\n",
       "      <td>NaN</td>\n",
       "    </tr>\n",
       "  </tbody>\n",
       "</table>\n",
       "<p>621 rows × 8 columns</p>\n",
       "</div>"
      ],
      "text/plain": [
       "                         Name                 Job Titles        Department  \\\n",
       "31     ABOUELKHEIR,  HASSAN A  Senior Programmer/Analyst  FAMILY & SUPPORT   \n",
       "149         ADAMS,  RAYMOND B  Sr Procurement Specialist       PROCUREMENT   \n",
       "220       AGUILAR,  JUANITA M             Editorial Asst        CITY CLERK   \n",
       "249           AGYEKUM,  KOFI          Programmer/Analyst  BUSINESS AFFAIRS   \n",
       "262           AHMED,  KHALID    Chief Programmer/Analyst  WATER MANAGEMENT   \n",
       "...                       ...                        ...               ...   \n",
       "32663       ZEMKE,  RICHARD P                  Machinist          AVIATION   \n",
       "32680     ZEROM,  KRISTIANA M        Administrative Asst    MAYOR'S OFFICE   \n",
       "32728      ZIRNGIBL,  DIANE M                 Staff Asst          AVIATION   \n",
       "32757          ZOVKO,  ERIKA         Administrative Asst    MAYOR'S OFFICE   \n",
       "32811    ZYSKOWSKI,  DARIUSZ     Chief Data Base Analyst              DoIT   \n",
       "\n",
       "      Full or Part-Time Salary or Hourly  Typical Hours  Annual Salary  \\\n",
       "31                    F           Salary            NaN       110064.0   \n",
       "149                   F           Salary            NaN        69924.0   \n",
       "220                   F           Salary            NaN        66948.0   \n",
       "249                   F           Salary            NaN        92388.0   \n",
       "262                   F           Salary            NaN       119124.0   \n",
       "...                 ...              ...            ...            ...   \n",
       "32663                 F           Hourly           40.0            NaN   \n",
       "32680                 F           Salary            NaN        62976.0   \n",
       "32728                 F           Salary            NaN        88344.0   \n",
       "32757                 F           Salary            NaN        64056.0   \n",
       "32811                 F           Salary            NaN       115932.0   \n",
       "\n",
       "      Hourly Rate  \n",
       "31            NaN  \n",
       "149           NaN  \n",
       "220           NaN  \n",
       "249           NaN  \n",
       "262           NaN  \n",
       "...           ...  \n",
       "32663     $46.35   \n",
       "32680         NaN  \n",
       "32728         NaN  \n",
       "32757         NaN  \n",
       "32811         NaN  \n",
       "\n",
       "[621 rows x 8 columns]"
      ]
     },
     "execution_count": 25,
     "metadata": {},
     "output_type": "execute_result"
    }
   ],
   "source": [
    "chic[chic['Job Titles'].str.lower().str.endswith('st')]"
   ]
  },
  {
   "cell_type": "markdown",
   "id": "strange-basis",
   "metadata": {},
   "source": [
    "lstrip,rstrip"
   ]
  },
  {
   "cell_type": "code",
   "execution_count": 26,
   "id": "vocal-pickup",
   "metadata": {},
   "outputs": [
    {
     "data": {
      "text/plain": [
       "'Hello World'"
      ]
     },
     "execution_count": 26,
     "metadata": {},
     "output_type": "execute_result"
    }
   ],
   "source": [
    "'      Hello World'.lstrip() # strip empty spaces at left of string"
   ]
  },
  {
   "cell_type": "code",
   "execution_count": 27,
   "id": "judicial-entrance",
   "metadata": {},
   "outputs": [
    {
     "data": {
      "text/plain": [
       "'Hello world'"
      ]
     },
     "execution_count": 27,
     "metadata": {},
     "output_type": "execute_result"
    }
   ],
   "source": [
    "'Hello world     '.rstrip()# strip empty spaces at right of string"
   ]
  },
  {
   "cell_type": "code",
   "execution_count": 28,
   "id": "northern-underground",
   "metadata": {},
   "outputs": [
    {
     "data": {
      "text/plain": [
       "'  Hello world'"
      ]
     },
     "execution_count": 28,
     "metadata": {},
     "output_type": "execute_result"
    }
   ],
   "source": [
    "'  Hello world   '.rstrip()"
   ]
  },
  {
   "cell_type": "code",
   "execution_count": 29,
   "id": "velvet-cross",
   "metadata": {},
   "outputs": [
    {
     "data": {
      "text/plain": [
       "'Hello world'"
      ]
     },
     "execution_count": 29,
     "metadata": {},
     "output_type": "execute_result"
    }
   ],
   "source": [
    "'   Hello world   '.strip() # strip spaces in between"
   ]
  },
  {
   "cell_type": "code",
   "execution_count": 30,
   "id": "stuffed-plain",
   "metadata": {},
   "outputs": [],
   "source": [
    "chic[\"Name\"]=chic[\"Name\"].str.lstrip().str.rstrip()"
   ]
  },
  {
   "cell_type": "code",
   "execution_count": 31,
   "id": "superb-tolerance",
   "metadata": {},
   "outputs": [
    {
     "data": {
      "text/plain": [
       "0           AARON,  JEFFERY M\n",
       "1              AARON,  KARINA\n",
       "2         AARON,  KIMBERLEI R\n",
       "3         ABAD JR,  VICENTE M\n",
       "4           ABARCA,  EMMANUEL\n",
       "                 ...         \n",
       "32807    ZYLINSKA,  KATARZYNA\n",
       "32808      ZYMANTAS,  LAURA C\n",
       "32809       ZYMANTAS,  MARK E\n",
       "32810     ZYRKOWSKI,  CARLO E\n",
       "32811     ZYSKOWSKI,  DARIUSZ\n",
       "Name: Name, Length: 32812, dtype: object"
      ]
     },
     "execution_count": 31,
     "metadata": {},
     "output_type": "execute_result"
    }
   ],
   "source": [
    "chic[\"Name\"]"
   ]
  },
  {
   "cell_type": "code",
   "execution_count": 32,
   "id": "sustainable-course",
   "metadata": {},
   "outputs": [],
   "source": [
    "chic['Job Titles']=chic['Job Titles'].str.strip()"
   ]
  },
  {
   "cell_type": "markdown",
   "id": "rough-cross",
   "metadata": {},
   "source": [
    "STRING METHODS ON INDEX"
   ]
  },
  {
   "cell_type": "code",
   "execution_count": 33,
   "id": "mounted-veteran",
   "metadata": {},
   "outputs": [
    {
     "data": {
      "text/plain": [
       "Int64Index([    0,     1,     2,     3,     4,     5,     6,     7,     8,\n",
       "                9,\n",
       "            ...\n",
       "            32802, 32803, 32804, 32805, 32806, 32807, 32808, 32809, 32810,\n",
       "            32811],\n",
       "           dtype='int64', length=32812)"
      ]
     },
     "execution_count": 33,
     "metadata": {},
     "output_type": "execute_result"
    }
   ],
   "source": [
    "chic.index"
   ]
  },
  {
   "cell_type": "code",
   "execution_count": 34,
   "id": "current-salem",
   "metadata": {},
   "outputs": [],
   "source": [
    "chic.set_index('Name',inplace=True)"
   ]
  },
  {
   "cell_type": "code",
   "execution_count": 35,
   "id": "private-sleep",
   "metadata": {},
   "outputs": [],
   "source": [
    "chic.index=chic.index.str.strip().str.title()"
   ]
  },
  {
   "cell_type": "code",
   "execution_count": 36,
   "id": "express-innocent",
   "metadata": {},
   "outputs": [
    {
     "data": {
      "text/html": [
       "<div>\n",
       "<style scoped>\n",
       "    .dataframe tbody tr th:only-of-type {\n",
       "        vertical-align: middle;\n",
       "    }\n",
       "\n",
       "    .dataframe tbody tr th {\n",
       "        vertical-align: top;\n",
       "    }\n",
       "\n",
       "    .dataframe thead th {\n",
       "        text-align: right;\n",
       "    }\n",
       "</style>\n",
       "<table border=\"1\" class=\"dataframe\">\n",
       "  <thead>\n",
       "    <tr style=\"text-align: right;\">\n",
       "      <th></th>\n",
       "      <th>Job Titles</th>\n",
       "      <th>Department</th>\n",
       "      <th>Full or Part-Time</th>\n",
       "      <th>Salary or Hourly</th>\n",
       "      <th>Typical Hours</th>\n",
       "      <th>Annual Salary</th>\n",
       "      <th>Hourly Rate</th>\n",
       "    </tr>\n",
       "    <tr>\n",
       "      <th>Name</th>\n",
       "      <th></th>\n",
       "      <th></th>\n",
       "      <th></th>\n",
       "      <th></th>\n",
       "      <th></th>\n",
       "      <th></th>\n",
       "      <th></th>\n",
       "    </tr>\n",
       "  </thead>\n",
       "  <tbody>\n",
       "    <tr>\n",
       "      <th>Aaron,  Jeffery M</th>\n",
       "      <td>Sergeant</td>\n",
       "      <td>POLICE</td>\n",
       "      <td>F</td>\n",
       "      <td>Salary</td>\n",
       "      <td>NaN</td>\n",
       "      <td>101442.0</td>\n",
       "      <td>NaN</td>\n",
       "    </tr>\n",
       "    <tr>\n",
       "      <th>Aaron,  Karina</th>\n",
       "      <td>Police Officer (Assigned As Detective)</td>\n",
       "      <td>POLICE</td>\n",
       "      <td>F</td>\n",
       "      <td>Salary</td>\n",
       "      <td>NaN</td>\n",
       "      <td>94122.0</td>\n",
       "      <td>NaN</td>\n",
       "    </tr>\n",
       "    <tr>\n",
       "      <th>Aaron,  Kimberlei R</th>\n",
       "      <td>Chief Contract Expediter</td>\n",
       "      <td>GENERAL SERVICES</td>\n",
       "      <td>F</td>\n",
       "      <td>Salary</td>\n",
       "      <td>NaN</td>\n",
       "      <td>101592.0</td>\n",
       "      <td>NaN</td>\n",
       "    </tr>\n",
       "  </tbody>\n",
       "</table>\n",
       "</div>"
      ],
      "text/plain": [
       "                                                 Job Titles        Department  \\\n",
       "Name                                                                            \n",
       "Aaron,  Jeffery M                                  Sergeant            POLICE   \n",
       "Aaron,  Karina       Police Officer (Assigned As Detective)            POLICE   \n",
       "Aaron,  Kimberlei R                Chief Contract Expediter  GENERAL SERVICES   \n",
       "\n",
       "                    Full or Part-Time Salary or Hourly  Typical Hours  \\\n",
       "Name                                                                    \n",
       "Aaron,  Jeffery M                   F           Salary            NaN   \n",
       "Aaron,  Karina                      F           Salary            NaN   \n",
       "Aaron,  Kimberlei R                 F           Salary            NaN   \n",
       "\n",
       "                     Annual Salary Hourly Rate  \n",
       "Name                                            \n",
       "Aaron,  Jeffery M         101442.0         NaN  \n",
       "Aaron,  Karina             94122.0         NaN  \n",
       "Aaron,  Kimberlei R       101592.0         NaN  "
      ]
     },
     "execution_count": 36,
     "metadata": {},
     "output_type": "execute_result"
    }
   ],
   "source": [
    "chic.head(3)"
   ]
  },
  {
   "cell_type": "code",
   "execution_count": 37,
   "id": "stupid-surprise",
   "metadata": {},
   "outputs": [],
   "source": [
    "chic.columns=chic.columns.str.upper()"
   ]
  },
  {
   "cell_type": "code",
   "execution_count": 38,
   "id": "affected-czech",
   "metadata": {},
   "outputs": [
    {
     "data": {
      "text/html": [
       "<div>\n",
       "<style scoped>\n",
       "    .dataframe tbody tr th:only-of-type {\n",
       "        vertical-align: middle;\n",
       "    }\n",
       "\n",
       "    .dataframe tbody tr th {\n",
       "        vertical-align: top;\n",
       "    }\n",
       "\n",
       "    .dataframe thead th {\n",
       "        text-align: right;\n",
       "    }\n",
       "</style>\n",
       "<table border=\"1\" class=\"dataframe\">\n",
       "  <thead>\n",
       "    <tr style=\"text-align: right;\">\n",
       "      <th></th>\n",
       "      <th>JOB TITLES</th>\n",
       "      <th>DEPARTMENT</th>\n",
       "      <th>FULL OR PART-TIME</th>\n",
       "      <th>SALARY OR HOURLY</th>\n",
       "      <th>TYPICAL HOURS</th>\n",
       "      <th>ANNUAL SALARY</th>\n",
       "      <th>HOURLY RATE</th>\n",
       "    </tr>\n",
       "    <tr>\n",
       "      <th>Name</th>\n",
       "      <th></th>\n",
       "      <th></th>\n",
       "      <th></th>\n",
       "      <th></th>\n",
       "      <th></th>\n",
       "      <th></th>\n",
       "      <th></th>\n",
       "    </tr>\n",
       "  </thead>\n",
       "  <tbody>\n",
       "    <tr>\n",
       "      <th>Aaron,  Jeffery M</th>\n",
       "      <td>Sergeant</td>\n",
       "      <td>POLICE</td>\n",
       "      <td>F</td>\n",
       "      <td>Salary</td>\n",
       "      <td>NaN</td>\n",
       "      <td>101442.0</td>\n",
       "      <td>NaN</td>\n",
       "    </tr>\n",
       "    <tr>\n",
       "      <th>Aaron,  Karina</th>\n",
       "      <td>Police Officer (Assigned As Detective)</td>\n",
       "      <td>POLICE</td>\n",
       "      <td>F</td>\n",
       "      <td>Salary</td>\n",
       "      <td>NaN</td>\n",
       "      <td>94122.0</td>\n",
       "      <td>NaN</td>\n",
       "    </tr>\n",
       "    <tr>\n",
       "      <th>Aaron,  Kimberlei R</th>\n",
       "      <td>Chief Contract Expediter</td>\n",
       "      <td>GENERAL SERVICES</td>\n",
       "      <td>F</td>\n",
       "      <td>Salary</td>\n",
       "      <td>NaN</td>\n",
       "      <td>101592.0</td>\n",
       "      <td>NaN</td>\n",
       "    </tr>\n",
       "  </tbody>\n",
       "</table>\n",
       "</div>"
      ],
      "text/plain": [
       "                                                 JOB TITLES        DEPARTMENT  \\\n",
       "Name                                                                            \n",
       "Aaron,  Jeffery M                                  Sergeant            POLICE   \n",
       "Aaron,  Karina       Police Officer (Assigned As Detective)            POLICE   \n",
       "Aaron,  Kimberlei R                Chief Contract Expediter  GENERAL SERVICES   \n",
       "\n",
       "                    FULL OR PART-TIME SALARY OR HOURLY  TYPICAL HOURS  \\\n",
       "Name                                                                    \n",
       "Aaron,  Jeffery M                   F           Salary            NaN   \n",
       "Aaron,  Karina                      F           Salary            NaN   \n",
       "Aaron,  Kimberlei R                 F           Salary            NaN   \n",
       "\n",
       "                     ANNUAL SALARY HOURLY RATE  \n",
       "Name                                            \n",
       "Aaron,  Jeffery M         101442.0         NaN  \n",
       "Aaron,  Karina             94122.0         NaN  \n",
       "Aaron,  Kimberlei R       101592.0         NaN  "
      ]
     },
     "execution_count": 38,
     "metadata": {},
     "output_type": "execute_result"
    }
   ],
   "source": [
    "chic.head(3)"
   ]
  },
  {
   "cell_type": "markdown",
   "id": "underlying-fitting",
   "metadata": {},
   "source": [
    "SPLIT FUNCTION"
   ]
  },
  {
   "cell_type": "code",
   "execution_count": 44,
   "id": "bibliographic-warren",
   "metadata": {},
   "outputs": [
    {
     "data": {
      "text/plain": [
       "['HELLO', 'MY', 'NAME', 'IS', 'SATHYA']"
      ]
     },
     "execution_count": 44,
     "metadata": {},
     "output_type": "execute_result"
    }
   ],
   "source": [
    "\"HELLO MY NAME IS SATHYA\".split()"
   ]
  },
  {
   "cell_type": "code",
   "execution_count": 45,
   "id": "positive-coordinator",
   "metadata": {},
   "outputs": [
    {
     "data": {
      "text/plain": [
       "['HELLO MY ', ' IS SATHYA']"
      ]
     },
     "execution_count": 45,
     "metadata": {},
     "output_type": "execute_result"
    }
   ],
   "source": [
    "\"HELLO MY NAME IS SATHYA\".split('NAME')"
   ]
  },
  {
   "cell_type": "code",
   "execution_count": 46,
   "id": "hired-wagon",
   "metadata": {},
   "outputs": [
    {
     "data": {
      "text/plain": [
       "['HELLO', 'MY', 'NAME', 'IS', 'SATHYA']"
      ]
     },
     "execution_count": 46,
     "metadata": {},
     "output_type": "execute_result"
    }
   ],
   "source": [
    "\"HELLO MY NAME IS SATHYA\".split(' ')"
   ]
  },
  {
   "cell_type": "code",
   "execution_count": 53,
   "id": "postal-wiring",
   "metadata": {},
   "outputs": [],
   "source": [
    "chic=chic.reset_index()"
   ]
  },
  {
   "cell_type": "code",
   "execution_count": 58,
   "id": "rubber-accreditation",
   "metadata": {},
   "outputs": [
    {
     "data": {
      "text/plain": [
       "0        A\n",
       "1        A\n",
       "2        A\n",
       "3        A\n",
       "4        A\n",
       "        ..\n",
       "32807    Z\n",
       "32808    Z\n",
       "32809    Z\n",
       "32810    Z\n",
       "32811    Z\n",
       "Name: Name, Length: 32812, dtype: object"
      ]
     },
     "execution_count": 58,
     "metadata": {},
     "output_type": "execute_result"
    }
   ],
   "source": [
    "chic['Name'].str.get(0)"
   ]
  },
  {
   "cell_type": "code",
   "execution_count": 59,
   "id": "ongoing-helping",
   "metadata": {
    "collapsed": true
   },
   "outputs": [
    {
     "data": {
      "text/plain": [
       "0        o\n",
       "1        o\n",
       "2        o\n",
       "3        d\n",
       "4        r\n",
       "        ..\n",
       "32807    i\n",
       "32808    a\n",
       "32809    a\n",
       "32810    k\n",
       "32811    k\n",
       "Name: Name, Length: 32812, dtype: object"
      ]
     },
     "execution_count": 59,
     "metadata": {},
     "output_type": "execute_result"
    }
   ],
   "source": [
    "chic['Name'].str.get(3)# this gets what is in the position 3 in each row"
   ]
  },
  {
   "cell_type": "code",
   "execution_count": 61,
   "id": "authentic-burden",
   "metadata": {
    "collapsed": true
   },
   "outputs": [
    {
     "data": {
      "text/plain": [
       "0            Aaron\n",
       "1            Aaron\n",
       "2            Aaron\n",
       "3          Abad Jr\n",
       "4           Abarca\n",
       "           ...    \n",
       "32807     Zylinska\n",
       "32808     Zymantas\n",
       "32809     Zymantas\n",
       "32810    Zyrkowski\n",
       "32811    Zyskowski\n",
       "Name: Name, Length: 32812, dtype: object"
      ]
     },
     "execution_count": 61,
     "metadata": {},
     "output_type": "execute_result"
    }
   ],
   "source": [
    "chic['Name'].str.split(',').str.get(0)# tis gets what is in position 0 of the splitted name"
   ]
  },
  {
   "cell_type": "code",
   "execution_count": 62,
   "id": "literary-syndrome",
   "metadata": {
    "collapsed": true
   },
   "outputs": [
    {
     "data": {
      "text/plain": [
       "Williams    280\n",
       "Johnson     255\n",
       "Smith       248\n",
       "Jones       194\n",
       "Brown       189\n",
       "           ... \n",
       "Kalosky       1\n",
       "Brant         1\n",
       "Morgen        1\n",
       "Morones       1\n",
       "Maysonet      1\n",
       "Name: Name, Length: 14132, dtype: int64"
      ]
     },
     "execution_count": 62,
     "metadata": {},
     "output_type": "execute_result"
    }
   ],
   "source": [
    "chic['Name'].str.split(',').str.get(0).value_counts()"
   ]
  },
  {
   "cell_type": "code",
   "execution_count": 74,
   "id": "coral-momentum",
   "metadata": {},
   "outputs": [
    {
     "data": {
      "text/plain": [
       "Police             11316\n",
       "Firefighter-Emt     1743\n",
       "Sergeant            1164\n",
       "Crossing             814\n",
       "Motor                718\n",
       "                   ...  \n",
       "Comm                   1\n",
       "Corporation            1\n",
       "Employability          1\n",
       "Prepress               1\n",
       "Chairperson            1\n",
       "Name: JOB TITLES, Length: 328, dtype: int64"
      ]
     },
     "execution_count": 74,
     "metadata": {},
     "output_type": "execute_result"
    }
   ],
   "source": [
    "chic['JOB TITLES'].str.split(' ').str.get(0).value_counts()"
   ]
  },
  {
   "cell_type": "code",
   "execution_count": 76,
   "id": "artistic-supplier",
   "metadata": {},
   "outputs": [
    {
     "data": {
      "text/plain": [
       "0            Jeffery M\n",
       "1               Karina\n",
       "2          Kimberlei R\n",
       "3            Vicente M\n",
       "4             Emmanuel\n",
       "             ...      \n",
       "32807        Katarzyna\n",
       "32808          Laura C\n",
       "32809           Mark E\n",
       "32810          Carlo E\n",
       "32811          Dariusz\n",
       "Name: Name, Length: 32812, dtype: object"
      ]
     },
     "execution_count": 76,
     "metadata": {},
     "output_type": "execute_result"
    }
   ],
   "source": [
    "chic['Name'].str.split(',').str.get(1)"
   ]
  },
  {
   "cell_type": "code",
   "execution_count": 80,
   "id": "hungry-sapphire",
   "metadata": {},
   "outputs": [
    {
     "data": {
      "text/plain": [
       "0          Jeffery\n",
       "1           Karina\n",
       "2        Kimberlei\n",
       "3          Vicente\n",
       "4         Emmanuel\n",
       "           ...    \n",
       "32807    Katarzyna\n",
       "32808        Laura\n",
       "32809         Mark\n",
       "32810        Carlo\n",
       "32811      Dariusz\n",
       "Name: Name, Length: 32812, dtype: object"
      ]
     },
     "execution_count": 80,
     "metadata": {},
     "output_type": "execute_result"
    }
   ],
   "source": [
    " chic['Name'].str.split(',').str.get(1).str.strip().str.split(' ').str.get(0)\n",
    "    # to get the first name."
   ]
  },
  {
   "cell_type": "markdown",
   "id": "favorite-colorado",
   "metadata": {},
   "source": [
    "exploring expand and nparameter in split method"
   ]
  },
  {
   "cell_type": "code",
   "execution_count": 83,
   "id": "twelve-domain",
   "metadata": {},
   "outputs": [
    {
     "data": {
      "text/html": [
       "<div>\n",
       "<style scoped>\n",
       "    .dataframe tbody tr th:only-of-type {\n",
       "        vertical-align: middle;\n",
       "    }\n",
       "\n",
       "    .dataframe tbody tr th {\n",
       "        vertical-align: top;\n",
       "    }\n",
       "\n",
       "    .dataframe thead th {\n",
       "        text-align: right;\n",
       "    }\n",
       "</style>\n",
       "<table border=\"1\" class=\"dataframe\">\n",
       "  <thead>\n",
       "    <tr style=\"text-align: right;\">\n",
       "      <th></th>\n",
       "      <th>0</th>\n",
       "      <th>1</th>\n",
       "    </tr>\n",
       "  </thead>\n",
       "  <tbody>\n",
       "    <tr>\n",
       "      <th>0</th>\n",
       "      <td>Aaron</td>\n",
       "      <td>Jeffery M</td>\n",
       "    </tr>\n",
       "    <tr>\n",
       "      <th>1</th>\n",
       "      <td>Aaron</td>\n",
       "      <td>Karina</td>\n",
       "    </tr>\n",
       "    <tr>\n",
       "      <th>2</th>\n",
       "      <td>Aaron</td>\n",
       "      <td>Kimberlei R</td>\n",
       "    </tr>\n",
       "    <tr>\n",
       "      <th>3</th>\n",
       "      <td>Abad Jr</td>\n",
       "      <td>Vicente M</td>\n",
       "    </tr>\n",
       "    <tr>\n",
       "      <th>4</th>\n",
       "      <td>Abarca</td>\n",
       "      <td>Emmanuel</td>\n",
       "    </tr>\n",
       "    <tr>\n",
       "      <th>...</th>\n",
       "      <td>...</td>\n",
       "      <td>...</td>\n",
       "    </tr>\n",
       "    <tr>\n",
       "      <th>32807</th>\n",
       "      <td>Zylinska</td>\n",
       "      <td>Katarzyna</td>\n",
       "    </tr>\n",
       "    <tr>\n",
       "      <th>32808</th>\n",
       "      <td>Zymantas</td>\n",
       "      <td>Laura C</td>\n",
       "    </tr>\n",
       "    <tr>\n",
       "      <th>32809</th>\n",
       "      <td>Zymantas</td>\n",
       "      <td>Mark E</td>\n",
       "    </tr>\n",
       "    <tr>\n",
       "      <th>32810</th>\n",
       "      <td>Zyrkowski</td>\n",
       "      <td>Carlo E</td>\n",
       "    </tr>\n",
       "    <tr>\n",
       "      <th>32811</th>\n",
       "      <td>Zyskowski</td>\n",
       "      <td>Dariusz</td>\n",
       "    </tr>\n",
       "  </tbody>\n",
       "</table>\n",
       "<p>32812 rows × 2 columns</p>\n",
       "</div>"
      ],
      "text/plain": [
       "               0              1\n",
       "0          Aaron      Jeffery M\n",
       "1          Aaron         Karina\n",
       "2          Aaron    Kimberlei R\n",
       "3        Abad Jr      Vicente M\n",
       "4         Abarca       Emmanuel\n",
       "...          ...            ...\n",
       "32807   Zylinska      Katarzyna\n",
       "32808   Zymantas        Laura C\n",
       "32809   Zymantas         Mark E\n",
       "32810  Zyrkowski        Carlo E\n",
       "32811  Zyskowski        Dariusz\n",
       "\n",
       "[32812 rows x 2 columns]"
      ]
     },
     "execution_count": 83,
     "metadata": {},
     "output_type": "execute_result"
    }
   ],
   "source": [
    " chic['Name'].str.split(',',expand=True) #returns a dataframe rather than a \n",
    "                                          # series of python lists."
   ]
  },
  {
   "cell_type": "code",
   "execution_count": 87,
   "id": "finnish-niagara",
   "metadata": {
    "collapsed": true
   },
   "outputs": [
    {
     "data": {
      "text/html": [
       "<div>\n",
       "<style scoped>\n",
       "    .dataframe tbody tr th:only-of-type {\n",
       "        vertical-align: middle;\n",
       "    }\n",
       "\n",
       "    .dataframe tbody tr th {\n",
       "        vertical-align: top;\n",
       "    }\n",
       "\n",
       "    .dataframe thead th {\n",
       "        text-align: right;\n",
       "    }\n",
       "</style>\n",
       "<table border=\"1\" class=\"dataframe\">\n",
       "  <thead>\n",
       "    <tr style=\"text-align: right;\">\n",
       "      <th></th>\n",
       "      <th>Name</th>\n",
       "      <th>JOB TITLES</th>\n",
       "      <th>DEPARTMENT</th>\n",
       "      <th>FULL OR PART-TIME</th>\n",
       "      <th>SALARY OR HOURLY</th>\n",
       "      <th>TYPICAL HOURS</th>\n",
       "      <th>ANNUAL SALARY</th>\n",
       "      <th>HOURLY RATE</th>\n",
       "      <th>Last Name</th>\n",
       "      <th>First Name</th>\n",
       "    </tr>\n",
       "  </thead>\n",
       "  <tbody>\n",
       "    <tr>\n",
       "      <th>0</th>\n",
       "      <td>Aaron,  Jeffery M</td>\n",
       "      <td>Sergeant</td>\n",
       "      <td>POLICE</td>\n",
       "      <td>F</td>\n",
       "      <td>Salary</td>\n",
       "      <td>NaN</td>\n",
       "      <td>101442.0</td>\n",
       "      <td>NaN</td>\n",
       "      <td>Aaron</td>\n",
       "      <td>Jeffery M</td>\n",
       "    </tr>\n",
       "    <tr>\n",
       "      <th>1</th>\n",
       "      <td>Aaron,  Karina</td>\n",
       "      <td>Police Officer (Assigned As Detective)</td>\n",
       "      <td>POLICE</td>\n",
       "      <td>F</td>\n",
       "      <td>Salary</td>\n",
       "      <td>NaN</td>\n",
       "      <td>94122.0</td>\n",
       "      <td>NaN</td>\n",
       "      <td>Aaron</td>\n",
       "      <td>Karina</td>\n",
       "    </tr>\n",
       "    <tr>\n",
       "      <th>2</th>\n",
       "      <td>Aaron,  Kimberlei R</td>\n",
       "      <td>Chief Contract Expediter</td>\n",
       "      <td>GENERAL SERVICES</td>\n",
       "      <td>F</td>\n",
       "      <td>Salary</td>\n",
       "      <td>NaN</td>\n",
       "      <td>101592.0</td>\n",
       "      <td>NaN</td>\n",
       "      <td>Aaron</td>\n",
       "      <td>Kimberlei R</td>\n",
       "    </tr>\n",
       "    <tr>\n",
       "      <th>3</th>\n",
       "      <td>Abad Jr,  Vicente M</td>\n",
       "      <td>Civil Engineer Iv</td>\n",
       "      <td>WATER MANAGEMENT</td>\n",
       "      <td>F</td>\n",
       "      <td>Salary</td>\n",
       "      <td>NaN</td>\n",
       "      <td>110064.0</td>\n",
       "      <td>NaN</td>\n",
       "      <td>Abad Jr</td>\n",
       "      <td>Vicente M</td>\n",
       "    </tr>\n",
       "    <tr>\n",
       "      <th>4</th>\n",
       "      <td>Abarca,  Emmanuel</td>\n",
       "      <td>Concrete Laborer</td>\n",
       "      <td>TRANSPORTN</td>\n",
       "      <td>F</td>\n",
       "      <td>Hourly</td>\n",
       "      <td>40.0</td>\n",
       "      <td>NaN</td>\n",
       "      <td>$36.18</td>\n",
       "      <td>Abarca</td>\n",
       "      <td>Emmanuel</td>\n",
       "    </tr>\n",
       "    <tr>\n",
       "      <th>...</th>\n",
       "      <td>...</td>\n",
       "      <td>...</td>\n",
       "      <td>...</td>\n",
       "      <td>...</td>\n",
       "      <td>...</td>\n",
       "      <td>...</td>\n",
       "      <td>...</td>\n",
       "      <td>...</td>\n",
       "      <td>...</td>\n",
       "      <td>...</td>\n",
       "    </tr>\n",
       "    <tr>\n",
       "      <th>32807</th>\n",
       "      <td>Zylinska,  Katarzyna</td>\n",
       "      <td>Police Officer</td>\n",
       "      <td>POLICE</td>\n",
       "      <td>F</td>\n",
       "      <td>Salary</td>\n",
       "      <td>NaN</td>\n",
       "      <td>72510.0</td>\n",
       "      <td>NaN</td>\n",
       "      <td>Zylinska</td>\n",
       "      <td>Katarzyna</td>\n",
       "    </tr>\n",
       "    <tr>\n",
       "      <th>32808</th>\n",
       "      <td>Zymantas,  Laura C</td>\n",
       "      <td>Police Officer</td>\n",
       "      <td>POLICE</td>\n",
       "      <td>F</td>\n",
       "      <td>Salary</td>\n",
       "      <td>NaN</td>\n",
       "      <td>48078.0</td>\n",
       "      <td>NaN</td>\n",
       "      <td>Zymantas</td>\n",
       "      <td>Laura C</td>\n",
       "    </tr>\n",
       "    <tr>\n",
       "      <th>32809</th>\n",
       "      <td>Zymantas,  Mark E</td>\n",
       "      <td>Police Officer</td>\n",
       "      <td>POLICE</td>\n",
       "      <td>F</td>\n",
       "      <td>Salary</td>\n",
       "      <td>NaN</td>\n",
       "      <td>87006.0</td>\n",
       "      <td>NaN</td>\n",
       "      <td>Zymantas</td>\n",
       "      <td>Mark E</td>\n",
       "    </tr>\n",
       "    <tr>\n",
       "      <th>32810</th>\n",
       "      <td>Zyrkowski,  Carlo E</td>\n",
       "      <td>Police Officer</td>\n",
       "      <td>POLICE</td>\n",
       "      <td>F</td>\n",
       "      <td>Salary</td>\n",
       "      <td>NaN</td>\n",
       "      <td>93354.0</td>\n",
       "      <td>NaN</td>\n",
       "      <td>Zyrkowski</td>\n",
       "      <td>Carlo E</td>\n",
       "    </tr>\n",
       "    <tr>\n",
       "      <th>32811</th>\n",
       "      <td>Zyskowski,  Dariusz</td>\n",
       "      <td>Chief Data Base Analyst</td>\n",
       "      <td>DoIT</td>\n",
       "      <td>F</td>\n",
       "      <td>Salary</td>\n",
       "      <td>NaN</td>\n",
       "      <td>115932.0</td>\n",
       "      <td>NaN</td>\n",
       "      <td>Zyskowski</td>\n",
       "      <td>Dariusz</td>\n",
       "    </tr>\n",
       "  </tbody>\n",
       "</table>\n",
       "<p>32812 rows × 10 columns</p>\n",
       "</div>"
      ],
      "text/plain": [
       "                       Name                              JOB TITLES  \\\n",
       "0         Aaron,  Jeffery M                                Sergeant   \n",
       "1            Aaron,  Karina  Police Officer (Assigned As Detective)   \n",
       "2       Aaron,  Kimberlei R                Chief Contract Expediter   \n",
       "3       Abad Jr,  Vicente M                       Civil Engineer Iv   \n",
       "4         Abarca,  Emmanuel                        Concrete Laborer   \n",
       "...                     ...                                     ...   \n",
       "32807  Zylinska,  Katarzyna                          Police Officer   \n",
       "32808    Zymantas,  Laura C                          Police Officer   \n",
       "32809     Zymantas,  Mark E                          Police Officer   \n",
       "32810   Zyrkowski,  Carlo E                          Police Officer   \n",
       "32811   Zyskowski,  Dariusz                 Chief Data Base Analyst   \n",
       "\n",
       "             DEPARTMENT FULL OR PART-TIME SALARY OR HOURLY  TYPICAL HOURS  \\\n",
       "0                POLICE                 F           Salary            NaN   \n",
       "1                POLICE                 F           Salary            NaN   \n",
       "2      GENERAL SERVICES                 F           Salary            NaN   \n",
       "3      WATER MANAGEMENT                 F           Salary            NaN   \n",
       "4            TRANSPORTN                 F           Hourly           40.0   \n",
       "...                 ...               ...              ...            ...   \n",
       "32807            POLICE                 F           Salary            NaN   \n",
       "32808            POLICE                 F           Salary            NaN   \n",
       "32809            POLICE                 F           Salary            NaN   \n",
       "32810            POLICE                 F           Salary            NaN   \n",
       "32811              DoIT                 F           Salary            NaN   \n",
       "\n",
       "       ANNUAL SALARY HOURLY RATE  Last Name     First Name  \n",
       "0           101442.0         NaN      Aaron      Jeffery M  \n",
       "1            94122.0         NaN      Aaron         Karina  \n",
       "2           101592.0         NaN      Aaron    Kimberlei R  \n",
       "3           110064.0         NaN    Abad Jr      Vicente M  \n",
       "4                NaN     $36.18      Abarca       Emmanuel  \n",
       "...              ...         ...        ...            ...  \n",
       "32807        72510.0         NaN   Zylinska      Katarzyna  \n",
       "32808        48078.0         NaN   Zymantas        Laura C  \n",
       "32809        87006.0         NaN   Zymantas         Mark E  \n",
       "32810        93354.0         NaN  Zyrkowski        Carlo E  \n",
       "32811       115932.0         NaN  Zyskowski        Dariusz  \n",
       "\n",
       "[32812 rows x 10 columns]"
      ]
     },
     "execution_count": 87,
     "metadata": {},
     "output_type": "execute_result"
    }
   ],
   "source": [
    "chic[['Last Name','First Name']]= chic['Name'].str.split(',',expand=True) \n",
    "chic"
   ]
  },
  {
   "cell_type": "code",
   "execution_count": 90,
   "id": "motivated-number",
   "metadata": {},
   "outputs": [
    {
     "data": {
      "text/html": [
       "<div>\n",
       "<style scoped>\n",
       "    .dataframe tbody tr th:only-of-type {\n",
       "        vertical-align: middle;\n",
       "    }\n",
       "\n",
       "    .dataframe tbody tr th {\n",
       "        vertical-align: top;\n",
       "    }\n",
       "\n",
       "    .dataframe thead th {\n",
       "        text-align: right;\n",
       "    }\n",
       "</style>\n",
       "<table border=\"1\" class=\"dataframe\">\n",
       "  <thead>\n",
       "    <tr style=\"text-align: right;\">\n",
       "      <th></th>\n",
       "      <th>0</th>\n",
       "      <th>1</th>\n",
       "      <th>2</th>\n",
       "      <th>3</th>\n",
       "      <th>4</th>\n",
       "      <th>5</th>\n",
       "      <th>6</th>\n",
       "      <th>7</th>\n",
       "      <th>8</th>\n",
       "    </tr>\n",
       "  </thead>\n",
       "  <tbody>\n",
       "    <tr>\n",
       "      <th>0</th>\n",
       "      <td>Sergeant</td>\n",
       "      <td>None</td>\n",
       "      <td>None</td>\n",
       "      <td>None</td>\n",
       "      <td>None</td>\n",
       "      <td>None</td>\n",
       "      <td>None</td>\n",
       "      <td>None</td>\n",
       "      <td>None</td>\n",
       "    </tr>\n",
       "    <tr>\n",
       "      <th>1</th>\n",
       "      <td>Police</td>\n",
       "      <td>Officer</td>\n",
       "      <td>(Assigned</td>\n",
       "      <td>As</td>\n",
       "      <td>Detective)</td>\n",
       "      <td>None</td>\n",
       "      <td>None</td>\n",
       "      <td>None</td>\n",
       "      <td>None</td>\n",
       "    </tr>\n",
       "    <tr>\n",
       "      <th>2</th>\n",
       "      <td>Chief</td>\n",
       "      <td>Contract</td>\n",
       "      <td>Expediter</td>\n",
       "      <td>None</td>\n",
       "      <td>None</td>\n",
       "      <td>None</td>\n",
       "      <td>None</td>\n",
       "      <td>None</td>\n",
       "      <td>None</td>\n",
       "    </tr>\n",
       "    <tr>\n",
       "      <th>3</th>\n",
       "      <td>Civil</td>\n",
       "      <td>Engineer</td>\n",
       "      <td>Iv</td>\n",
       "      <td>None</td>\n",
       "      <td>None</td>\n",
       "      <td>None</td>\n",
       "      <td>None</td>\n",
       "      <td>None</td>\n",
       "      <td>None</td>\n",
       "    </tr>\n",
       "    <tr>\n",
       "      <th>4</th>\n",
       "      <td>Concrete</td>\n",
       "      <td>Laborer</td>\n",
       "      <td>None</td>\n",
       "      <td>None</td>\n",
       "      <td>None</td>\n",
       "      <td>None</td>\n",
       "      <td>None</td>\n",
       "      <td>None</td>\n",
       "      <td>None</td>\n",
       "    </tr>\n",
       "    <tr>\n",
       "      <th>...</th>\n",
       "      <td>...</td>\n",
       "      <td>...</td>\n",
       "      <td>...</td>\n",
       "      <td>...</td>\n",
       "      <td>...</td>\n",
       "      <td>...</td>\n",
       "      <td>...</td>\n",
       "      <td>...</td>\n",
       "      <td>...</td>\n",
       "    </tr>\n",
       "    <tr>\n",
       "      <th>32807</th>\n",
       "      <td>Police</td>\n",
       "      <td>Officer</td>\n",
       "      <td>None</td>\n",
       "      <td>None</td>\n",
       "      <td>None</td>\n",
       "      <td>None</td>\n",
       "      <td>None</td>\n",
       "      <td>None</td>\n",
       "      <td>None</td>\n",
       "    </tr>\n",
       "    <tr>\n",
       "      <th>32808</th>\n",
       "      <td>Police</td>\n",
       "      <td>Officer</td>\n",
       "      <td>None</td>\n",
       "      <td>None</td>\n",
       "      <td>None</td>\n",
       "      <td>None</td>\n",
       "      <td>None</td>\n",
       "      <td>None</td>\n",
       "      <td>None</td>\n",
       "    </tr>\n",
       "    <tr>\n",
       "      <th>32809</th>\n",
       "      <td>Police</td>\n",
       "      <td>Officer</td>\n",
       "      <td>None</td>\n",
       "      <td>None</td>\n",
       "      <td>None</td>\n",
       "      <td>None</td>\n",
       "      <td>None</td>\n",
       "      <td>None</td>\n",
       "      <td>None</td>\n",
       "    </tr>\n",
       "    <tr>\n",
       "      <th>32810</th>\n",
       "      <td>Police</td>\n",
       "      <td>Officer</td>\n",
       "      <td>None</td>\n",
       "      <td>None</td>\n",
       "      <td>None</td>\n",
       "      <td>None</td>\n",
       "      <td>None</td>\n",
       "      <td>None</td>\n",
       "      <td>None</td>\n",
       "    </tr>\n",
       "    <tr>\n",
       "      <th>32811</th>\n",
       "      <td>Chief</td>\n",
       "      <td>Data</td>\n",
       "      <td>Base</td>\n",
       "      <td>Analyst</td>\n",
       "      <td>None</td>\n",
       "      <td>None</td>\n",
       "      <td>None</td>\n",
       "      <td>None</td>\n",
       "      <td>None</td>\n",
       "    </tr>\n",
       "  </tbody>\n",
       "</table>\n",
       "<p>32812 rows × 9 columns</p>\n",
       "</div>"
      ],
      "text/plain": [
       "              0         1          2        3           4     5     6     7  \\\n",
       "0      Sergeant      None       None     None        None  None  None  None   \n",
       "1        Police   Officer  (Assigned       As  Detective)  None  None  None   \n",
       "2         Chief  Contract  Expediter     None        None  None  None  None   \n",
       "3         Civil  Engineer         Iv     None        None  None  None  None   \n",
       "4      Concrete   Laborer       None     None        None  None  None  None   \n",
       "...         ...       ...        ...      ...         ...   ...   ...   ...   \n",
       "32807    Police   Officer       None     None        None  None  None  None   \n",
       "32808    Police   Officer       None     None        None  None  None  None   \n",
       "32809    Police   Officer       None     None        None  None  None  None   \n",
       "32810    Police   Officer       None     None        None  None  None  None   \n",
       "32811     Chief      Data       Base  Analyst        None  None  None  None   \n",
       "\n",
       "          8  \n",
       "0      None  \n",
       "1      None  \n",
       "2      None  \n",
       "3      None  \n",
       "4      None  \n",
       "...     ...  \n",
       "32807  None  \n",
       "32808  None  \n",
       "32809  None  \n",
       "32810  None  \n",
       "32811  None  \n",
       "\n",
       "[32812 rows x 9 columns]"
      ]
     },
     "execution_count": 90,
     "metadata": {},
     "output_type": "execute_result"
    }
   ],
   "source": [
    "chic['JOB TITLES'].str.split(' ',expand=True)"
   ]
  },
  {
   "cell_type": "code",
   "execution_count": 91,
   "id": "otherwise-union",
   "metadata": {},
   "outputs": [
    {
     "data": {
      "text/html": [
       "<div>\n",
       "<style scoped>\n",
       "    .dataframe tbody tr th:only-of-type {\n",
       "        vertical-align: middle;\n",
       "    }\n",
       "\n",
       "    .dataframe tbody tr th {\n",
       "        vertical-align: top;\n",
       "    }\n",
       "\n",
       "    .dataframe thead th {\n",
       "        text-align: right;\n",
       "    }\n",
       "</style>\n",
       "<table border=\"1\" class=\"dataframe\">\n",
       "  <thead>\n",
       "    <tr style=\"text-align: right;\">\n",
       "      <th></th>\n",
       "      <th>0</th>\n",
       "      <th>1</th>\n",
       "    </tr>\n",
       "  </thead>\n",
       "  <tbody>\n",
       "    <tr>\n",
       "      <th>0</th>\n",
       "      <td>Sergeant</td>\n",
       "      <td>None</td>\n",
       "    </tr>\n",
       "    <tr>\n",
       "      <th>1</th>\n",
       "      <td>Police</td>\n",
       "      <td>Officer (Assigned As Detective)</td>\n",
       "    </tr>\n",
       "    <tr>\n",
       "      <th>2</th>\n",
       "      <td>Chief</td>\n",
       "      <td>Contract Expediter</td>\n",
       "    </tr>\n",
       "    <tr>\n",
       "      <th>3</th>\n",
       "      <td>Civil</td>\n",
       "      <td>Engineer Iv</td>\n",
       "    </tr>\n",
       "    <tr>\n",
       "      <th>4</th>\n",
       "      <td>Concrete</td>\n",
       "      <td>Laborer</td>\n",
       "    </tr>\n",
       "    <tr>\n",
       "      <th>...</th>\n",
       "      <td>...</td>\n",
       "      <td>...</td>\n",
       "    </tr>\n",
       "    <tr>\n",
       "      <th>32807</th>\n",
       "      <td>Police</td>\n",
       "      <td>Officer</td>\n",
       "    </tr>\n",
       "    <tr>\n",
       "      <th>32808</th>\n",
       "      <td>Police</td>\n",
       "      <td>Officer</td>\n",
       "    </tr>\n",
       "    <tr>\n",
       "      <th>32809</th>\n",
       "      <td>Police</td>\n",
       "      <td>Officer</td>\n",
       "    </tr>\n",
       "    <tr>\n",
       "      <th>32810</th>\n",
       "      <td>Police</td>\n",
       "      <td>Officer</td>\n",
       "    </tr>\n",
       "    <tr>\n",
       "      <th>32811</th>\n",
       "      <td>Chief</td>\n",
       "      <td>Data Base Analyst</td>\n",
       "    </tr>\n",
       "  </tbody>\n",
       "</table>\n",
       "<p>32812 rows × 2 columns</p>\n",
       "</div>"
      ],
      "text/plain": [
       "              0                                1\n",
       "0      Sergeant                             None\n",
       "1        Police  Officer (Assigned As Detective)\n",
       "2         Chief               Contract Expediter\n",
       "3         Civil                      Engineer Iv\n",
       "4      Concrete                          Laborer\n",
       "...         ...                              ...\n",
       "32807    Police                          Officer\n",
       "32808    Police                          Officer\n",
       "32809    Police                          Officer\n",
       "32810    Police                          Officer\n",
       "32811     Chief                Data Base Analyst\n",
       "\n",
       "[32812 rows x 2 columns]"
      ]
     },
     "execution_count": 91,
     "metadata": {},
     "output_type": "execute_result"
    }
   ],
   "source": [
    "chic['JOB TITLES'].str.split(' ',expand=True,n=1) #n= no of split at first instance\n",
    "                                                  # of space"
   ]
  },
  {
   "cell_type": "code",
   "execution_count": 92,
   "id": "academic-freedom",
   "metadata": {},
   "outputs": [
    {
     "data": {
      "text/html": [
       "<div>\n",
       "<style scoped>\n",
       "    .dataframe tbody tr th:only-of-type {\n",
       "        vertical-align: middle;\n",
       "    }\n",
       "\n",
       "    .dataframe tbody tr th {\n",
       "        vertical-align: top;\n",
       "    }\n",
       "\n",
       "    .dataframe thead th {\n",
       "        text-align: right;\n",
       "    }\n",
       "</style>\n",
       "<table border=\"1\" class=\"dataframe\">\n",
       "  <thead>\n",
       "    <tr style=\"text-align: right;\">\n",
       "      <th></th>\n",
       "      <th>0</th>\n",
       "      <th>1</th>\n",
       "      <th>2</th>\n",
       "    </tr>\n",
       "  </thead>\n",
       "  <tbody>\n",
       "    <tr>\n",
       "      <th>0</th>\n",
       "      <td>Sergeant</td>\n",
       "      <td>None</td>\n",
       "      <td>None</td>\n",
       "    </tr>\n",
       "    <tr>\n",
       "      <th>1</th>\n",
       "      <td>Police</td>\n",
       "      <td>Officer</td>\n",
       "      <td>(Assigned As Detective)</td>\n",
       "    </tr>\n",
       "    <tr>\n",
       "      <th>2</th>\n",
       "      <td>Chief</td>\n",
       "      <td>Contract</td>\n",
       "      <td>Expediter</td>\n",
       "    </tr>\n",
       "    <tr>\n",
       "      <th>3</th>\n",
       "      <td>Civil</td>\n",
       "      <td>Engineer</td>\n",
       "      <td>Iv</td>\n",
       "    </tr>\n",
       "    <tr>\n",
       "      <th>4</th>\n",
       "      <td>Concrete</td>\n",
       "      <td>Laborer</td>\n",
       "      <td>None</td>\n",
       "    </tr>\n",
       "    <tr>\n",
       "      <th>...</th>\n",
       "      <td>...</td>\n",
       "      <td>...</td>\n",
       "      <td>...</td>\n",
       "    </tr>\n",
       "    <tr>\n",
       "      <th>32807</th>\n",
       "      <td>Police</td>\n",
       "      <td>Officer</td>\n",
       "      <td>None</td>\n",
       "    </tr>\n",
       "    <tr>\n",
       "      <th>32808</th>\n",
       "      <td>Police</td>\n",
       "      <td>Officer</td>\n",
       "      <td>None</td>\n",
       "    </tr>\n",
       "    <tr>\n",
       "      <th>32809</th>\n",
       "      <td>Police</td>\n",
       "      <td>Officer</td>\n",
       "      <td>None</td>\n",
       "    </tr>\n",
       "    <tr>\n",
       "      <th>32810</th>\n",
       "      <td>Police</td>\n",
       "      <td>Officer</td>\n",
       "      <td>None</td>\n",
       "    </tr>\n",
       "    <tr>\n",
       "      <th>32811</th>\n",
       "      <td>Chief</td>\n",
       "      <td>Data</td>\n",
       "      <td>Base Analyst</td>\n",
       "    </tr>\n",
       "  </tbody>\n",
       "</table>\n",
       "<p>32812 rows × 3 columns</p>\n",
       "</div>"
      ],
      "text/plain": [
       "              0         1                        2\n",
       "0      Sergeant      None                     None\n",
       "1        Police   Officer  (Assigned As Detective)\n",
       "2         Chief  Contract                Expediter\n",
       "3         Civil  Engineer                       Iv\n",
       "4      Concrete   Laborer                     None\n",
       "...         ...       ...                      ...\n",
       "32807    Police   Officer                     None\n",
       "32808    Police   Officer                     None\n",
       "32809    Police   Officer                     None\n",
       "32810    Police   Officer                     None\n",
       "32811     Chief      Data             Base Analyst\n",
       "\n",
       "[32812 rows x 3 columns]"
      ]
     },
     "execution_count": 92,
     "metadata": {},
     "output_type": "execute_result"
    }
   ],
   "source": [
    "chic['JOB TITLES'].str.split(' ',expand=True,n=2)"
   ]
  },
  {
   "cell_type": "code",
   "execution_count": null,
   "id": "directed-latter",
   "metadata": {},
   "outputs": [],
   "source": []
  }
 ],
 "metadata": {
  "kernelspec": {
   "display_name": "Python 3",
   "language": "python",
   "name": "python3"
  },
  "language_info": {
   "codemirror_mode": {
    "name": "ipython",
    "version": 3
   },
   "file_extension": ".py",
   "mimetype": "text/x-python",
   "name": "python",
   "nbconvert_exporter": "python",
   "pygments_lexer": "ipython3",
   "version": "3.9.2"
  }
 },
 "nbformat": 4,
 "nbformat_minor": 5
}
