{
 "cells": [
  {
   "cell_type": "code",
   "execution_count": 3,
   "id": "rising-right",
   "metadata": {},
   "outputs": [
    {
     "name": "stdout",
     "output_type": "stream",
     "text": [
      "enter a num: 7\n",
      "odd\n"
     ]
    }
   ],
   "source": [
    "#first \n",
    "print(\"odd\" if (int(input(\"enter a num: \"))%2 !=0) else \"even\")"
   ]
  },
  {
   "cell_type": "code",
   "execution_count": 4,
   "id": "after-thought",
   "metadata": {},
   "outputs": [
    {
     "name": "stdout",
     "output_type": "stream",
     "text": [
      "sathya\n"
     ]
    }
   ],
   "source": [
    "#second\n",
    "score=325\n",
    "wickets=7\n",
    "catch=4\n",
    "list_cond =[score>320,\n",
    "            wickets<8,\n",
    "            catch>3]\n",
    "if (all(list_cond)):\n",
    "    print(\"sathya\")\n",
    "else:\n",
    "    print(\"Lose\")"
   ]
  },
  {
   "cell_type": "code",
   "execution_count": 5,
   "id": "hispanic-prior",
   "metadata": {},
   "outputs": [
    {
     "name": "stdout",
     "output_type": "stream",
     "text": [
      "win\n"
     ]
    }
   ],
   "source": [
    "#third\n",
    "score=200\n",
    "wickets=7\n",
    "catch=4\n",
    "list_cond =[score>320,\n",
    "            wickets<8,\n",
    "            catch>3]\n",
    "if (any(list_cond)):\n",
    "    print(\"win\")\n",
    "else:\n",
    "    print(\"Lose\")"
   ]
  },
  {
   "cell_type": "code",
   "execution_count": 16,
   "id": "colonial-lyric",
   "metadata": {},
   "outputs": [
    {
     "name": "stdout",
     "output_type": "stream",
     "text": [
      "enter three inputs: 3 4 5\n"
     ]
    }
   ],
   "source": [
    "#fourth\n",
    "a,b,c=input(\"enter three inputs: \").split()"
   ]
  },
  {
   "cell_type": "code",
   "execution_count": 18,
   "id": "visible-cocktail",
   "metadata": {},
   "outputs": [
    {
     "data": {
      "text/plain": [
       "12"
      ]
     },
     "execution_count": 18,
     "metadata": {},
     "output_type": "execute_result"
    }
   ],
   "source": [
    "int(a)+int(b)+int(c)"
   ]
  },
  {
   "cell_type": "code",
   "execution_count": 20,
   "id": "expired-scroll",
   "metadata": {},
   "outputs": [
    {
     "name": "stdout",
     "output_type": "stream",
     "text": [
      "1200\n"
     ]
    }
   ],
   "source": [
    "#fifth\n",
    "salary=1200\n",
    "exp=3\n",
    "salary,exp=exp,salary\n",
    "print(exp)"
   ]
  },
  {
   "cell_type": "code",
   "execution_count": 21,
   "id": "local-jefferson",
   "metadata": {},
   "outputs": [
    {
     "name": "stdout",
     "output_type": "stream",
     "text": [
      "[1, 2, 3, 4, 5, 6, 7]\n"
     ]
    }
   ],
   "source": [
    "#sixth\n",
    "x=[1,2,3,4,5,6,3,2,1,3,2,5,3,7,6]\n",
    "print(list(set(x)))"
   ]
  },
  {
   "cell_type": "code",
   "execution_count": 27,
   "id": "correct-queue",
   "metadata": {},
   "outputs": [
    {
     "name": "stdout",
     "output_type": "stream",
     "text": [
      "a\n"
     ]
    }
   ],
   "source": [
    "#seventh   most recurring value\n",
    "x=[1,5,9,8,6,5,6,9,5,6,9,6,5,4,\"a\",\"a\",\"b\",\"b\",\"a\",\"a\",\"a\"]\n",
    "print(max(x,key=x.count))"
   ]
  },
  {
   "cell_type": "code",
   "execution_count": 34,
   "id": "measured-bacteria",
   "metadata": {},
   "outputs": [
    {
     "name": "stdout",
     "output_type": "stream",
     "text": [
      "[8, 64, 216, 512, 1000, 1728, 2744]\n"
     ]
    }
   ],
   "source": [
    "#eighth\n",
    "x=[i**3 for i in range(1,15) if i%2==0]\n",
    "print(x)"
   ]
  },
  {
   "cell_type": "code",
   "execution_count": 35,
   "id": "interested-legislation",
   "metadata": {},
   "outputs": [
    {
     "name": "stdout",
     "output_type": "stream",
     "text": [
      "524880\n"
     ]
    }
   ],
   "source": [
    "#ninth\n",
    "def fun1(*a):\n",
    "    res = 1\n",
    "    for ele in a:\n",
    "        res*=ele\n",
    "    return res\n",
    "ans=fun1(5,6,9,6,9,6,6)\n",
    "print(ans)"
   ]
  },
  {
   "cell_type": "code",
   "execution_count": 36,
   "id": "reserved-thompson",
   "metadata": {},
   "outputs": [
    {
     "name": "stdout",
     "output_type": "stream",
     "text": [
      "nanayaranayhtaS\n"
     ]
    }
   ],
   "source": [
    "#tenth\n",
    "name=\"Sathyanarayanan\"\n",
    "print(name[-1::-1])"
   ]
  },
  {
   "cell_type": "code",
   "execution_count": 39,
   "id": "reverse-privilege",
   "metadata": {},
   "outputs": [
    {
     "name": "stdout",
     "output_type": "stream",
     "text": [
      "(4, 5, 6)\n"
     ]
    }
   ],
   "source": [
    "#eleventh\n",
    "s=slice(3,6)# from fourth element to sixth just like range\n",
    "lst=[1,3,'a','b',5,11,16]\n",
    "text='DATASCIENCE'\n",
    "tpl=(1,2,3,4,5,6,7)\n",
    "\n",
    "#print(lst[s])\n",
    "#print(text[s])\n",
    "print(tpl[s])"
   ]
  },
  {
   "cell_type": "code",
   "execution_count": 41,
   "id": "intermediate-perception",
   "metadata": {},
   "outputs": [
    {
     "name": "stdout",
     "output_type": "stream",
     "text": [
      "[[6, 3], [2, 5], [9, 5], [2, 8]]\n"
     ]
    }
   ],
   "source": [
    "#twelfth\n",
    "lst=[[2,5],[6,3],[2,8],[9,5]]\n",
    "lst.sort(key=lambda x: x[1])\n",
    "print(lst)"
   ]
  },
  {
   "cell_type": "code",
   "execution_count": 42,
   "id": "boring-nicholas",
   "metadata": {},
   "outputs": [
    {
     "name": "stdout",
     "output_type": "stream",
     "text": [
      "[[2, 5], [2, 8], [6, 3], [9, 5]]\n"
     ]
    }
   ],
   "source": [
    "lst.sort(key=lambda x: x[0])\n",
    "print(lst)"
   ]
  },
  {
   "cell_type": "code",
   "execution_count": 43,
   "id": "configured-clear",
   "metadata": {},
   "outputs": [
    {
     "name": "stdout",
     "output_type": "stream",
     "text": [
      "1 20\n"
     ]
    }
   ],
   "source": [
    "# thirteenth\n",
    "tpl=(1,20)\n",
    "x,y=tpl\n",
    "print(x,y)"
   ]
  },
  {
   "cell_type": "code",
   "execution_count": 44,
   "id": "separated-arbor",
   "metadata": {},
   "outputs": [
    {
     "name": "stdout",
     "output_type": "stream",
     "text": [
      "sathya is nine years old\n"
     ]
    }
   ],
   "source": [
    "#fourteenth\n",
    "name='sathya'\n",
    "age='nine'\n",
    "print(f\"{name} is {age} years old\")"
   ]
  },
  {
   "cell_type": "code",
   "execution_count": null,
   "id": "nonprofit-blank",
   "metadata": {},
   "outputs": [],
   "source": [
    "# SQL\n",
    "#SELECT CASE WHEN column_a > 30 THEN \"Large\"\n",
    "            #WHEN column_a <= 30 THEN \"Small\"\n",
    "            #END AS Size\n",
    "#FROM table_df\n",
    "# Pandas\n",
    "import numpy as np     \n",
    "conditions = [table_df['column_a']>30, table_df['column_b']<=30]\n",
    "choices = ['Large', 'Small']\n",
    "table_df['Size'] = np.select(conditions, choices)"
   ]
  }
 ],
 "metadata": {
  "kernelspec": {
   "display_name": "Python 3",
   "language": "python",
   "name": "python3"
  },
  "language_info": {
   "codemirror_mode": {
    "name": "ipython",
    "version": 3
   },
   "file_extension": ".py",
   "mimetype": "text/x-python",
   "name": "python",
   "nbconvert_exporter": "python",
   "pygments_lexer": "ipython3",
   "version": "3.9.2"
  }
 },
 "nbformat": 4,
 "nbformat_minor": 5
}
