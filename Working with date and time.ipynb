{
 "cells": [
  {
   "cell_type": "code",
   "execution_count": 1,
   "id": "hundred-custom",
   "metadata": {},
   "outputs": [],
   "source": [
    "import pandas as pd # pandas is an external lib\n",
    "import datetime as dt # datetime is an inbuilt library of python"
   ]
  },
  {
   "cell_type": "code",
   "execution_count": 2,
   "id": "flying-spokesman",
   "metadata": {},
   "outputs": [],
   "source": [
    "bday=dt.date(1993,3,28) # (year,month,day)"
   ]
  },
  {
   "cell_type": "code",
   "execution_count": 4,
   "id": "consecutive-welsh",
   "metadata": {},
   "outputs": [
    {
     "data": {
      "text/plain": [
       "28"
      ]
     },
     "execution_count": 4,
     "metadata": {},
     "output_type": "execute_result"
    }
   ],
   "source": [
    "bday.day # call different attributes of date object"
   ]
  },
  {
   "cell_type": "code",
   "execution_count": 4,
   "id": "nonprofit-territory",
   "metadata": {},
   "outputs": [
    {
     "data": {
      "text/plain": [
       "datetime.datetime(1993, 3, 28, 0, 0)"
      ]
     },
     "execution_count": 4,
     "metadata": {},
     "output_type": "execute_result"
    }
   ],
   "source": [
    "dt.datetime(1993,3,28,)"
   ]
  },
  {
   "cell_type": "code",
   "execution_count": 5,
   "id": "controlled-midnight",
   "metadata": {},
   "outputs": [],
   "source": [
    "sometime=dt.datetime(1993,3,28,8,13,57) # date:28/03/1993 and time 8.13 and 57 sec"
   ]
  },
  {
   "cell_type": "code",
   "execution_count": 6,
   "id": "pressed-romantic",
   "metadata": {},
   "outputs": [
    {
     "data": {
      "text/plain": [
       "57"
      ]
     },
     "execution_count": 6,
     "metadata": {},
     "output_type": "execute_result"
    }
   ],
   "source": [
    "sometime.second\n",
    "# attributes of datetime object"
   ]
  },
  {
   "cell_type": "code",
   "execution_count": 7,
   "id": "continent-inspector",
   "metadata": {},
   "outputs": [
    {
     "data": {
      "text/plain": [
       "'1993-03-28 08:13:57'"
      ]
     },
     "execution_count": 7,
     "metadata": {},
     "output_type": "execute_result"
    }
   ],
   "source": [
    "str(dt.datetime(1993,3,28,8,13,57))"
   ]
  },
  {
   "cell_type": "code",
   "execution_count": 8,
   "id": "noticed-travel",
   "metadata": {},
   "outputs": [
    {
     "data": {
      "text/plain": [
       "'1993-03-28'"
      ]
     },
     "execution_count": 8,
     "metadata": {},
     "output_type": "execute_result"
    }
   ],
   "source": [
    "str(bday)"
   ]
  },
  {
   "cell_type": "markdown",
   "id": "eleven-swing",
   "metadata": {},
   "source": [
    "# The pandas timestamp object \n",
    "the pandas version of python datetime object\n"
   ]
  },
  {
   "cell_type": "code",
   "execution_count": 9,
   "id": "bottom-noise",
   "metadata": {},
   "outputs": [
    {
     "data": {
      "text/plain": [
       "Timestamp('1993-03-28 00:00:00')"
      ]
     },
     "execution_count": 9,
     "metadata": {},
     "output_type": "execute_result"
    }
   ],
   "source": [
    "pd.Timestamp(\"1993-03-28\") # if time is not given ,it assign 12 midnight"
   ]
  },
  {
   "cell_type": "code",
   "execution_count": 10,
   "id": "bright-narrative",
   "metadata": {},
   "outputs": [
    {
     "data": {
      "text/plain": [
       "Timestamp('1993-03-28 00:00:00')"
      ]
     },
     "execution_count": 10,
     "metadata": {},
     "output_type": "execute_result"
    }
   ],
   "source": [
    "pd.Timestamp(\"1993/03/28\") # can use '/' and ',' to seperate"
   ]
  },
  {
   "cell_type": "code",
   "execution_count": 11,
   "id": "adequate-checkout",
   "metadata": {},
   "outputs": [
    {
     "data": {
      "text/plain": [
       "Timestamp('2019-12-19 00:00:00')"
      ]
     },
     "execution_count": 11,
     "metadata": {},
     "output_type": "execute_result"
    }
   ],
   "source": [
    "pd.Timestamp(\"19/12/2019\")# pandas can recognize 19 as day and 12 as month"
   ]
  },
  {
   "cell_type": "code",
   "execution_count": 12,
   "id": "developed-saturday",
   "metadata": {},
   "outputs": [
    {
     "data": {
      "text/plain": [
       "Timestamp('2019-04-03 00:00:00')"
      ]
     },
     "execution_count": 12,
     "metadata": {},
     "output_type": "execute_result"
    }
   ],
   "source": [
    "pd.Timestamp(\"4/3/2019\") # pandas takes 4 as month and 3 as day even if we meant the opposite"
   ]
  },
  {
   "cell_type": "code",
   "execution_count": 13,
   "id": "welsh-trauma",
   "metadata": {},
   "outputs": [
    {
     "data": {
      "text/plain": [
       "Timestamp('2019-12-19 08:35:45')"
      ]
     },
     "execution_count": 13,
     "metadata": {},
     "output_type": "execute_result"
    }
   ],
   "source": [
    "pd.Timestamp(\"19/12/2019 8:35:45\") # leave space between date and time"
   ]
  },
  {
   "cell_type": "code",
   "execution_count": 14,
   "id": "derived-modification",
   "metadata": {},
   "outputs": [
    {
     "data": {
      "text/plain": [
       "Timestamp('2019-12-19 20:35:45')"
      ]
     },
     "execution_count": 14,
     "metadata": {},
     "output_type": "execute_result"
    }
   ],
   "source": [
    "pd.Timestamp(\"19/12/2019 8:35:45 PM\") # add pm for evening and night"
   ]
  },
  {
   "cell_type": "code",
   "execution_count": 15,
   "id": "driving-chapel",
   "metadata": {},
   "outputs": [
    {
     "data": {
      "text/plain": [
       "Timestamp('1993-03-28 00:00:00')"
      ]
     },
     "execution_count": 15,
     "metadata": {},
     "output_type": "execute_result"
    }
   ],
   "source": [
    "pd.Timestamp(dt.date(1993,3,28))# we can also give date object of python as parameter to timestamp"
   ]
  },
  {
   "cell_type": "code",
   "execution_count": 16,
   "id": "seventh-chance",
   "metadata": {},
   "outputs": [
    {
     "data": {
      "text/plain": [
       "Timestamp('1993-03-28 06:15:45')"
      ]
     },
     "execution_count": 16,
     "metadata": {},
     "output_type": "execute_result"
    }
   ],
   "source": [
    "pd.Timestamp(dt.datetime(1993,3,28,6,15,45))"
   ]
  },
  {
   "cell_type": "markdown",
   "id": "copyrighted-meditation",
   "metadata": {},
   "source": [
    "# the pandas DatetimeIndex object"
   ]
  },
  {
   "cell_type": "code",
   "execution_count": 17,
   "id": "hybrid-original",
   "metadata": {},
   "outputs": [
    {
     "data": {
      "text/plain": [
       "DatetimeIndex(['2016-03-02', '2017-04-01', '2015-11-23'], dtype='datetime64[ns]', freq=None)"
      ]
     },
     "execution_count": 17,
     "metadata": {},
     "output_type": "execute_result"
    }
   ],
   "source": [
    "dates=[\"2016/03/2\",\"2017-04-1\",\"2015-11-23\"]\n",
    "pd.DatetimeIndex(dates)"
   ]
  },
  {
   "cell_type": "code",
   "execution_count": 18,
   "id": "accomplished-cologne",
   "metadata": {},
   "outputs": [
    {
     "data": {
      "text/plain": [
       "pandas.core.indexes.datetimes.DatetimeIndex"
      ]
     },
     "execution_count": 18,
     "metadata": {},
     "output_type": "execute_result"
    }
   ],
   "source": [
    "type(pd.DatetimeIndex(dates))"
   ]
  },
  {
   "cell_type": "code",
   "execution_count": 19,
   "id": "caroline-publication",
   "metadata": {},
   "outputs": [],
   "source": [
    "date=[dt.datetime(1990,4,12),dt.datetime(1991,7,22),dt.datetime(1997,1,12)]"
   ]
  },
  {
   "cell_type": "code",
   "execution_count": 20,
   "id": "varying-leave",
   "metadata": {},
   "outputs": [],
   "source": [
    "dtindex=pd.DatetimeIndex(date)"
   ]
  },
  {
   "cell_type": "code",
   "execution_count": 21,
   "id": "unique-journalist",
   "metadata": {},
   "outputs": [],
   "source": [
    "values=[100,200,300]"
   ]
  },
  {
   "cell_type": "code",
   "execution_count": 22,
   "id": "interested-grammar",
   "metadata": {},
   "outputs": [
    {
     "data": {
      "text/plain": [
       "1990-04-12    100\n",
       "1991-07-22    200\n",
       "1997-01-12    300\n",
       "dtype: int64"
      ]
     },
     "execution_count": 22,
     "metadata": {},
     "output_type": "execute_result"
    }
   ],
   "source": [
    "pd.Series(data=values,index=dtindex)"
   ]
  },
  {
   "cell_type": "markdown",
   "id": "educated-amplifier",
   "metadata": {},
   "source": [
    "# pd.to_datetime method"
   ]
  },
  {
   "cell_type": "code",
   "execution_count": 23,
   "id": "revised-state",
   "metadata": {},
   "outputs": [
    {
     "data": {
      "text/plain": [
       "Timestamp('2020-01-12 00:00:00')"
      ]
     },
     "execution_count": 23,
     "metadata": {},
     "output_type": "execute_result"
    }
   ],
   "source": [
    "pd.to_datetime(\"2020/1/12\") # to convert  string to pandas time stamp."
   ]
  },
  {
   "cell_type": "code",
   "execution_count": 24,
   "id": "conditional-positive",
   "metadata": {},
   "outputs": [
    {
     "data": {
      "text/plain": [
       "Timestamp('2017-03-04 00:00:00')"
      ]
     },
     "execution_count": 24,
     "metadata": {},
     "output_type": "execute_result"
    }
   ],
   "source": [
    "pd.to_datetime(dt.date(2017,3,4)) # to convert date object to pandas timestamp"
   ]
  },
  {
   "cell_type": "code",
   "execution_count": 25,
   "id": "hydraulic-horror",
   "metadata": {},
   "outputs": [
    {
     "data": {
      "text/plain": [
       "Timestamp('2017-03-04 19:27:36')"
      ]
     },
     "execution_count": 25,
     "metadata": {},
     "output_type": "execute_result"
    }
   ],
   "source": [
    "pd.to_datetime(dt.datetime(2017,3,4,19,27,36))"
   ]
  },
  {
   "cell_type": "code",
   "execution_count": 26,
   "id": "sufficient-silly",
   "metadata": {},
   "outputs": [
    {
     "data": {
      "text/plain": [
       "DatetimeIndex(['2015-08-23', '2016-01-01', '1994-06-02'], dtype='datetime64[ns]', freq=None)"
      ]
     },
     "execution_count": 26,
     "metadata": {},
     "output_type": "execute_result"
    }
   ],
   "source": [
    "pd.to_datetime([\"2015/8/23\",\"2016\",\"june 2nd,1994\"]) # coverts all to datetimeindex object "
   ]
  },
  {
   "cell_type": "code",
   "execution_count": 27,
   "id": "settled-taste",
   "metadata": {},
   "outputs": [],
   "source": [
    "dates=pd.Series([\"2015/8/23\",\"2016\",\"june 2nd,1994\"])"
   ]
  },
  {
   "cell_type": "code",
   "execution_count": 28,
   "id": "caring-press",
   "metadata": {},
   "outputs": [
    {
     "data": {
      "text/plain": [
       "0        2015/8/23\n",
       "1             2016\n",
       "2    june 2nd,1994\n",
       "dtype: object"
      ]
     },
     "execution_count": 28,
     "metadata": {},
     "output_type": "execute_result"
    }
   ],
   "source": [
    "dates"
   ]
  },
  {
   "cell_type": "code",
   "execution_count": 29,
   "id": "shaped-drive",
   "metadata": {},
   "outputs": [
    {
     "data": {
      "text/plain": [
       "0   2015-08-23\n",
       "1   2016-01-01\n",
       "2   1994-06-02\n",
       "dtype: datetime64[ns]"
      ]
     },
     "execution_count": 29,
     "metadata": {},
     "output_type": "execute_result"
    }
   ],
   "source": [
    "pd.to_datetime(dates)# to covert a string of dates in a series to datetime object rather than string objects\n"
   ]
  },
  {
   "cell_type": "code",
   "execution_count": 30,
   "id": "freelance-wireless",
   "metadata": {},
   "outputs": [],
   "source": [
    "dates=pd.Series([\"july 2nd,1966\",\"10/04/1991\",\"hello\",\"2016-2-31\"])"
   ]
  },
  {
   "cell_type": "code",
   "execution_count": 31,
   "id": "democratic-guard",
   "metadata": {},
   "outputs": [
    {
     "data": {
      "text/plain": [
       "0    july 2nd,1966\n",
       "1       10/04/1991\n",
       "2            hello\n",
       "3        2016-2-31\n",
       "dtype: object"
      ]
     },
     "execution_count": 31,
     "metadata": {},
     "output_type": "execute_result"
    }
   ],
   "source": [
    "dates"
   ]
  },
  {
   "cell_type": "code",
   "execution_count": 33,
   "id": "received-interface",
   "metadata": {
    "collapsed": true
   },
   "outputs": [
    {
     "ename": "ParserError",
     "evalue": "Unknown string format: hello",
     "output_type": "error",
     "traceback": [
      "\u001b[1;31m---------------------------------------------------------------------------\u001b[0m",
      "\u001b[1;31mTypeError\u001b[0m                                 Traceback (most recent call last)",
      "\u001b[1;32mc:\\python\\python392\\lib\\site-packages\\pandas\\core\\arrays\\datetimes.py\u001b[0m in \u001b[0;36mobjects_to_datetime64ns\u001b[1;34m(data, dayfirst, yearfirst, utc, errors, require_iso8601, allow_object)\u001b[0m\n\u001b[0;32m   2084\u001b[0m         \u001b[1;32mtry\u001b[0m\u001b[1;33m:\u001b[0m\u001b[1;33m\u001b[0m\u001b[1;33m\u001b[0m\u001b[0m\n\u001b[1;32m-> 2085\u001b[1;33m             \u001b[0mvalues\u001b[0m\u001b[1;33m,\u001b[0m \u001b[0mtz_parsed\u001b[0m \u001b[1;33m=\u001b[0m \u001b[0mconversion\u001b[0m\u001b[1;33m.\u001b[0m\u001b[0mdatetime_to_datetime64\u001b[0m\u001b[1;33m(\u001b[0m\u001b[0mdata\u001b[0m\u001b[1;33m)\u001b[0m\u001b[1;33m\u001b[0m\u001b[1;33m\u001b[0m\u001b[0m\n\u001b[0m\u001b[0;32m   2086\u001b[0m             \u001b[1;31m# If tzaware, these values represent unix timestamps, so we\u001b[0m\u001b[1;33m\u001b[0m\u001b[1;33m\u001b[0m\u001b[1;33m\u001b[0m\u001b[0m\n",
      "\u001b[1;32mpandas\\_libs\\tslibs\\conversion.pyx\u001b[0m in \u001b[0;36mpandas._libs.tslibs.conversion.datetime_to_datetime64\u001b[1;34m()\u001b[0m\n",
      "\u001b[1;31mTypeError\u001b[0m: Unrecognized value type: <class 'str'>",
      "\nDuring handling of the above exception, another exception occurred:\n",
      "\u001b[1;31mParserError\u001b[0m                               Traceback (most recent call last)",
      "\u001b[1;32m<ipython-input-33-ddd2d201db8c>\u001b[0m in \u001b[0;36m<module>\u001b[1;34m\u001b[0m\n\u001b[1;32m----> 1\u001b[1;33m \u001b[0mpd\u001b[0m\u001b[1;33m.\u001b[0m\u001b[0mto_datetime\u001b[0m\u001b[1;33m(\u001b[0m\u001b[0mdates\u001b[0m\u001b[1;33m)\u001b[0m\u001b[1;33m\u001b[0m\u001b[1;33m\u001b[0m\u001b[0m\n\u001b[0m",
      "\u001b[1;32mc:\\python\\python392\\lib\\site-packages\\pandas\\core\\tools\\datetimes.py\u001b[0m in \u001b[0;36mto_datetime\u001b[1;34m(arg, errors, dayfirst, yearfirst, utc, format, exact, unit, infer_datetime_format, origin, cache)\u001b[0m\n\u001b[0;32m    803\u001b[0m             \u001b[0mresult\u001b[0m \u001b[1;33m=\u001b[0m \u001b[0marg\u001b[0m\u001b[1;33m.\u001b[0m\u001b[0mmap\u001b[0m\u001b[1;33m(\u001b[0m\u001b[0mcache_array\u001b[0m\u001b[1;33m)\u001b[0m\u001b[1;33m\u001b[0m\u001b[1;33m\u001b[0m\u001b[0m\n\u001b[0;32m    804\u001b[0m         \u001b[1;32melse\u001b[0m\u001b[1;33m:\u001b[0m\u001b[1;33m\u001b[0m\u001b[1;33m\u001b[0m\u001b[0m\n\u001b[1;32m--> 805\u001b[1;33m             \u001b[0mvalues\u001b[0m \u001b[1;33m=\u001b[0m \u001b[0mconvert_listlike\u001b[0m\u001b[1;33m(\u001b[0m\u001b[0marg\u001b[0m\u001b[1;33m.\u001b[0m\u001b[0m_values\u001b[0m\u001b[1;33m,\u001b[0m \u001b[0mformat\u001b[0m\u001b[1;33m)\u001b[0m\u001b[1;33m\u001b[0m\u001b[1;33m\u001b[0m\u001b[0m\n\u001b[0m\u001b[0;32m    806\u001b[0m             \u001b[0mresult\u001b[0m \u001b[1;33m=\u001b[0m \u001b[0marg\u001b[0m\u001b[1;33m.\u001b[0m\u001b[0m_constructor\u001b[0m\u001b[1;33m(\u001b[0m\u001b[0mvalues\u001b[0m\u001b[1;33m,\u001b[0m \u001b[0mindex\u001b[0m\u001b[1;33m=\u001b[0m\u001b[0marg\u001b[0m\u001b[1;33m.\u001b[0m\u001b[0mindex\u001b[0m\u001b[1;33m,\u001b[0m \u001b[0mname\u001b[0m\u001b[1;33m=\u001b[0m\u001b[0marg\u001b[0m\u001b[1;33m.\u001b[0m\u001b[0mname\u001b[0m\u001b[1;33m)\u001b[0m\u001b[1;33m\u001b[0m\u001b[1;33m\u001b[0m\u001b[0m\n\u001b[0;32m    807\u001b[0m     \u001b[1;32melif\u001b[0m \u001b[0misinstance\u001b[0m\u001b[1;33m(\u001b[0m\u001b[0marg\u001b[0m\u001b[1;33m,\u001b[0m \u001b[1;33m(\u001b[0m\u001b[0mABCDataFrame\u001b[0m\u001b[1;33m,\u001b[0m \u001b[0mabc\u001b[0m\u001b[1;33m.\u001b[0m\u001b[0mMutableMapping\u001b[0m\u001b[1;33m)\u001b[0m\u001b[1;33m)\u001b[0m\u001b[1;33m:\u001b[0m\u001b[1;33m\u001b[0m\u001b[1;33m\u001b[0m\u001b[0m\n",
      "\u001b[1;32mc:\\python\\python392\\lib\\site-packages\\pandas\\core\\tools\\datetimes.py\u001b[0m in \u001b[0;36m_convert_listlike_datetimes\u001b[1;34m(arg, format, name, tz, unit, errors, infer_datetime_format, dayfirst, yearfirst, exact)\u001b[0m\n\u001b[0;32m    463\u001b[0m         \u001b[1;32massert\u001b[0m \u001b[0mformat\u001b[0m \u001b[1;32mis\u001b[0m \u001b[1;32mNone\u001b[0m \u001b[1;32mor\u001b[0m \u001b[0minfer_datetime_format\u001b[0m\u001b[1;33m\u001b[0m\u001b[1;33m\u001b[0m\u001b[0m\n\u001b[0;32m    464\u001b[0m         \u001b[0mutc\u001b[0m \u001b[1;33m=\u001b[0m \u001b[0mtz\u001b[0m \u001b[1;33m==\u001b[0m \u001b[1;34m\"utc\"\u001b[0m\u001b[1;33m\u001b[0m\u001b[1;33m\u001b[0m\u001b[0m\n\u001b[1;32m--> 465\u001b[1;33m         result, tz_parsed = objects_to_datetime64ns(\n\u001b[0m\u001b[0;32m    466\u001b[0m             \u001b[0marg\u001b[0m\u001b[1;33m,\u001b[0m\u001b[1;33m\u001b[0m\u001b[1;33m\u001b[0m\u001b[0m\n\u001b[0;32m    467\u001b[0m             \u001b[0mdayfirst\u001b[0m\u001b[1;33m=\u001b[0m\u001b[0mdayfirst\u001b[0m\u001b[1;33m,\u001b[0m\u001b[1;33m\u001b[0m\u001b[1;33m\u001b[0m\u001b[0m\n",
      "\u001b[1;32mc:\\python\\python392\\lib\\site-packages\\pandas\\core\\arrays\\datetimes.py\u001b[0m in \u001b[0;36mobjects_to_datetime64ns\u001b[1;34m(data, dayfirst, yearfirst, utc, errors, require_iso8601, allow_object)\u001b[0m\n\u001b[0;32m   2088\u001b[0m             \u001b[1;32mreturn\u001b[0m \u001b[0mvalues\u001b[0m\u001b[1;33m.\u001b[0m\u001b[0mview\u001b[0m\u001b[1;33m(\u001b[0m\u001b[1;34m\"i8\"\u001b[0m\u001b[1;33m)\u001b[0m\u001b[1;33m,\u001b[0m \u001b[0mtz_parsed\u001b[0m\u001b[1;33m\u001b[0m\u001b[1;33m\u001b[0m\u001b[0m\n\u001b[0;32m   2089\u001b[0m         \u001b[1;32mexcept\u001b[0m \u001b[1;33m(\u001b[0m\u001b[0mValueError\u001b[0m\u001b[1;33m,\u001b[0m \u001b[0mTypeError\u001b[0m\u001b[1;33m)\u001b[0m\u001b[1;33m:\u001b[0m\u001b[1;33m\u001b[0m\u001b[1;33m\u001b[0m\u001b[0m\n\u001b[1;32m-> 2090\u001b[1;33m             \u001b[1;32mraise\u001b[0m \u001b[0me\u001b[0m\u001b[1;33m\u001b[0m\u001b[1;33m\u001b[0m\u001b[0m\n\u001b[0m\u001b[0;32m   2091\u001b[0m \u001b[1;33m\u001b[0m\u001b[0m\n\u001b[0;32m   2092\u001b[0m     \u001b[1;32mif\u001b[0m \u001b[0mtz_parsed\u001b[0m \u001b[1;32mis\u001b[0m \u001b[1;32mnot\u001b[0m \u001b[1;32mNone\u001b[0m\u001b[1;33m:\u001b[0m\u001b[1;33m\u001b[0m\u001b[1;33m\u001b[0m\u001b[0m\n",
      "\u001b[1;32mc:\\python\\python392\\lib\\site-packages\\pandas\\core\\arrays\\datetimes.py\u001b[0m in \u001b[0;36mobjects_to_datetime64ns\u001b[1;34m(data, dayfirst, yearfirst, utc, errors, require_iso8601, allow_object)\u001b[0m\n\u001b[0;32m   2073\u001b[0m \u001b[1;33m\u001b[0m\u001b[0m\n\u001b[0;32m   2074\u001b[0m     \u001b[1;32mtry\u001b[0m\u001b[1;33m:\u001b[0m\u001b[1;33m\u001b[0m\u001b[1;33m\u001b[0m\u001b[0m\n\u001b[1;32m-> 2075\u001b[1;33m         result, tz_parsed = tslib.array_to_datetime(\n\u001b[0m\u001b[0;32m   2076\u001b[0m             \u001b[0mdata\u001b[0m\u001b[1;33m,\u001b[0m\u001b[1;33m\u001b[0m\u001b[1;33m\u001b[0m\u001b[0m\n\u001b[0;32m   2077\u001b[0m             \u001b[0merrors\u001b[0m\u001b[1;33m=\u001b[0m\u001b[0merrors\u001b[0m\u001b[1;33m,\u001b[0m\u001b[1;33m\u001b[0m\u001b[1;33m\u001b[0m\u001b[0m\n",
      "\u001b[1;32mpandas\\_libs\\tslib.pyx\u001b[0m in \u001b[0;36mpandas._libs.tslib.array_to_datetime\u001b[1;34m()\u001b[0m\n",
      "\u001b[1;32mpandas\\_libs\\tslib.pyx\u001b[0m in \u001b[0;36mpandas._libs.tslib.array_to_datetime\u001b[1;34m()\u001b[0m\n",
      "\u001b[1;32mpandas\\_libs\\tslib.pyx\u001b[0m in \u001b[0;36mpandas._libs.tslib.array_to_datetime_object\u001b[1;34m()\u001b[0m\n",
      "\u001b[1;32mpandas\\_libs\\tslib.pyx\u001b[0m in \u001b[0;36mpandas._libs.tslib.array_to_datetime_object\u001b[1;34m()\u001b[0m\n",
      "\u001b[1;32mpandas\\_libs\\tslibs\\parsing.pyx\u001b[0m in \u001b[0;36mpandas._libs.tslibs.parsing.parse_datetime_string\u001b[1;34m()\u001b[0m\n",
      "\u001b[1;32mc:\\python\\python392\\lib\\site-packages\\dateutil\\parser\\_parser.py\u001b[0m in \u001b[0;36mparse\u001b[1;34m(timestr, parserinfo, **kwargs)\u001b[0m\n\u001b[0;32m   1372\u001b[0m         \u001b[1;32mreturn\u001b[0m \u001b[0mparser\u001b[0m\u001b[1;33m(\u001b[0m\u001b[0mparserinfo\u001b[0m\u001b[1;33m)\u001b[0m\u001b[1;33m.\u001b[0m\u001b[0mparse\u001b[0m\u001b[1;33m(\u001b[0m\u001b[0mtimestr\u001b[0m\u001b[1;33m,\u001b[0m \u001b[1;33m**\u001b[0m\u001b[0mkwargs\u001b[0m\u001b[1;33m)\u001b[0m\u001b[1;33m\u001b[0m\u001b[1;33m\u001b[0m\u001b[0m\n\u001b[0;32m   1373\u001b[0m     \u001b[1;32melse\u001b[0m\u001b[1;33m:\u001b[0m\u001b[1;33m\u001b[0m\u001b[1;33m\u001b[0m\u001b[0m\n\u001b[1;32m-> 1374\u001b[1;33m         \u001b[1;32mreturn\u001b[0m \u001b[0mDEFAULTPARSER\u001b[0m\u001b[1;33m.\u001b[0m\u001b[0mparse\u001b[0m\u001b[1;33m(\u001b[0m\u001b[0mtimestr\u001b[0m\u001b[1;33m,\u001b[0m \u001b[1;33m**\u001b[0m\u001b[0mkwargs\u001b[0m\u001b[1;33m)\u001b[0m\u001b[1;33m\u001b[0m\u001b[1;33m\u001b[0m\u001b[0m\n\u001b[0m\u001b[0;32m   1375\u001b[0m \u001b[1;33m\u001b[0m\u001b[0m\n\u001b[0;32m   1376\u001b[0m \u001b[1;33m\u001b[0m\u001b[0m\n",
      "\u001b[1;32mc:\\python\\python392\\lib\\site-packages\\dateutil\\parser\\_parser.py\u001b[0m in \u001b[0;36mparse\u001b[1;34m(self, timestr, default, ignoretz, tzinfos, **kwargs)\u001b[0m\n\u001b[0;32m    647\u001b[0m \u001b[1;33m\u001b[0m\u001b[0m\n\u001b[0;32m    648\u001b[0m         \u001b[1;32mif\u001b[0m \u001b[0mres\u001b[0m \u001b[1;32mis\u001b[0m \u001b[1;32mNone\u001b[0m\u001b[1;33m:\u001b[0m\u001b[1;33m\u001b[0m\u001b[1;33m\u001b[0m\u001b[0m\n\u001b[1;32m--> 649\u001b[1;33m             \u001b[1;32mraise\u001b[0m \u001b[0mParserError\u001b[0m\u001b[1;33m(\u001b[0m\u001b[1;34m\"Unknown string format: %s\"\u001b[0m\u001b[1;33m,\u001b[0m \u001b[0mtimestr\u001b[0m\u001b[1;33m)\u001b[0m\u001b[1;33m\u001b[0m\u001b[1;33m\u001b[0m\u001b[0m\n\u001b[0m\u001b[0;32m    650\u001b[0m \u001b[1;33m\u001b[0m\u001b[0m\n\u001b[0;32m    651\u001b[0m         \u001b[1;32mif\u001b[0m \u001b[0mlen\u001b[0m\u001b[1;33m(\u001b[0m\u001b[0mres\u001b[0m\u001b[1;33m)\u001b[0m \u001b[1;33m==\u001b[0m \u001b[1;36m0\u001b[0m\u001b[1;33m:\u001b[0m\u001b[1;33m\u001b[0m\u001b[1;33m\u001b[0m\u001b[0m\n",
      "\u001b[1;31mParserError\u001b[0m: Unknown string format: hello"
     ]
    }
   ],
   "source": [
    "pd.to_datetime(dates)# this will give error"
   ]
  },
  {
   "cell_type": "code",
   "execution_count": null,
   "id": "massive-transsexual",
   "metadata": {},
   "outputs": [],
   "source": [
    "pd.to_datetime(dates,errors=\"coerce\")# NaT=not a time,set errors = coerce to convert the series to datetimeindex"
   ]
  },
  {
   "cell_type": "markdown",
   "id": "historical-ministry",
   "metadata": {},
   "source": [
    "# unix time"
   ]
  },
  {
   "cell_type": "code",
   "execution_count": null,
   "id": "right-senate",
   "metadata": {},
   "outputs": [],
   "source": [
    "pd.to_datetime([1490750889, 1490751209, 1490751569],unit='s')\n",
    "# time in seconds after jan1 ,1970 is a unix timestamp.to convert these to \n",
    "#actual dates,set unit='s' where s stands for seconds."
   ]
  },
  {
   "cell_type": "markdown",
   "id": "loose-compromise",
   "metadata": {},
   "source": [
    "# pd.date_range() Method"
   ]
  },
  {
   "cell_type": "code",
   "execution_count": 8,
   "id": "dying-garlic",
   "metadata": {},
   "outputs": [],
   "source": [
    "times=pd.date_range(start= \"2018/03/28\",end=\"2018/04/6\",freq=\"D\")"
   ]
  },
  {
   "cell_type": "code",
   "execution_count": 6,
   "id": "shaped-postcard",
   "metadata": {},
   "outputs": [
    {
     "data": {
      "text/plain": [
       "pandas.core.indexes.datetimes.DatetimeIndex"
      ]
     },
     "execution_count": 6,
     "metadata": {},
     "output_type": "execute_result"
    }
   ],
   "source": [
    "type(times) # it is a datetimeindex object."
   ]
  },
  {
   "cell_type": "code",
   "execution_count": 9,
   "id": "impossible-canada",
   "metadata": {},
   "outputs": [
    {
     "data": {
      "text/plain": [
       "Timestamp('2018-03-28 00:00:00', freq='D')"
      ]
     },
     "execution_count": 9,
     "metadata": {},
     "output_type": "execute_result"
    }
   ],
   "source": [
    "times[0]"
   ]
  },
  {
   "cell_type": "code",
   "execution_count": null,
   "id": "experienced-toolbox",
   "metadata": {},
   "outputs": [],
   "source": [
    "type(times[0]) # it is a time stamp."
   ]
  },
  {
   "cell_type": "code",
   "execution_count": 10,
   "id": "resident-exhibition",
   "metadata": {},
   "outputs": [
    {
     "data": {
      "text/plain": [
       "DatetimeIndex(['2018-03-28', '2018-03-30', '2018-04-01', '2018-04-03',\n",
       "               '2018-04-05'],\n",
       "              dtype='datetime64[ns]', freq='2D')"
      ]
     },
     "execution_count": 10,
     "metadata": {},
     "output_type": "execute_result"
    }
   ],
   "source": [
    "pd.date_range(start= \"2018/03/28\",end=\"2018/04/6\",freq=\"2D\")"
   ]
  },
  {
   "cell_type": "code",
   "execution_count": 11,
   "id": "forward-ottawa",
   "metadata": {},
   "outputs": [
    {
     "data": {
      "text/plain": [
       "DatetimeIndex(['2018-03-28', '2018-03-29', '2018-03-30', '2018-04-02',\n",
       "               '2018-04-03', '2018-04-04', '2018-04-05', '2018-04-06'],\n",
       "              dtype='datetime64[ns]', freq='B')"
      ]
     },
     "execution_count": 11,
     "metadata": {},
     "output_type": "execute_result"
    }
   ],
   "source": [
    "pd.date_range(start= \"2018/03/28\",end=\"2018/04/6\",freq=\"B\")# business days"
   ]
  },
  {
   "cell_type": "code",
   "execution_count": 12,
   "id": "downtown-cuisine",
   "metadata": {},
   "outputs": [
    {
     "data": {
      "text/plain": [
       "DatetimeIndex(['2018-04-01', '2018-04-08'], dtype='datetime64[ns]', freq='W-SUN')"
      ]
     },
     "execution_count": 12,
     "metadata": {},
     "output_type": "execute_result"
    }
   ],
   "source": [
    "pd.date_range(start= \"2018/03/28\",end=\"2018/04/8\",freq=\"W\") # returns a week starting from 1 sunday to the next in the given range"
   ]
  },
  {
   "cell_type": "code",
   "execution_count": 13,
   "id": "secondary-contrast",
   "metadata": {},
   "outputs": [
    {
     "data": {
      "text/plain": [
       "DatetimeIndex(['2018-03-30', '2018-04-06', '2018-04-13', '2018-04-20'], dtype='datetime64[ns]', freq='W-FRI')"
      ]
     },
     "execution_count": 13,
     "metadata": {},
     "output_type": "execute_result"
    }
   ],
   "source": [
    "pd.date_range(start= \"2018/03/28\",end=\"2018/04/20\",freq=\"W-FRI\") # starts the week on friday"
   ]
  },
  {
   "cell_type": "code",
   "execution_count": 14,
   "id": "statutory-trauma",
   "metadata": {
    "collapsed": true
   },
   "outputs": [
    {
     "data": {
      "text/plain": [
       "DatetimeIndex(['2018-03-28 00:00:00', '2018-03-28 01:00:00',\n",
       "               '2018-03-28 02:00:00', '2018-03-28 03:00:00',\n",
       "               '2018-03-28 04:00:00', '2018-03-28 05:00:00',\n",
       "               '2018-03-28 06:00:00', '2018-03-28 07:00:00',\n",
       "               '2018-03-28 08:00:00', '2018-03-28 09:00:00',\n",
       "               '2018-03-28 10:00:00', '2018-03-28 11:00:00',\n",
       "               '2018-03-28 12:00:00', '2018-03-28 13:00:00',\n",
       "               '2018-03-28 14:00:00', '2018-03-28 15:00:00',\n",
       "               '2018-03-28 16:00:00', '2018-03-28 17:00:00',\n",
       "               '2018-03-28 18:00:00', '2018-03-28 19:00:00',\n",
       "               '2018-03-28 20:00:00', '2018-03-28 21:00:00',\n",
       "               '2018-03-28 22:00:00', '2018-03-28 23:00:00',\n",
       "               '2018-03-29 00:00:00'],\n",
       "              dtype='datetime64[ns]', freq='H')"
      ]
     },
     "execution_count": 14,
     "metadata": {},
     "output_type": "execute_result"
    }
   ],
   "source": [
    "pd.date_range(start= \"2018/03/28\",end=\"2018/03/29\",freq=\"H\") # every hour from start to end"
   ]
  },
  {
   "cell_type": "code",
   "execution_count": 15,
   "id": "apart-small",
   "metadata": {},
   "outputs": [
    {
     "data": {
      "text/plain": [
       "DatetimeIndex(['2018-03-28 00:00:00', '2018-03-28 05:00:00',\n",
       "               '2018-03-28 10:00:00', '2018-03-28 15:00:00',\n",
       "               '2018-03-28 20:00:00', '2018-03-29 01:00:00',\n",
       "               '2018-03-29 06:00:00', '2018-03-29 11:00:00',\n",
       "               '2018-03-29 16:00:00', '2018-03-29 21:00:00'],\n",
       "              dtype='datetime64[ns]', freq='5H')"
      ]
     },
     "execution_count": 15,
     "metadata": {},
     "output_type": "execute_result"
    }
   ],
   "source": [
    "pd.date_range(start= \"2018/03/28\",end=\"2018/03/30\",freq=\"5H\")"
   ]
  },
  {
   "cell_type": "code",
   "execution_count": 16,
   "id": "promotional-grave",
   "metadata": {},
   "outputs": [
    {
     "data": {
      "text/plain": [
       "DatetimeIndex(['2018-03-31', '2018-04-30', '2018-05-31'], dtype='datetime64[ns]', freq='M')"
      ]
     },
     "execution_count": 16,
     "metadata": {},
     "output_type": "execute_result"
    }
   ],
   "source": [
    "pd.date_range(start= \"2018/03/28\",end=\"2018/06/20\",freq=\"M\") # returns month ends within the range"
   ]
  },
  {
   "cell_type": "code",
   "execution_count": null,
   "id": "broad-cotton",
   "metadata": {},
   "outputs": [],
   "source": [
    "pd.date_range(start= \"2018/03/28\",end=\"2018/08/20\",freq=\"MS\") # returns month starts within the range"
   ]
  },
  {
   "cell_type": "code",
   "execution_count": 18,
   "id": "jewish-bruce",
   "metadata": {},
   "outputs": [
    {
     "data": {
      "text/plain": [
       "DatetimeIndex(['2018-12-31', '2019-12-31', '2020-12-31', '2021-12-31',\n",
       "               '2022-12-31', '2023-12-31', '2024-12-31', '2025-12-31',\n",
       "               '2026-12-31', '2027-12-31', '2028-12-31', '2029-12-31'],\n",
       "              dtype='datetime64[ns]', freq='A-DEC')"
      ]
     },
     "execution_count": 18,
     "metadata": {},
     "output_type": "execute_result"
    }
   ],
   "source": [
    "pd.date_range(start= \"2018/03/28\",end=\"2030/06/20\",freq=\"A\") # returns year ends within the range"
   ]
  },
  {
   "cell_type": "markdown",
   "id": "friendly-tours",
   "metadata": {},
   "source": [
    "# pd.date_range part two"
   ]
  },
  {
   "cell_type": "code",
   "execution_count": 19,
   "id": "dimensional-cosmetic",
   "metadata": {},
   "outputs": [
    {
     "data": {
      "text/plain": [
       "DatetimeIndex(['2009-03-28', '2009-03-29', '2009-03-30', '2009-03-31',\n",
       "               '2009-04-01', '2009-04-02', '2009-04-03', '2009-04-04',\n",
       "               '2009-04-05', '2009-04-06', '2009-04-07', '2009-04-08',\n",
       "               '2009-04-09', '2009-04-10', '2009-04-11', '2009-04-12',\n",
       "               '2009-04-13', '2009-04-14', '2009-04-15', '2009-04-16',\n",
       "               '2009-04-17', '2009-04-18', '2009-04-19', '2009-04-20',\n",
       "               '2009-04-21'],\n",
       "              dtype='datetime64[ns]', freq='D')"
      ]
     },
     "execution_count": 19,
     "metadata": {},
     "output_type": "execute_result"
    }
   ],
   "source": [
    "pd.date_range(start=\"2009/03/28\",periods=25,freq=\"D\") # using start and period ( no need for end)"
   ]
  },
  {
   "cell_type": "code",
   "execution_count": 20,
   "id": "statutory-circus",
   "metadata": {},
   "outputs": [
    {
     "data": {
      "text/plain": [
       "DatetimeIndex(['2009-03-30', '2009-03-31', '2009-04-01', '2009-04-02',\n",
       "               '2009-04-03', '2009-04-06', '2009-04-07', '2009-04-08',\n",
       "               '2009-04-09', '2009-04-10', '2009-04-13', '2009-04-14',\n",
       "               '2009-04-15', '2009-04-16', '2009-04-17', '2009-04-20',\n",
       "               '2009-04-21', '2009-04-22', '2009-04-23', '2009-04-24',\n",
       "               '2009-04-27', '2009-04-28', '2009-04-29', '2009-04-30',\n",
       "               '2009-05-01'],\n",
       "              dtype='datetime64[ns]', freq='B')"
      ]
     },
     "execution_count": 20,
     "metadata": {},
     "output_type": "execute_result"
    }
   ],
   "source": [
    "pd.date_range(start=\"2009/03/28\",periods=25,freq=\"B\")#  returns 25 business days from 28 th march"
   ]
  },
  {
   "cell_type": "code",
   "execution_count": 21,
   "id": "played-wallet",
   "metadata": {},
   "outputs": [
    {
     "data": {
      "text/plain": [
       "DatetimeIndex(['2009-03-29', '2009-04-05', '2009-04-12', '2009-04-19',\n",
       "               '2009-04-26', '2009-05-03', '2009-05-10', '2009-05-17',\n",
       "               '2009-05-24', '2009-05-31', '2009-06-07', '2009-06-14',\n",
       "               '2009-06-21', '2009-06-28', '2009-07-05', '2009-07-12',\n",
       "               '2009-07-19', '2009-07-26', '2009-08-02', '2009-08-09',\n",
       "               '2009-08-16', '2009-08-23', '2009-08-30', '2009-09-06',\n",
       "               '2009-09-13'],\n",
       "              dtype='datetime64[ns]', freq='W-SUN')"
      ]
     },
     "execution_count": 21,
     "metadata": {},
     "output_type": "execute_result"
    }
   ],
   "source": [
    "pd.date_range(start=\"2009/03/28\",periods=25,freq=\"W\") # 29 is sunday and it returns 25 weeks starting with sunday"
   ]
  },
  {
   "cell_type": "code",
   "execution_count": 22,
   "id": "moved-northern",
   "metadata": {
    "collapsed": true
   },
   "outputs": [
    {
     "data": {
      "text/plain": [
       "DatetimeIndex(['2009-03-31', '2009-04-07', '2009-04-14', '2009-04-21',\n",
       "               '2009-04-28', '2009-05-05', '2009-05-12', '2009-05-19',\n",
       "               '2009-05-26', '2009-06-02', '2009-06-09', '2009-06-16',\n",
       "               '2009-06-23', '2009-06-30', '2009-07-07', '2009-07-14',\n",
       "               '2009-07-21', '2009-07-28', '2009-08-04', '2009-08-11',\n",
       "               '2009-08-18', '2009-08-25', '2009-09-01', '2009-09-08',\n",
       "               '2009-09-15'],\n",
       "              dtype='datetime64[ns]', freq='W-TUE')"
      ]
     },
     "execution_count": 22,
     "metadata": {},
     "output_type": "execute_result"
    }
   ],
   "source": [
    "pd.date_range(start=\"2009/03/28\",periods=25,freq=\"W-TUE\")"
   ]
  },
  {
   "cell_type": "code",
   "execution_count": null,
   "id": "conceptual-bulletin",
   "metadata": {},
   "outputs": [],
   "source": [
    "pd.date_range(start=\"2009/03/28\",periods=25,freq=\"MS\")"
   ]
  },
  {
   "cell_type": "code",
   "execution_count": null,
   "id": "severe-prayer",
   "metadata": {},
   "outputs": [],
   "source": [
    "pd.date_range(start=\"2009/03/28\",periods=25,freq=\"A\") #year ends  from 2009"
   ]
  },
  {
   "cell_type": "code",
   "execution_count": null,
   "id": "julian-butter",
   "metadata": {},
   "outputs": [],
   "source": [
    "type(pd.date_range(start=\"2009/03/28\",periods=10,freq=\"6H\"))"
   ]
  },
  {
   "cell_type": "markdown",
   "id": "preceding-aerospace",
   "metadata": {},
   "source": [
    "# pd.date_range Method 3"
   ]
  },
  {
   "cell_type": "code",
   "execution_count": null,
   "id": "likely-formation",
   "metadata": {},
   "outputs": [],
   "source": [
    "pd.date_range(end=\"2009/03/28\",periods=25,freq=\"D\")"
   ]
  },
  {
   "cell_type": "code",
   "execution_count": null,
   "id": "suited-bicycle",
   "metadata": {},
   "outputs": [],
   "source": [
    "pd.date_range(end=\"2009/03/28\",periods=25,freq=\"B\")"
   ]
  },
  {
   "cell_type": "code",
   "execution_count": null,
   "id": "deluxe-bridges",
   "metadata": {},
   "outputs": [],
   "source": [
    "pd.date_range(end=\"2009/03/28\",periods=25,freq=\"2B\")"
   ]
  },
  {
   "cell_type": "code",
   "execution_count": null,
   "id": "effective-habitat",
   "metadata": {},
   "outputs": [],
   "source": [
    "pd.date_range(end=\"2009/03/28\",periods=10,freq=\"12h\")"
   ]
  },
  {
   "cell_type": "code",
   "execution_count": 23,
   "id": "romantic-grenada",
   "metadata": {},
   "outputs": [
    {
     "data": {
      "text/plain": [
       "DatetimeIndex(['2009-01-24', '2009-01-31', '2009-02-07', '2009-02-14',\n",
       "               '2009-02-21', '2009-02-28', '2009-03-07', '2009-03-14',\n",
       "               '2009-03-21', '2009-03-28'],\n",
       "              dtype='datetime64[ns]', freq='W-SAT')"
      ]
     },
     "execution_count": 23,
     "metadata": {},
     "output_type": "execute_result"
    }
   ],
   "source": [
    "pd.date_range(end=\"2009/03/28\",periods=10,freq=\"w-sat\")"
   ]
  },
  {
   "cell_type": "code",
   "execution_count": 24,
   "id": "mediterranean-slave",
   "metadata": {},
   "outputs": [
    {
     "data": {
      "text/plain": [
       "DatetimeIndex(['2007-02-28', '2007-03-31', '2007-04-30', '2007-05-31',\n",
       "               '2007-06-30', '2007-07-31', '2007-08-31', '2007-09-30',\n",
       "               '2007-10-31', '2007-11-30', '2007-12-31', '2008-01-31',\n",
       "               '2008-02-29', '2008-03-31', '2008-04-30', '2008-05-31',\n",
       "               '2008-06-30', '2008-07-31', '2008-08-31', '2008-09-30',\n",
       "               '2008-10-31', '2008-11-30', '2008-12-31', '2009-01-31',\n",
       "               '2009-02-28'],\n",
       "              dtype='datetime64[ns]', freq='M')"
      ]
     },
     "execution_count": 24,
     "metadata": {},
     "output_type": "execute_result"
    }
   ],
   "source": [
    "pd.date_range(end=\"2009/03/28\",periods=25,freq=\"M\")"
   ]
  },
  {
   "cell_type": "code",
   "execution_count": 25,
   "id": "dedicated-toddler",
   "metadata": {},
   "outputs": [
    {
     "data": {
      "text/plain": [
       "DatetimeIndex(['2009-03-27 23:59:59.991000', '2009-03-27 23:59:59.992000',\n",
       "               '2009-03-27 23:59:59.993000', '2009-03-27 23:59:59.994000',\n",
       "               '2009-03-27 23:59:59.995000', '2009-03-27 23:59:59.996000',\n",
       "               '2009-03-27 23:59:59.997000', '2009-03-27 23:59:59.998000',\n",
       "               '2009-03-27 23:59:59.999000',        '2009-03-28 00:00:00'],\n",
       "              dtype='datetime64[ns]', freq='L')"
      ]
     },
     "execution_count": 25,
     "metadata": {},
     "output_type": "execute_result"
    }
   ],
   "source": [
    "pd.date_range(end=\"2009/03/28\",periods=10,freq=\"ms\")"
   ]
  },
  {
   "cell_type": "markdown",
   "id": "boxed-stretch",
   "metadata": {},
   "source": [
    "# .dt Accessor"
   ]
  },
  {
   "cell_type": "code",
   "execution_count": 26,
   "id": "universal-louisville",
   "metadata": {},
   "outputs": [],
   "source": [
    "bunch_of_dates=pd.date_range(start=\"2000-01-01\",end=\"2010-12-13\",freq=\"24D\")"
   ]
  },
  {
   "cell_type": "code",
   "execution_count": 27,
   "id": "raising-capability",
   "metadata": {},
   "outputs": [
    {
     "data": {
      "text/plain": [
       "0   2000-01-01\n",
       "1   2000-01-25\n",
       "2   2000-02-18\n",
       "dtype: datetime64[ns]"
      ]
     },
     "execution_count": 27,
     "metadata": {},
     "output_type": "execute_result"
    }
   ],
   "source": [
    "s=pd.Series(bunch_of_dates)# series of dates\n",
    "s.head(3)"
   ]
  },
  {
   "cell_type": "code",
   "execution_count": null,
   "id": "monthly-regulation",
   "metadata": {},
   "outputs": [],
   "source": [
    "s.dt.day # to access only the days from bunch_of_dates."
   ]
  },
  {
   "cell_type": "code",
   "execution_count": null,
   "id": "several-alpha",
   "metadata": {},
   "outputs": [],
   "source": [
    "s.dt.month"
   ]
  },
  {
   "cell_type": "code",
   "execution_count": 28,
   "id": "geological-plaintiff",
   "metadata": {},
   "outputs": [
    {
     "data": {
      "text/plain": [
       "0     2000-01-01\n",
       "19    2001-04-01\n",
       "38    2002-07-01\n",
       "137   2009-01-01\n",
       "dtype: datetime64[ns]"
      ]
     },
     "execution_count": 28,
     "metadata": {},
     "output_type": "execute_result"
    }
   ],
   "source": [
    "s[s.dt.is_quarter_start] # to check if there are any days where a quarter starts."
   ]
  },
  {
   "cell_type": "code",
   "execution_count": null,
   "id": "anonymous-model",
   "metadata": {},
   "outputs": [],
   "source": [
    "s[s.dt.is_month_start] #to check if there are any days where a month starts."
   ]
  },
  {
   "cell_type": "code",
   "execution_count": null,
   "id": "precious-peoples",
   "metadata": {},
   "outputs": [],
   "source": [
    "stocks"
   ]
  },
  {
   "cell_type": "code",
   "execution_count": null,
   "id": "exotic-window",
   "metadata": {},
   "outputs": [],
   "source": []
  }
 ],
 "metadata": {
  "kernelspec": {
   "display_name": "Python 3",
   "language": "python",
   "name": "python3"
  },
  "language_info": {
   "codemirror_mode": {
    "name": "ipython",
    "version": 3
   },
   "file_extension": ".py",
   "mimetype": "text/x-python",
   "name": "python",
   "nbconvert_exporter": "python",
   "pygments_lexer": "ipython3",
   "version": "3.9.2"
  }
 },
 "nbformat": 4,
 "nbformat_minor": 5
}
