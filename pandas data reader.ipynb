{
 "cells": [
  {
   "cell_type": "code",
   "execution_count": 1,
   "id": "opening-contest",
   "metadata": {},
   "outputs": [],
   "source": [
    "import pandas as pd\n",
    "import datetime as dt\n",
    "from pandas_datareader import data #we can use data.somethinag instead of pd or dt"
   ]
  },
  {
   "cell_type": "code",
   "execution_count": 2,
   "id": "talented-packing",
   "metadata": {},
   "outputs": [],
   "source": [
    "stocks=data.DataReader(name=\"MSFT\",data_source=\"yahoo\",start=\"2018-01-01\",end=\"2020-12-31\")\n",
    "#name is stock symbol of the company.eg microsoft-msft.\n",
    "#data source=from where this data is going to be taken."
   ]
  },
  {
   "cell_type": "code",
   "execution_count": 3,
   "id": "sunset-timber",
   "metadata": {},
   "outputs": [
    {
     "data": {
      "text/html": [
       "<div>\n",
       "<style scoped>\n",
       "    .dataframe tbody tr th:only-of-type {\n",
       "        vertical-align: middle;\n",
       "    }\n",
       "\n",
       "    .dataframe tbody tr th {\n",
       "        vertical-align: top;\n",
       "    }\n",
       "\n",
       "    .dataframe thead th {\n",
       "        text-align: right;\n",
       "    }\n",
       "</style>\n",
       "<table border=\"1\" class=\"dataframe\">\n",
       "  <thead>\n",
       "    <tr style=\"text-align: right;\">\n",
       "      <th></th>\n",
       "      <th>High</th>\n",
       "      <th>Low</th>\n",
       "      <th>Open</th>\n",
       "      <th>Close</th>\n",
       "      <th>Volume</th>\n",
       "      <th>Adj Close</th>\n",
       "    </tr>\n",
       "    <tr>\n",
       "      <th>Date</th>\n",
       "      <th></th>\n",
       "      <th></th>\n",
       "      <th></th>\n",
       "      <th></th>\n",
       "      <th></th>\n",
       "      <th></th>\n",
       "    </tr>\n",
       "  </thead>\n",
       "  <tbody>\n",
       "    <tr>\n",
       "      <th>2018-01-02</th>\n",
       "      <td>86.309998</td>\n",
       "      <td>85.500000</td>\n",
       "      <td>86.129997</td>\n",
       "      <td>85.949997</td>\n",
       "      <td>22483800.0</td>\n",
       "      <td>82.194328</td>\n",
       "    </tr>\n",
       "    <tr>\n",
       "      <th>2018-01-03</th>\n",
       "      <td>86.510002</td>\n",
       "      <td>85.970001</td>\n",
       "      <td>86.059998</td>\n",
       "      <td>86.349998</td>\n",
       "      <td>26061400.0</td>\n",
       "      <td>82.576843</td>\n",
       "    </tr>\n",
       "  </tbody>\n",
       "</table>\n",
       "</div>"
      ],
      "text/plain": [
       "                 High        Low       Open      Close      Volume  Adj Close\n",
       "Date                                                                         \n",
       "2018-01-02  86.309998  85.500000  86.129997  85.949997  22483800.0  82.194328\n",
       "2018-01-03  86.510002  85.970001  86.059998  86.349998  26061400.0  82.576843"
      ]
     },
     "execution_count": 3,
     "metadata": {},
     "output_type": "execute_result"
    }
   ],
   "source": [
    "stocks.head(2)"
   ]
  },
  {
   "cell_type": "code",
   "execution_count": 4,
   "id": "martial-pakistan",
   "metadata": {},
   "outputs": [
    {
     "data": {
      "text/plain": [
       "array([[8.63099976e+01, 8.55000000e+01, 8.61299973e+01, 8.59499969e+01,\n",
       "        2.24838000e+07, 8.21943283e+01],\n",
       "       [8.65100021e+01, 8.59700012e+01, 8.60599976e+01, 8.63499985e+01,\n",
       "        2.60614000e+07, 8.25768433e+01],\n",
       "       [8.76600037e+01, 8.65699997e+01, 8.65899963e+01, 8.71100006e+01,\n",
       "        2.19120000e+07, 8.33036575e+01],\n",
       "       ...,\n",
       "       [2.27179993e+02, 2.23580002e+02, 2.26309998e+02, 2.24149994e+02,\n",
       "        1.74032000e+07, 2.23634918e+02],\n",
       "       [2.25630005e+02, 2.21470001e+02, 2.25229996e+02, 2.21679993e+02,\n",
       "        2.02723000e+07, 2.21170593e+02],\n",
       "       [2.23000000e+02, 2.19679993e+02, 2.21699997e+02, 2.22419998e+02,\n",
       "        2.09421000e+07, 2.21908905e+02]])"
      ]
     },
     "execution_count": 4,
     "metadata": {},
     "output_type": "execute_result"
    }
   ],
   "source": [
    "stocks.values"
   ]
  },
  {
   "cell_type": "code",
   "execution_count": 5,
   "id": "assisted-estonia",
   "metadata": {},
   "outputs": [
    {
     "data": {
      "text/plain": [
       "Index(['High', 'Low', 'Open', 'Close', 'Volume', 'Adj Close'], dtype='object')"
      ]
     },
     "execution_count": 5,
     "metadata": {},
     "output_type": "execute_result"
    }
   ],
   "source": [
    "stocks.columns"
   ]
  },
  {
   "cell_type": "code",
   "execution_count": 6,
   "id": "ordinary-planet",
   "metadata": {},
   "outputs": [
    {
     "data": {
      "text/plain": [
       "DatetimeIndex(['2018-01-02', '2018-01-03', '2018-01-04', '2018-01-05',\n",
       "               '2018-01-08', '2018-01-09', '2018-01-10', '2018-01-11',\n",
       "               '2018-01-12', '2018-01-16',\n",
       "               ...\n",
       "               '2020-12-17', '2020-12-18', '2020-12-21', '2020-12-22',\n",
       "               '2020-12-23', '2020-12-24', '2020-12-28', '2020-12-29',\n",
       "               '2020-12-30', '2020-12-31'],\n",
       "              dtype='datetime64[ns]', name='Date', length=756, freq=None)"
      ]
     },
     "execution_count": 6,
     "metadata": {},
     "output_type": "execute_result"
    }
   ],
   "source": [
    "stocks.index # a DatetimeIndex"
   ]
  },
  {
   "cell_type": "code",
   "execution_count": 7,
   "id": "approved-tampa",
   "metadata": {},
   "outputs": [
    {
     "data": {
      "text/plain": [
       "[DatetimeIndex(['2018-01-02', '2018-01-03', '2018-01-04', '2018-01-05',\n",
       "                '2018-01-08', '2018-01-09', '2018-01-10', '2018-01-11',\n",
       "                '2018-01-12', '2018-01-16',\n",
       "                ...\n",
       "                '2020-12-17', '2020-12-18', '2020-12-21', '2020-12-22',\n",
       "                '2020-12-23', '2020-12-24', '2020-12-28', '2020-12-29',\n",
       "                '2020-12-30', '2020-12-31'],\n",
       "               dtype='datetime64[ns]', name='Date', length=756, freq=None),\n",
       " Index(['High', 'Low', 'Open', 'Close', 'Volume', 'Adj Close'], dtype='object')]"
      ]
     },
     "execution_count": 7,
     "metadata": {},
     "output_type": "execute_result"
    }
   ],
   "source": [
    "stocks.axes"
   ]
  },
  {
   "cell_type": "markdown",
   "id": "external-bulletin",
   "metadata": {},
   "source": [
    "# selecting rows from a dataframe using a \n",
    "# DatetimeIndex"
   ]
  },
  {
   "cell_type": "code",
   "execution_count": 8,
   "id": "nutritional-think",
   "metadata": {},
   "outputs": [
    {
     "data": {
      "text/html": [
       "<div>\n",
       "<style scoped>\n",
       "    .dataframe tbody tr th:only-of-type {\n",
       "        vertical-align: middle;\n",
       "    }\n",
       "\n",
       "    .dataframe tbody tr th {\n",
       "        vertical-align: top;\n",
       "    }\n",
       "\n",
       "    .dataframe thead th {\n",
       "        text-align: right;\n",
       "    }\n",
       "</style>\n",
       "<table border=\"1\" class=\"dataframe\">\n",
       "  <thead>\n",
       "    <tr style=\"text-align: right;\">\n",
       "      <th></th>\n",
       "      <th>High</th>\n",
       "      <th>Low</th>\n",
       "      <th>Open</th>\n",
       "      <th>Close</th>\n",
       "      <th>Volume</th>\n",
       "      <th>Adj Close</th>\n",
       "    </tr>\n",
       "    <tr>\n",
       "      <th>Date</th>\n",
       "      <th></th>\n",
       "      <th></th>\n",
       "      <th></th>\n",
       "      <th></th>\n",
       "      <th></th>\n",
       "      <th></th>\n",
       "    </tr>\n",
       "  </thead>\n",
       "  <tbody>\n",
       "    <tr>\n",
       "      <th>2018-01-02</th>\n",
       "      <td>86.309998</td>\n",
       "      <td>85.500000</td>\n",
       "      <td>86.129997</td>\n",
       "      <td>85.949997</td>\n",
       "      <td>22483800.0</td>\n",
       "      <td>82.194328</td>\n",
       "    </tr>\n",
       "    <tr>\n",
       "      <th>2018-01-03</th>\n",
       "      <td>86.510002</td>\n",
       "      <td>85.970001</td>\n",
       "      <td>86.059998</td>\n",
       "      <td>86.349998</td>\n",
       "      <td>26061400.0</td>\n",
       "      <td>82.576843</td>\n",
       "    </tr>\n",
       "    <tr>\n",
       "      <th>2018-01-04</th>\n",
       "      <td>87.660004</td>\n",
       "      <td>86.570000</td>\n",
       "      <td>86.589996</td>\n",
       "      <td>87.110001</td>\n",
       "      <td>21912000.0</td>\n",
       "      <td>83.303658</td>\n",
       "    </tr>\n",
       "  </tbody>\n",
       "</table>\n",
       "</div>"
      ],
      "text/plain": [
       "                 High        Low       Open      Close      Volume  Adj Close\n",
       "Date                                                                         \n",
       "2018-01-02  86.309998  85.500000  86.129997  85.949997  22483800.0  82.194328\n",
       "2018-01-03  86.510002  85.970001  86.059998  86.349998  26061400.0  82.576843\n",
       "2018-01-04  87.660004  86.570000  86.589996  87.110001  21912000.0  83.303658"
      ]
     },
     "execution_count": 8,
     "metadata": {},
     "output_type": "execute_result"
    }
   ],
   "source": [
    "stocks.head(3)"
   ]
  },
  {
   "cell_type": "code",
   "execution_count": 9,
   "id": "informational-recipe",
   "metadata": {},
   "outputs": [
    {
     "data": {
      "text/plain": [
       "High         8.631000e+01\n",
       "Low          8.550000e+01\n",
       "Open         8.613000e+01\n",
       "Close        8.595000e+01\n",
       "Volume       2.248380e+07\n",
       "Adj Close    8.219433e+01\n",
       "Name: 2018-01-02 00:00:00, dtype: float64"
      ]
     },
     "execution_count": 9,
     "metadata": {},
     "output_type": "execute_result"
    }
   ],
   "source": [
    "stocks.loc[pd.Timestamp(\"2018-01-02\")]"
   ]
  },
  {
   "cell_type": "code",
   "execution_count": 10,
   "id": "tender-premium",
   "metadata": {},
   "outputs": [
    {
     "data": {
      "text/plain": [
       "High         9.458000e+01\n",
       "Low          9.283000e+01\n",
       "Open         9.353000e+01\n",
       "Close        9.418000e+01\n",
       "Volume       2.761100e+07\n",
       "Adj Close    9.048779e+01\n",
       "Name: 2018-03-15 00:00:00, dtype: float64"
      ]
     },
     "execution_count": 10,
     "metadata": {},
     "output_type": "execute_result"
    }
   ],
   "source": [
    "stocks.iloc[50] # 51st row in the dataframe"
   ]
  },
  {
   "cell_type": "code",
   "execution_count": 11,
   "id": "expired-sampling",
   "metadata": {},
   "outputs": [
    {
     "data": {
      "text/plain": [
       "High         2.230000e+02\n",
       "Low          2.196800e+02\n",
       "Open         2.217000e+02\n",
       "Close        2.224200e+02\n",
       "Volume       2.094210e+07\n",
       "Adj Close    2.219089e+02\n",
       "Name: 2020-12-31 00:00:00, dtype: float64"
      ]
     },
     "execution_count": 11,
     "metadata": {},
     "output_type": "execute_result"
    }
   ],
   "source": [
    "stocks.iloc[-1]"
   ]
  },
  {
   "cell_type": "code",
   "execution_count": 3,
   "id": "sporting-intensity",
   "metadata": {},
   "outputs": [
    {
     "data": {
      "text/html": [
       "<div>\n",
       "<style scoped>\n",
       "    .dataframe tbody tr th:only-of-type {\n",
       "        vertical-align: middle;\n",
       "    }\n",
       "\n",
       "    .dataframe tbody tr th {\n",
       "        vertical-align: top;\n",
       "    }\n",
       "\n",
       "    .dataframe thead th {\n",
       "        text-align: right;\n",
       "    }\n",
       "</style>\n",
       "<table border=\"1\" class=\"dataframe\">\n",
       "  <thead>\n",
       "    <tr style=\"text-align: right;\">\n",
       "      <th></th>\n",
       "      <th>High</th>\n",
       "      <th>Low</th>\n",
       "      <th>Open</th>\n",
       "      <th>Close</th>\n",
       "      <th>Volume</th>\n",
       "      <th>Adj Close</th>\n",
       "    </tr>\n",
       "    <tr>\n",
       "      <th>Date</th>\n",
       "      <th></th>\n",
       "      <th></th>\n",
       "      <th></th>\n",
       "      <th></th>\n",
       "      <th></th>\n",
       "      <th></th>\n",
       "    </tr>\n",
       "  </thead>\n",
       "  <tbody>\n",
       "    <tr>\n",
       "      <th>2018-01-02</th>\n",
       "      <td>86.309998</td>\n",
       "      <td>85.500000</td>\n",
       "      <td>86.129997</td>\n",
       "      <td>85.949997</td>\n",
       "      <td>22483800.0</td>\n",
       "      <td>82.194328</td>\n",
       "    </tr>\n",
       "    <tr>\n",
       "      <th>2018-01-03</th>\n",
       "      <td>86.510002</td>\n",
       "      <td>85.970001</td>\n",
       "      <td>86.059998</td>\n",
       "      <td>86.349998</td>\n",
       "      <td>26061400.0</td>\n",
       "      <td>82.576843</td>\n",
       "    </tr>\n",
       "  </tbody>\n",
       "</table>\n",
       "</div>"
      ],
      "text/plain": [
       "                 High        Low       Open      Close      Volume  Adj Close\n",
       "Date                                                                         \n",
       "2018-01-02  86.309998  85.500000  86.129997  85.949997  22483800.0  82.194328\n",
       "2018-01-03  86.510002  85.970001  86.059998  86.349998  26061400.0  82.576843"
      ]
     },
     "execution_count": 3,
     "metadata": {},
     "output_type": "execute_result"
    }
   ],
   "source": [
    "stocks.loc[[\"2018-01-02\",\"2018-01-03\"]]# this will be an error as it will not accept time as a string\n"
   ]
  },
  {
   "cell_type": "code",
   "execution_count": 4,
   "id": "egyptian-sleeping",
   "metadata": {},
   "outputs": [
    {
     "data": {
      "text/html": [
       "<div>\n",
       "<style scoped>\n",
       "    .dataframe tbody tr th:only-of-type {\n",
       "        vertical-align: middle;\n",
       "    }\n",
       "\n",
       "    .dataframe tbody tr th {\n",
       "        vertical-align: top;\n",
       "    }\n",
       "\n",
       "    .dataframe thead th {\n",
       "        text-align: right;\n",
       "    }\n",
       "</style>\n",
       "<table border=\"1\" class=\"dataframe\">\n",
       "  <thead>\n",
       "    <tr style=\"text-align: right;\">\n",
       "      <th></th>\n",
       "      <th>High</th>\n",
       "      <th>Low</th>\n",
       "      <th>Open</th>\n",
       "      <th>Close</th>\n",
       "      <th>Volume</th>\n",
       "      <th>Adj Close</th>\n",
       "    </tr>\n",
       "    <tr>\n",
       "      <th>Date</th>\n",
       "      <th></th>\n",
       "      <th></th>\n",
       "      <th></th>\n",
       "      <th></th>\n",
       "      <th></th>\n",
       "      <th></th>\n",
       "    </tr>\n",
       "  </thead>\n",
       "  <tbody>\n",
       "    <tr>\n",
       "      <th>2018-01-02</th>\n",
       "      <td>86.309998</td>\n",
       "      <td>85.500000</td>\n",
       "      <td>86.129997</td>\n",
       "      <td>85.949997</td>\n",
       "      <td>22483800.0</td>\n",
       "      <td>82.194328</td>\n",
       "    </tr>\n",
       "    <tr>\n",
       "      <th>2018-01-03</th>\n",
       "      <td>86.510002</td>\n",
       "      <td>85.970001</td>\n",
       "      <td>86.059998</td>\n",
       "      <td>86.349998</td>\n",
       "      <td>26061400.0</td>\n",
       "      <td>82.576843</td>\n",
       "    </tr>\n",
       "  </tbody>\n",
       "</table>\n",
       "</div>"
      ],
      "text/plain": [
       "                 High        Low       Open      Close      Volume  Adj Close\n",
       "Date                                                                         \n",
       "2018-01-02  86.309998  85.500000  86.129997  85.949997  22483800.0  82.194328\n",
       "2018-01-03  86.510002  85.970001  86.059998  86.349998  26061400.0  82.576843"
      ]
     },
     "execution_count": 4,
     "metadata": {},
     "output_type": "execute_result"
    }
   ],
   "source": [
    "stocks.loc[[pd.Timestamp(\"2018-01-02\"),pd.Timestamp(\"2018-01-03\")]] # remember to give the two timestamps as a list"
   ]
  },
  {
   "cell_type": "code",
   "execution_count": null,
   "id": "sporting-newton",
   "metadata": {},
   "outputs": [],
   "source": [
    "stocks.iloc[[10,20,30]] # always pass as a list for multiple indices"
   ]
  },
  {
   "cell_type": "code",
   "execution_count": 6,
   "id": "clean-webcam",
   "metadata": {},
   "outputs": [
    {
     "data": {
      "text/html": [
       "<div>\n",
       "<style scoped>\n",
       "    .dataframe tbody tr th:only-of-type {\n",
       "        vertical-align: middle;\n",
       "    }\n",
       "\n",
       "    .dataframe tbody tr th {\n",
       "        vertical-align: top;\n",
       "    }\n",
       "\n",
       "    .dataframe thead th {\n",
       "        text-align: right;\n",
       "    }\n",
       "</style>\n",
       "<table border=\"1\" class=\"dataframe\">\n",
       "  <thead>\n",
       "    <tr style=\"text-align: right;\">\n",
       "      <th></th>\n",
       "      <th>High</th>\n",
       "      <th>Low</th>\n",
       "      <th>Open</th>\n",
       "      <th>Close</th>\n",
       "      <th>Volume</th>\n",
       "      <th>Adj Close</th>\n",
       "    </tr>\n",
       "    <tr>\n",
       "      <th>Date</th>\n",
       "      <th></th>\n",
       "      <th></th>\n",
       "      <th></th>\n",
       "      <th></th>\n",
       "      <th></th>\n",
       "      <th></th>\n",
       "    </tr>\n",
       "  </thead>\n",
       "  <tbody>\n",
       "    <tr>\n",
       "      <th>2018-01-02</th>\n",
       "      <td>86.309998</td>\n",
       "      <td>85.500000</td>\n",
       "      <td>86.129997</td>\n",
       "      <td>85.949997</td>\n",
       "      <td>22483800.0</td>\n",
       "      <td>82.194328</td>\n",
       "    </tr>\n",
       "    <tr>\n",
       "      <th>2018-01-03</th>\n",
       "      <td>86.510002</td>\n",
       "      <td>85.970001</td>\n",
       "      <td>86.059998</td>\n",
       "      <td>86.349998</td>\n",
       "      <td>26061400.0</td>\n",
       "      <td>82.576843</td>\n",
       "    </tr>\n",
       "    <tr>\n",
       "      <th>2018-01-04</th>\n",
       "      <td>87.660004</td>\n",
       "      <td>86.570000</td>\n",
       "      <td>86.589996</td>\n",
       "      <td>87.110001</td>\n",
       "      <td>21912000.0</td>\n",
       "      <td>83.303658</td>\n",
       "    </tr>\n",
       "    <tr>\n",
       "      <th>2018-01-05</th>\n",
       "      <td>88.410004</td>\n",
       "      <td>87.430000</td>\n",
       "      <td>87.660004</td>\n",
       "      <td>88.190002</td>\n",
       "      <td>23407100.0</td>\n",
       "      <td>84.336464</td>\n",
       "    </tr>\n",
       "    <tr>\n",
       "      <th>2018-01-08</th>\n",
       "      <td>88.580002</td>\n",
       "      <td>87.599998</td>\n",
       "      <td>88.199997</td>\n",
       "      <td>88.279999</td>\n",
       "      <td>22113000.0</td>\n",
       "      <td>84.422516</td>\n",
       "    </tr>\n",
       "    <tr>\n",
       "      <th>2018-01-09</th>\n",
       "      <td>88.730003</td>\n",
       "      <td>87.860001</td>\n",
       "      <td>88.650002</td>\n",
       "      <td>88.220001</td>\n",
       "      <td>19484300.0</td>\n",
       "      <td>84.365158</td>\n",
       "    </tr>\n",
       "    <tr>\n",
       "      <th>2018-01-10</th>\n",
       "      <td>88.190002</td>\n",
       "      <td>87.410004</td>\n",
       "      <td>87.860001</td>\n",
       "      <td>87.820000</td>\n",
       "      <td>18652200.0</td>\n",
       "      <td>83.982628</td>\n",
       "    </tr>\n",
       "  </tbody>\n",
       "</table>\n",
       "</div>"
      ],
      "text/plain": [
       "                 High        Low       Open      Close      Volume  Adj Close\n",
       "Date                                                                         \n",
       "2018-01-02  86.309998  85.500000  86.129997  85.949997  22483800.0  82.194328\n",
       "2018-01-03  86.510002  85.970001  86.059998  86.349998  26061400.0  82.576843\n",
       "2018-01-04  87.660004  86.570000  86.589996  87.110001  21912000.0  83.303658\n",
       "2018-01-05  88.410004  87.430000  87.660004  88.190002  23407100.0  84.336464\n",
       "2018-01-08  88.580002  87.599998  88.199997  88.279999  22113000.0  84.422516\n",
       "2018-01-09  88.730003  87.860001  88.650002  88.220001  19484300.0  84.365158\n",
       "2018-01-10  88.190002  87.410004  87.860001  87.820000  18652200.0  83.982628"
      ]
     },
     "execution_count": 6,
     "metadata": {},
     "output_type": "execute_result"
    }
   ],
   "source": [
    "stocks.loc[\"2018-01-02\":\"2018-01-10\"] # slicing the rows,also both are inclusive"
   ]
  },
  {
   "cell_type": "code",
   "execution_count": 7,
   "id": "athletic-light",
   "metadata": {},
   "outputs": [
    {
     "data": {
      "text/html": [
       "<div>\n",
       "<style scoped>\n",
       "    .dataframe tbody tr th:only-of-type {\n",
       "        vertical-align: middle;\n",
       "    }\n",
       "\n",
       "    .dataframe tbody tr th {\n",
       "        vertical-align: top;\n",
       "    }\n",
       "\n",
       "    .dataframe thead th {\n",
       "        text-align: right;\n",
       "    }\n",
       "</style>\n",
       "<table border=\"1\" class=\"dataframe\">\n",
       "  <thead>\n",
       "    <tr style=\"text-align: right;\">\n",
       "      <th></th>\n",
       "      <th>High</th>\n",
       "      <th>Low</th>\n",
       "      <th>Open</th>\n",
       "      <th>Close</th>\n",
       "      <th>Volume</th>\n",
       "      <th>Adj Close</th>\n",
       "    </tr>\n",
       "    <tr>\n",
       "      <th>Date</th>\n",
       "      <th></th>\n",
       "      <th></th>\n",
       "      <th></th>\n",
       "      <th></th>\n",
       "      <th></th>\n",
       "      <th></th>\n",
       "    </tr>\n",
       "  </thead>\n",
       "  <tbody>\n",
       "    <tr>\n",
       "      <th>2018-01-02</th>\n",
       "      <td>86.309998</td>\n",
       "      <td>85.500000</td>\n",
       "      <td>86.129997</td>\n",
       "      <td>85.949997</td>\n",
       "      <td>22483800.0</td>\n",
       "      <td>82.194328</td>\n",
       "    </tr>\n",
       "    <tr>\n",
       "      <th>2018-01-03</th>\n",
       "      <td>86.510002</td>\n",
       "      <td>85.970001</td>\n",
       "      <td>86.059998</td>\n",
       "      <td>86.349998</td>\n",
       "      <td>26061400.0</td>\n",
       "      <td>82.576843</td>\n",
       "    </tr>\n",
       "    <tr>\n",
       "      <th>2018-01-04</th>\n",
       "      <td>87.660004</td>\n",
       "      <td>86.570000</td>\n",
       "      <td>86.589996</td>\n",
       "      <td>87.110001</td>\n",
       "      <td>21912000.0</td>\n",
       "      <td>83.303658</td>\n",
       "    </tr>\n",
       "    <tr>\n",
       "      <th>2018-01-05</th>\n",
       "      <td>88.410004</td>\n",
       "      <td>87.430000</td>\n",
       "      <td>87.660004</td>\n",
       "      <td>88.190002</td>\n",
       "      <td>23407100.0</td>\n",
       "      <td>84.336464</td>\n",
       "    </tr>\n",
       "    <tr>\n",
       "      <th>2018-01-08</th>\n",
       "      <td>88.580002</td>\n",
       "      <td>87.599998</td>\n",
       "      <td>88.199997</td>\n",
       "      <td>88.279999</td>\n",
       "      <td>22113000.0</td>\n",
       "      <td>84.422516</td>\n",
       "    </tr>\n",
       "    <tr>\n",
       "      <th>2018-01-09</th>\n",
       "      <td>88.730003</td>\n",
       "      <td>87.860001</td>\n",
       "      <td>88.650002</td>\n",
       "      <td>88.220001</td>\n",
       "      <td>19484300.0</td>\n",
       "      <td>84.365158</td>\n",
       "    </tr>\n",
       "    <tr>\n",
       "      <th>2018-01-10</th>\n",
       "      <td>88.190002</td>\n",
       "      <td>87.410004</td>\n",
       "      <td>87.860001</td>\n",
       "      <td>87.820000</td>\n",
       "      <td>18652200.0</td>\n",
       "      <td>83.982628</td>\n",
       "    </tr>\n",
       "  </tbody>\n",
       "</table>\n",
       "</div>"
      ],
      "text/plain": [
       "                 High        Low       Open      Close      Volume  Adj Close\n",
       "Date                                                                         \n",
       "2018-01-02  86.309998  85.500000  86.129997  85.949997  22483800.0  82.194328\n",
       "2018-01-03  86.510002  85.970001  86.059998  86.349998  26061400.0  82.576843\n",
       "2018-01-04  87.660004  86.570000  86.589996  87.110001  21912000.0  83.303658\n",
       "2018-01-05  88.410004  87.430000  87.660004  88.190002  23407100.0  84.336464\n",
       "2018-01-08  88.580002  87.599998  88.199997  88.279999  22113000.0  84.422516\n",
       "2018-01-09  88.730003  87.860001  88.650002  88.220001  19484300.0  84.365158\n",
       "2018-01-10  88.190002  87.410004  87.860001  87.820000  18652200.0  83.982628"
      ]
     },
     "execution_count": 7,
     "metadata": {},
     "output_type": "execute_result"
    }
   ],
   "source": [
    "stocks.truncate(before=\"2018-01-2\",after=\"2018-01-10\") #here before represents starting and after represents ending. "
   ]
  },
  {
   "cell_type": "code",
   "execution_count": 8,
   "id": "global-moscow",
   "metadata": {
    "scrolled": true
   },
   "outputs": [
    {
     "data": {
      "text/html": [
       "<div>\n",
       "<style scoped>\n",
       "    .dataframe tbody tr th:only-of-type {\n",
       "        vertical-align: middle;\n",
       "    }\n",
       "\n",
       "    .dataframe tbody tr th {\n",
       "        vertical-align: top;\n",
       "    }\n",
       "\n",
       "    .dataframe thead th {\n",
       "        text-align: right;\n",
       "    }\n",
       "</style>\n",
       "<table border=\"1\" class=\"dataframe\">\n",
       "  <thead>\n",
       "    <tr style=\"text-align: right;\">\n",
       "      <th></th>\n",
       "      <th>High</th>\n",
       "      <th>Low</th>\n",
       "      <th>Open</th>\n",
       "      <th>Close</th>\n",
       "      <th>Volume</th>\n",
       "      <th>Adj Close</th>\n",
       "    </tr>\n",
       "    <tr>\n",
       "      <th>Date</th>\n",
       "      <th></th>\n",
       "      <th></th>\n",
       "      <th></th>\n",
       "      <th></th>\n",
       "      <th></th>\n",
       "      <th></th>\n",
       "    </tr>\n",
       "  </thead>\n",
       "  <tbody>\n",
       "    <tr>\n",
       "      <th>2018-10-17</th>\n",
       "      <td>111.809998</td>\n",
       "      <td>109.550003</td>\n",
       "      <td>111.680000</td>\n",
       "      <td>110.709999</td>\n",
       "      <td>26548200.0</td>\n",
       "      <td>107.241898</td>\n",
       "    </tr>\n",
       "    <tr>\n",
       "      <th>2018-10-18</th>\n",
       "      <td>110.529999</td>\n",
       "      <td>107.830002</td>\n",
       "      <td>110.099998</td>\n",
       "      <td>108.500000</td>\n",
       "      <td>32506200.0</td>\n",
       "      <td>105.101143</td>\n",
       "    </tr>\n",
       "    <tr>\n",
       "      <th>2018-10-19</th>\n",
       "      <td>110.860001</td>\n",
       "      <td>108.209999</td>\n",
       "      <td>108.930000</td>\n",
       "      <td>108.660004</td>\n",
       "      <td>32785500.0</td>\n",
       "      <td>105.256142</td>\n",
       "    </tr>\n",
       "    <tr>\n",
       "      <th>2018-10-22</th>\n",
       "      <td>110.540001</td>\n",
       "      <td>108.239998</td>\n",
       "      <td>109.320000</td>\n",
       "      <td>109.629997</td>\n",
       "      <td>26545600.0</td>\n",
       "      <td>106.195747</td>\n",
       "    </tr>\n",
       "    <tr>\n",
       "      <th>2018-10-23</th>\n",
       "      <td>108.970001</td>\n",
       "      <td>105.110001</td>\n",
       "      <td>107.769997</td>\n",
       "      <td>108.099998</td>\n",
       "      <td>43770400.0</td>\n",
       "      <td>104.713676</td>\n",
       "    </tr>\n",
       "    <tr>\n",
       "      <th>2018-10-24</th>\n",
       "      <td>108.489998</td>\n",
       "      <td>101.589996</td>\n",
       "      <td>108.410004</td>\n",
       "      <td>102.320000</td>\n",
       "      <td>63897800.0</td>\n",
       "      <td>99.114746</td>\n",
       "    </tr>\n",
       "    <tr>\n",
       "      <th>2018-10-25</th>\n",
       "      <td>109.269997</td>\n",
       "      <td>106.150002</td>\n",
       "      <td>106.550003</td>\n",
       "      <td>108.300003</td>\n",
       "      <td>61646800.0</td>\n",
       "      <td>104.907417</td>\n",
       "    </tr>\n",
       "    <tr>\n",
       "      <th>2018-10-26</th>\n",
       "      <td>108.750000</td>\n",
       "      <td>104.760002</td>\n",
       "      <td>105.690002</td>\n",
       "      <td>106.959999</td>\n",
       "      <td>55523100.0</td>\n",
       "      <td>103.609390</td>\n",
       "    </tr>\n",
       "    <tr>\n",
       "      <th>2018-10-29</th>\n",
       "      <td>108.699997</td>\n",
       "      <td>101.629997</td>\n",
       "      <td>108.110001</td>\n",
       "      <td>103.849998</td>\n",
       "      <td>55162000.0</td>\n",
       "      <td>100.596809</td>\n",
       "    </tr>\n",
       "    <tr>\n",
       "      <th>2018-10-30</th>\n",
       "      <td>104.379997</td>\n",
       "      <td>100.110001</td>\n",
       "      <td>103.660004</td>\n",
       "      <td>103.730003</td>\n",
       "      <td>65350900.0</td>\n",
       "      <td>100.480568</td>\n",
       "    </tr>\n",
       "  </tbody>\n",
       "</table>\n",
       "</div>"
      ],
      "text/plain": [
       "                  High         Low        Open       Close      Volume  \\\n",
       "Date                                                                     \n",
       "2018-10-17  111.809998  109.550003  111.680000  110.709999  26548200.0   \n",
       "2018-10-18  110.529999  107.830002  110.099998  108.500000  32506200.0   \n",
       "2018-10-19  110.860001  108.209999  108.930000  108.660004  32785500.0   \n",
       "2018-10-22  110.540001  108.239998  109.320000  109.629997  26545600.0   \n",
       "2018-10-23  108.970001  105.110001  107.769997  108.099998  43770400.0   \n",
       "2018-10-24  108.489998  101.589996  108.410004  102.320000  63897800.0   \n",
       "2018-10-25  109.269997  106.150002  106.550003  108.300003  61646800.0   \n",
       "2018-10-26  108.750000  104.760002  105.690002  106.959999  55523100.0   \n",
       "2018-10-29  108.699997  101.629997  108.110001  103.849998  55162000.0   \n",
       "2018-10-30  104.379997  100.110001  103.660004  103.730003  65350900.0   \n",
       "\n",
       "             Adj Close  \n",
       "Date                    \n",
       "2018-10-17  107.241898  \n",
       "2018-10-18  105.101143  \n",
       "2018-10-19  105.256142  \n",
       "2018-10-22  106.195747  \n",
       "2018-10-23  104.713676  \n",
       "2018-10-24   99.114746  \n",
       "2018-10-25  104.907417  \n",
       "2018-10-26  103.609390  \n",
       "2018-10-29  100.596809  \n",
       "2018-10-30  100.480568  "
      ]
     },
     "execution_count": 8,
     "metadata": {},
     "output_type": "execute_result"
    }
   ],
   "source": [
    "stocks.iloc[200:210] # 210 is not inclusive"
   ]
  },
  {
   "cell_type": "markdown",
   "id": "angry-hawaiian",
   "metadata": {},
   "source": [
    "to find stock prize of microsoft on every single bday of mine"
   ]
  },
  {
   "cell_type": "code",
   "execution_count": 25,
   "id": "difficult-plane",
   "metadata": {},
   "outputs": [],
   "source": [
    "bday=pd.date_range(start=\"1993-03-28\",end=\"2020-03-29\",freq=pd.DateOffset(years=1))"
   ]
  },
  {
   "cell_type": "code",
   "execution_count": 26,
   "id": "tracked-commitment",
   "metadata": {},
   "outputs": [
    {
     "data": {
      "text/html": [
       "<div>\n",
       "<style scoped>\n",
       "    .dataframe tbody tr th:only-of-type {\n",
       "        vertical-align: middle;\n",
       "    }\n",
       "\n",
       "    .dataframe tbody tr th {\n",
       "        vertical-align: top;\n",
       "    }\n",
       "\n",
       "    .dataframe thead th {\n",
       "        text-align: right;\n",
       "    }\n",
       "</style>\n",
       "<table border=\"1\" class=\"dataframe\">\n",
       "  <thead>\n",
       "    <tr style=\"text-align: right;\">\n",
       "      <th></th>\n",
       "      <th>High</th>\n",
       "      <th>Low</th>\n",
       "      <th>Open</th>\n",
       "      <th>Close</th>\n",
       "      <th>Volume</th>\n",
       "      <th>Adj Close</th>\n",
       "    </tr>\n",
       "    <tr>\n",
       "      <th>Date</th>\n",
       "      <th></th>\n",
       "      <th></th>\n",
       "      <th></th>\n",
       "      <th></th>\n",
       "      <th></th>\n",
       "      <th></th>\n",
       "    </tr>\n",
       "  </thead>\n",
       "  <tbody>\n",
       "    <tr>\n",
       "      <th>2018-03-28</th>\n",
       "      <td>91.230003</td>\n",
       "      <td>88.870003</td>\n",
       "      <td>89.820000</td>\n",
       "      <td>89.389999</td>\n",
       "      <td>52501100.0</td>\n",
       "      <td>85.885574</td>\n",
       "    </tr>\n",
       "    <tr>\n",
       "      <th>2019-03-28</th>\n",
       "      <td>117.580002</td>\n",
       "      <td>116.129997</td>\n",
       "      <td>117.440002</td>\n",
       "      <td>116.930000</td>\n",
       "      <td>18334800.0</td>\n",
       "      <td>114.242203</td>\n",
       "    </tr>\n",
       "  </tbody>\n",
       "</table>\n",
       "</div>"
      ],
      "text/plain": [
       "                  High         Low        Open       Close      Volume  \\\n",
       "Date                                                                     \n",
       "2018-03-28   91.230003   88.870003   89.820000   89.389999  52501100.0   \n",
       "2019-03-28  117.580002  116.129997  117.440002  116.930000  18334800.0   \n",
       "\n",
       "             Adj Close  \n",
       "Date                    \n",
       "2018-03-28   85.885574  \n",
       "2019-03-28  114.242203  "
      ]
     },
     "execution_count": 26,
     "metadata": {},
     "output_type": "execute_result"
    }
   ],
   "source": [
    "stocks.loc[stocks.index.isin(bday)]\n",
    "#bstoc=stocks.index.isin(bday)\n",
    "#stocks.loc[bstoc]"
   ]
  },
  {
   "cell_type": "markdown",
   "id": "trying-banner",
   "metadata": {},
   "source": [
    "# Timestamp object attributes"
   ]
  },
  {
   "cell_type": "code",
   "execution_count": 13,
   "id": "realistic-harvard",
   "metadata": {},
   "outputs": [
    {
     "data": {
      "text/html": [
       "<div>\n",
       "<style scoped>\n",
       "    .dataframe tbody tr th:only-of-type {\n",
       "        vertical-align: middle;\n",
       "    }\n",
       "\n",
       "    .dataframe tbody tr th {\n",
       "        vertical-align: top;\n",
       "    }\n",
       "\n",
       "    .dataframe thead th {\n",
       "        text-align: right;\n",
       "    }\n",
       "</style>\n",
       "<table border=\"1\" class=\"dataframe\">\n",
       "  <thead>\n",
       "    <tr style=\"text-align: right;\">\n",
       "      <th></th>\n",
       "      <th>High</th>\n",
       "      <th>Low</th>\n",
       "      <th>Open</th>\n",
       "      <th>Close</th>\n",
       "      <th>Volume</th>\n",
       "      <th>Adj Close</th>\n",
       "    </tr>\n",
       "    <tr>\n",
       "      <th>Date</th>\n",
       "      <th></th>\n",
       "      <th></th>\n",
       "      <th></th>\n",
       "      <th></th>\n",
       "      <th></th>\n",
       "      <th></th>\n",
       "    </tr>\n",
       "  </thead>\n",
       "  <tbody>\n",
       "    <tr>\n",
       "      <th>2018-01-02</th>\n",
       "      <td>86.309998</td>\n",
       "      <td>85.500000</td>\n",
       "      <td>86.129997</td>\n",
       "      <td>85.949997</td>\n",
       "      <td>22483800.0</td>\n",
       "      <td>82.194328</td>\n",
       "    </tr>\n",
       "    <tr>\n",
       "      <th>2018-01-03</th>\n",
       "      <td>86.510002</td>\n",
       "      <td>85.970001</td>\n",
       "      <td>86.059998</td>\n",
       "      <td>86.349998</td>\n",
       "      <td>26061400.0</td>\n",
       "      <td>82.576843</td>\n",
       "    </tr>\n",
       "    <tr>\n",
       "      <th>2018-01-04</th>\n",
       "      <td>87.660004</td>\n",
       "      <td>86.570000</td>\n",
       "      <td>86.589996</td>\n",
       "      <td>87.110001</td>\n",
       "      <td>21912000.0</td>\n",
       "      <td>83.303658</td>\n",
       "    </tr>\n",
       "  </tbody>\n",
       "</table>\n",
       "</div>"
      ],
      "text/plain": [
       "                 High        Low       Open      Close      Volume  Adj Close\n",
       "Date                                                                         \n",
       "2018-01-02  86.309998  85.500000  86.129997  85.949997  22483800.0  82.194328\n",
       "2018-01-03  86.510002  85.970001  86.059998  86.349998  26061400.0  82.576843\n",
       "2018-01-04  87.660004  86.570000  86.589996  87.110001  21912000.0  83.303658"
      ]
     },
     "execution_count": 13,
     "metadata": {},
     "output_type": "execute_result"
    }
   ],
   "source": [
    "stocks.head(3)"
   ]
  },
  {
   "cell_type": "code",
   "execution_count": 5,
   "id": "global-cancellation",
   "metadata": {},
   "outputs": [
    {
     "data": {
      "text/plain": [
       "Timestamp('2018-10-17 00:00:00')"
      ]
     },
     "execution_count": 5,
     "metadata": {},
     "output_type": "execute_result"
    }
   ],
   "source": [
    "stocks.index[200]"
   ]
  },
  {
   "cell_type": "code",
   "execution_count": 12,
   "id": "alert-pearl",
   "metadata": {},
   "outputs": [
    {
     "data": {
      "text/plain": [
       "Timestamp('2018-10-17 00:00:00')"
      ]
     },
     "execution_count": 12,
     "metadata": {},
     "output_type": "execute_result"
    }
   ],
   "source": [
    "a=stocks.index[200]\n",
    "a"
   ]
  },
  {
   "cell_type": "code",
   "execution_count": 13,
   "id": "regulated-masters",
   "metadata": {},
   "outputs": [
    {
     "data": {
      "text/plain": [
       "False"
      ]
     },
     "execution_count": 13,
     "metadata": {},
     "output_type": "execute_result"
    }
   ],
   "source": [
    "#a.day\n",
    "#a.month\n",
    "#a.week\n",
    "#a.is_month_end\n",
    "a.is_quarter_start\n",
    "#a.month_name()\n",
    "#a.day_name()"
   ]
  },
  {
   "cell_type": "code",
   "execution_count": 14,
   "id": "juvenile-wright",
   "metadata": {
    "collapsed": true
   },
   "outputs": [
    {
     "data": {
      "text/plain": [
       "Index(['Tuesday', 'Wednesday', 'Thursday', 'Friday', 'Monday', 'Tuesday',\n",
       "       'Wednesday', 'Thursday', 'Friday', 'Tuesday',\n",
       "       ...\n",
       "       'Thursday', 'Friday', 'Monday', 'Tuesday', 'Wednesday', 'Thursday',\n",
       "       'Monday', 'Tuesday', 'Wednesday', 'Thursday'],\n",
       "      dtype='object', name='Date', length=756)"
      ]
     },
     "execution_count": 14,
     "metadata": {},
     "output_type": "execute_result"
    }
   ],
   "source": [
    "stocks.index.day_name()"
   ]
  },
  {
   "cell_type": "code",
   "execution_count": 26,
   "id": "transsexual-heaven",
   "metadata": {},
   "outputs": [
    {
     "data": {
      "text/html": [
       "<div>\n",
       "<style scoped>\n",
       "    .dataframe tbody tr th:only-of-type {\n",
       "        vertical-align: middle;\n",
       "    }\n",
       "\n",
       "    .dataframe tbody tr th {\n",
       "        vertical-align: top;\n",
       "    }\n",
       "\n",
       "    .dataframe thead th {\n",
       "        text-align: right;\n",
       "    }\n",
       "</style>\n",
       "<table border=\"1\" class=\"dataframe\">\n",
       "  <thead>\n",
       "    <tr style=\"text-align: right;\">\n",
       "      <th></th>\n",
       "      <th>High</th>\n",
       "      <th>Dof</th>\n",
       "      <th>Low</th>\n",
       "      <th>Open</th>\n",
       "      <th>Close</th>\n",
       "      <th>Volume</th>\n",
       "      <th>Adj Close</th>\n",
       "    </tr>\n",
       "    <tr>\n",
       "      <th>Date</th>\n",
       "      <th></th>\n",
       "      <th></th>\n",
       "      <th></th>\n",
       "      <th></th>\n",
       "      <th></th>\n",
       "      <th></th>\n",
       "      <th></th>\n",
       "    </tr>\n",
       "  </thead>\n",
       "  <tbody>\n",
       "    <tr>\n",
       "      <th>2018-01-02</th>\n",
       "      <td>86.309998</td>\n",
       "      <td>Tuesday</td>\n",
       "      <td>85.500000</td>\n",
       "      <td>86.129997</td>\n",
       "      <td>85.949997</td>\n",
       "      <td>22483800.0</td>\n",
       "      <td>82.194328</td>\n",
       "    </tr>\n",
       "    <tr>\n",
       "      <th>2018-01-03</th>\n",
       "      <td>86.510002</td>\n",
       "      <td>Wednesday</td>\n",
       "      <td>85.970001</td>\n",
       "      <td>86.059998</td>\n",
       "      <td>86.349998</td>\n",
       "      <td>26061400.0</td>\n",
       "      <td>82.576843</td>\n",
       "    </tr>\n",
       "    <tr>\n",
       "      <th>2018-01-04</th>\n",
       "      <td>87.660004</td>\n",
       "      <td>Thursday</td>\n",
       "      <td>86.570000</td>\n",
       "      <td>86.589996</td>\n",
       "      <td>87.110001</td>\n",
       "      <td>21912000.0</td>\n",
       "      <td>83.303658</td>\n",
       "    </tr>\n",
       "    <tr>\n",
       "      <th>2018-01-05</th>\n",
       "      <td>88.410004</td>\n",
       "      <td>Friday</td>\n",
       "      <td>87.430000</td>\n",
       "      <td>87.660004</td>\n",
       "      <td>88.190002</td>\n",
       "      <td>23407100.0</td>\n",
       "      <td>84.336464</td>\n",
       "    </tr>\n",
       "    <tr>\n",
       "      <th>2018-01-08</th>\n",
       "      <td>88.580002</td>\n",
       "      <td>Monday</td>\n",
       "      <td>87.599998</td>\n",
       "      <td>88.199997</td>\n",
       "      <td>88.279999</td>\n",
       "      <td>22113000.0</td>\n",
       "      <td>84.422516</td>\n",
       "    </tr>\n",
       "    <tr>\n",
       "      <th>...</th>\n",
       "      <td>...</td>\n",
       "      <td>...</td>\n",
       "      <td>...</td>\n",
       "      <td>...</td>\n",
       "      <td>...</td>\n",
       "      <td>...</td>\n",
       "      <td>...</td>\n",
       "    </tr>\n",
       "    <tr>\n",
       "      <th>2020-12-24</th>\n",
       "      <td>223.610001</td>\n",
       "      <td>Thursday</td>\n",
       "      <td>221.199997</td>\n",
       "      <td>221.419998</td>\n",
       "      <td>222.750000</td>\n",
       "      <td>10550600.0</td>\n",
       "      <td>222.238144</td>\n",
       "    </tr>\n",
       "    <tr>\n",
       "      <th>2020-12-28</th>\n",
       "      <td>226.029999</td>\n",
       "      <td>Monday</td>\n",
       "      <td>223.020004</td>\n",
       "      <td>224.449997</td>\n",
       "      <td>224.960007</td>\n",
       "      <td>17933500.0</td>\n",
       "      <td>224.443069</td>\n",
       "    </tr>\n",
       "    <tr>\n",
       "      <th>2020-12-29</th>\n",
       "      <td>227.179993</td>\n",
       "      <td>Tuesday</td>\n",
       "      <td>223.580002</td>\n",
       "      <td>226.309998</td>\n",
       "      <td>224.149994</td>\n",
       "      <td>17403200.0</td>\n",
       "      <td>223.634918</td>\n",
       "    </tr>\n",
       "    <tr>\n",
       "      <th>2020-12-30</th>\n",
       "      <td>225.630005</td>\n",
       "      <td>Wednesday</td>\n",
       "      <td>221.470001</td>\n",
       "      <td>225.229996</td>\n",
       "      <td>221.679993</td>\n",
       "      <td>20272300.0</td>\n",
       "      <td>221.170593</td>\n",
       "    </tr>\n",
       "    <tr>\n",
       "      <th>2020-12-31</th>\n",
       "      <td>223.000000</td>\n",
       "      <td>Thursday</td>\n",
       "      <td>219.679993</td>\n",
       "      <td>221.699997</td>\n",
       "      <td>222.419998</td>\n",
       "      <td>20942100.0</td>\n",
       "      <td>221.908905</td>\n",
       "    </tr>\n",
       "  </tbody>\n",
       "</table>\n",
       "<p>756 rows × 7 columns</p>\n",
       "</div>"
      ],
      "text/plain": [
       "                  High        Dof         Low        Open       Close  \\\n",
       "Date                                                                    \n",
       "2018-01-02   86.309998    Tuesday   85.500000   86.129997   85.949997   \n",
       "2018-01-03   86.510002  Wednesday   85.970001   86.059998   86.349998   \n",
       "2018-01-04   87.660004   Thursday   86.570000   86.589996   87.110001   \n",
       "2018-01-05   88.410004     Friday   87.430000   87.660004   88.190002   \n",
       "2018-01-08   88.580002     Monday   87.599998   88.199997   88.279999   \n",
       "...                ...        ...         ...         ...         ...   \n",
       "2020-12-24  223.610001   Thursday  221.199997  221.419998  222.750000   \n",
       "2020-12-28  226.029999     Monday  223.020004  224.449997  224.960007   \n",
       "2020-12-29  227.179993    Tuesday  223.580002  226.309998  224.149994   \n",
       "2020-12-30  225.630005  Wednesday  221.470001  225.229996  221.679993   \n",
       "2020-12-31  223.000000   Thursday  219.679993  221.699997  222.419998   \n",
       "\n",
       "                Volume   Adj Close  \n",
       "Date                                \n",
       "2018-01-02  22483800.0   82.194328  \n",
       "2018-01-03  26061400.0   82.576843  \n",
       "2018-01-04  21912000.0   83.303658  \n",
       "2018-01-05  23407100.0   84.336464  \n",
       "2018-01-08  22113000.0   84.422516  \n",
       "...                ...         ...  \n",
       "2020-12-24  10550600.0  222.238144  \n",
       "2020-12-28  17933500.0  224.443069  \n",
       "2020-12-29  17403200.0  223.634918  \n",
       "2020-12-30  20272300.0  221.170593  \n",
       "2020-12-31  20942100.0  221.908905  \n",
       "\n",
       "[756 rows x 7 columns]"
      ]
     },
     "execution_count": 26,
     "metadata": {},
     "output_type": "execute_result"
    }
   ],
   "source": [
    "stocks.insert(1,\"Dof\",stocks.index.day_name())\n",
    "stocks"
   ]
  },
  {
   "cell_type": "code",
   "execution_count": 27,
   "id": "daily-africa",
   "metadata": {},
   "outputs": [],
   "source": [
    "stocks.drop(labels=[\"Dof\"],axis=1,inplace=True)"
   ]
  },
  {
   "cell_type": "code",
   "execution_count": 25,
   "id": "electronic-likelihood",
   "metadata": {},
   "outputs": [
    {
     "data": {
      "text/html": [
       "<div>\n",
       "<style scoped>\n",
       "    .dataframe tbody tr th:only-of-type {\n",
       "        vertical-align: middle;\n",
       "    }\n",
       "\n",
       "    .dataframe tbody tr th {\n",
       "        vertical-align: top;\n",
       "    }\n",
       "\n",
       "    .dataframe thead th {\n",
       "        text-align: right;\n",
       "    }\n",
       "</style>\n",
       "<table border=\"1\" class=\"dataframe\">\n",
       "  <thead>\n",
       "    <tr style=\"text-align: right;\">\n",
       "      <th></th>\n",
       "      <th>High</th>\n",
       "      <th>Low</th>\n",
       "      <th>Open</th>\n",
       "      <th>Close</th>\n",
       "      <th>Volume</th>\n",
       "      <th>Adj Close</th>\n",
       "    </tr>\n",
       "    <tr>\n",
       "      <th>Date</th>\n",
       "      <th></th>\n",
       "      <th></th>\n",
       "      <th></th>\n",
       "      <th></th>\n",
       "      <th></th>\n",
       "      <th></th>\n",
       "    </tr>\n",
       "  </thead>\n",
       "  <tbody>\n",
       "    <tr>\n",
       "      <th>2018-01-02</th>\n",
       "      <td>86.309998</td>\n",
       "      <td>85.500000</td>\n",
       "      <td>86.129997</td>\n",
       "      <td>85.949997</td>\n",
       "      <td>22483800.0</td>\n",
       "      <td>82.194328</td>\n",
       "    </tr>\n",
       "    <tr>\n",
       "      <th>2018-01-03</th>\n",
       "      <td>86.510002</td>\n",
       "      <td>85.970001</td>\n",
       "      <td>86.059998</td>\n",
       "      <td>86.349998</td>\n",
       "      <td>26061400.0</td>\n",
       "      <td>82.576843</td>\n",
       "    </tr>\n",
       "    <tr>\n",
       "      <th>2018-01-04</th>\n",
       "      <td>87.660004</td>\n",
       "      <td>86.570000</td>\n",
       "      <td>86.589996</td>\n",
       "      <td>87.110001</td>\n",
       "      <td>21912000.0</td>\n",
       "      <td>83.303658</td>\n",
       "    </tr>\n",
       "    <tr>\n",
       "      <th>2018-01-05</th>\n",
       "      <td>88.410004</td>\n",
       "      <td>87.430000</td>\n",
       "      <td>87.660004</td>\n",
       "      <td>88.190002</td>\n",
       "      <td>23407100.0</td>\n",
       "      <td>84.336464</td>\n",
       "    </tr>\n",
       "    <tr>\n",
       "      <th>2018-01-08</th>\n",
       "      <td>88.580002</td>\n",
       "      <td>87.599998</td>\n",
       "      <td>88.199997</td>\n",
       "      <td>88.279999</td>\n",
       "      <td>22113000.0</td>\n",
       "      <td>84.422516</td>\n",
       "    </tr>\n",
       "    <tr>\n",
       "      <th>...</th>\n",
       "      <td>...</td>\n",
       "      <td>...</td>\n",
       "      <td>...</td>\n",
       "      <td>...</td>\n",
       "      <td>...</td>\n",
       "      <td>...</td>\n",
       "    </tr>\n",
       "    <tr>\n",
       "      <th>2020-12-24</th>\n",
       "      <td>223.610001</td>\n",
       "      <td>221.199997</td>\n",
       "      <td>221.419998</td>\n",
       "      <td>222.750000</td>\n",
       "      <td>10550600.0</td>\n",
       "      <td>222.238144</td>\n",
       "    </tr>\n",
       "    <tr>\n",
       "      <th>2020-12-28</th>\n",
       "      <td>226.029999</td>\n",
       "      <td>223.020004</td>\n",
       "      <td>224.449997</td>\n",
       "      <td>224.960007</td>\n",
       "      <td>17933500.0</td>\n",
       "      <td>224.443069</td>\n",
       "    </tr>\n",
       "    <tr>\n",
       "      <th>2020-12-29</th>\n",
       "      <td>227.179993</td>\n",
       "      <td>223.580002</td>\n",
       "      <td>226.309998</td>\n",
       "      <td>224.149994</td>\n",
       "      <td>17403200.0</td>\n",
       "      <td>223.634918</td>\n",
       "    </tr>\n",
       "    <tr>\n",
       "      <th>2020-12-30</th>\n",
       "      <td>225.630005</td>\n",
       "      <td>221.470001</td>\n",
       "      <td>225.229996</td>\n",
       "      <td>221.679993</td>\n",
       "      <td>20272300.0</td>\n",
       "      <td>221.170593</td>\n",
       "    </tr>\n",
       "    <tr>\n",
       "      <th>2020-12-31</th>\n",
       "      <td>223.000000</td>\n",
       "      <td>219.679993</td>\n",
       "      <td>221.699997</td>\n",
       "      <td>222.419998</td>\n",
       "      <td>20942100.0</td>\n",
       "      <td>221.908905</td>\n",
       "    </tr>\n",
       "  </tbody>\n",
       "</table>\n",
       "<p>756 rows × 6 columns</p>\n",
       "</div>"
      ],
      "text/plain": [
       "                  High         Low        Open       Close      Volume  \\\n",
       "Date                                                                     \n",
       "2018-01-02   86.309998   85.500000   86.129997   85.949997  22483800.0   \n",
       "2018-01-03   86.510002   85.970001   86.059998   86.349998  26061400.0   \n",
       "2018-01-04   87.660004   86.570000   86.589996   87.110001  21912000.0   \n",
       "2018-01-05   88.410004   87.430000   87.660004   88.190002  23407100.0   \n",
       "2018-01-08   88.580002   87.599998   88.199997   88.279999  22113000.0   \n",
       "...                ...         ...         ...         ...         ...   \n",
       "2020-12-24  223.610001  221.199997  221.419998  222.750000  10550600.0   \n",
       "2020-12-28  226.029999  223.020004  224.449997  224.960007  17933500.0   \n",
       "2020-12-29  227.179993  223.580002  226.309998  224.149994  17403200.0   \n",
       "2020-12-30  225.630005  221.470001  225.229996  221.679993  20272300.0   \n",
       "2020-12-31  223.000000  219.679993  221.699997  222.419998  20942100.0   \n",
       "\n",
       "             Adj Close  \n",
       "Date                    \n",
       "2018-01-02   82.194328  \n",
       "2018-01-03   82.576843  \n",
       "2018-01-04   83.303658  \n",
       "2018-01-05   84.336464  \n",
       "2018-01-08   84.422516  \n",
       "...                ...  \n",
       "2020-12-24  222.238144  \n",
       "2020-12-28  224.443069  \n",
       "2020-12-29  223.634918  \n",
       "2020-12-30  221.170593  \n",
       "2020-12-31  221.908905  \n",
       "\n",
       "[756 rows x 6 columns]"
      ]
     },
     "execution_count": 25,
     "metadata": {},
     "output_type": "execute_result"
    }
   ],
   "source": [
    "stocks"
   ]
  },
  {
   "cell_type": "code",
   "execution_count": 28,
   "id": "jewish-pioneer",
   "metadata": {},
   "outputs": [
    {
     "data": {
      "text/html": [
       "<div>\n",
       "<style scoped>\n",
       "    .dataframe tbody tr th:only-of-type {\n",
       "        vertical-align: middle;\n",
       "    }\n",
       "\n",
       "    .dataframe tbody tr th {\n",
       "        vertical-align: top;\n",
       "    }\n",
       "\n",
       "    .dataframe thead th {\n",
       "        text-align: right;\n",
       "    }\n",
       "</style>\n",
       "<table border=\"1\" class=\"dataframe\">\n",
       "  <thead>\n",
       "    <tr style=\"text-align: right;\">\n",
       "      <th></th>\n",
       "      <th>High</th>\n",
       "      <th>Low</th>\n",
       "      <th>Open</th>\n",
       "      <th>Close</th>\n",
       "      <th>Volume</th>\n",
       "      <th>Adj Close</th>\n",
       "    </tr>\n",
       "    <tr>\n",
       "      <th>Date</th>\n",
       "      <th></th>\n",
       "      <th></th>\n",
       "      <th></th>\n",
       "      <th></th>\n",
       "      <th></th>\n",
       "      <th></th>\n",
       "    </tr>\n",
       "  </thead>\n",
       "  <tbody>\n",
       "    <tr>\n",
       "      <th>2018-02-01</th>\n",
       "      <td>96.070000</td>\n",
       "      <td>93.580002</td>\n",
       "      <td>94.790001</td>\n",
       "      <td>94.260002</td>\n",
       "      <td>47227900.0</td>\n",
       "      <td>90.141228</td>\n",
       "    </tr>\n",
       "    <tr>\n",
       "      <th>2018-03-01</th>\n",
       "      <td>94.570000</td>\n",
       "      <td>91.839996</td>\n",
       "      <td>93.989998</td>\n",
       "      <td>92.849998</td>\n",
       "      <td>37135600.0</td>\n",
       "      <td>89.209938</td>\n",
       "    </tr>\n",
       "    <tr>\n",
       "      <th>2018-05-01</th>\n",
       "      <td>95.290001</td>\n",
       "      <td>92.790001</td>\n",
       "      <td>93.209999</td>\n",
       "      <td>95.000000</td>\n",
       "      <td>31408900.0</td>\n",
       "      <td>91.275635</td>\n",
       "    </tr>\n",
       "    <tr>\n",
       "      <th>2018-06-01</th>\n",
       "      <td>100.860001</td>\n",
       "      <td>99.169998</td>\n",
       "      <td>99.279999</td>\n",
       "      <td>100.790001</td>\n",
       "      <td>28655600.0</td>\n",
       "      <td>97.258377</td>\n",
       "    </tr>\n",
       "    <tr>\n",
       "      <th>2018-08-01</th>\n",
       "      <td>106.449997</td>\n",
       "      <td>105.419998</td>\n",
       "      <td>106.029999</td>\n",
       "      <td>106.279999</td>\n",
       "      <td>23628700.0</td>\n",
       "      <td>102.556030</td>\n",
       "    </tr>\n",
       "    <tr>\n",
       "      <th>2018-10-01</th>\n",
       "      <td>115.680000</td>\n",
       "      <td>114.730003</td>\n",
       "      <td>114.750000</td>\n",
       "      <td>115.610001</td>\n",
       "      <td>18883100.0</td>\n",
       "      <td>111.988419</td>\n",
       "    </tr>\n",
       "    <tr>\n",
       "      <th>2018-11-01</th>\n",
       "      <td>107.320000</td>\n",
       "      <td>105.529999</td>\n",
       "      <td>107.050003</td>\n",
       "      <td>105.919998</td>\n",
       "      <td>33384200.0</td>\n",
       "      <td>102.601967</td>\n",
       "    </tr>\n",
       "    <tr>\n",
       "      <th>2019-02-01</th>\n",
       "      <td>104.099998</td>\n",
       "      <td>102.349998</td>\n",
       "      <td>103.779999</td>\n",
       "      <td>102.779999</td>\n",
       "      <td>35535700.0</td>\n",
       "      <td>99.990440</td>\n",
       "    </tr>\n",
       "    <tr>\n",
       "      <th>2019-03-01</th>\n",
       "      <td>113.019997</td>\n",
       "      <td>111.669998</td>\n",
       "      <td>112.889999</td>\n",
       "      <td>112.529999</td>\n",
       "      <td>23501200.0</td>\n",
       "      <td>109.943359</td>\n",
       "    </tr>\n",
       "    <tr>\n",
       "      <th>2019-04-01</th>\n",
       "      <td>119.110001</td>\n",
       "      <td>118.099998</td>\n",
       "      <td>118.949997</td>\n",
       "      <td>119.019997</td>\n",
       "      <td>22789100.0</td>\n",
       "      <td>116.284180</td>\n",
       "    </tr>\n",
       "    <tr>\n",
       "      <th>2019-05-01</th>\n",
       "      <td>130.649994</td>\n",
       "      <td>127.699997</td>\n",
       "      <td>130.529999</td>\n",
       "      <td>127.879997</td>\n",
       "      <td>26821700.0</td>\n",
       "      <td>124.940514</td>\n",
       "    </tr>\n",
       "    <tr>\n",
       "      <th>2019-07-01</th>\n",
       "      <td>136.699997</td>\n",
       "      <td>134.970001</td>\n",
       "      <td>136.630005</td>\n",
       "      <td>135.679993</td>\n",
       "      <td>22613500.0</td>\n",
       "      <td>133.051910</td>\n",
       "    </tr>\n",
       "    <tr>\n",
       "      <th>2019-08-01</th>\n",
       "      <td>140.940002</td>\n",
       "      <td>136.929993</td>\n",
       "      <td>137.000000</td>\n",
       "      <td>138.059998</td>\n",
       "      <td>40557500.0</td>\n",
       "      <td>135.385788</td>\n",
       "    </tr>\n",
       "    <tr>\n",
       "      <th>2019-10-01</th>\n",
       "      <td>140.250000</td>\n",
       "      <td>137.000000</td>\n",
       "      <td>139.660004</td>\n",
       "      <td>137.070007</td>\n",
       "      <td>21466600.0</td>\n",
       "      <td>134.862610</td>\n",
       "    </tr>\n",
       "    <tr>\n",
       "      <th>2019-11-01</th>\n",
       "      <td>144.419998</td>\n",
       "      <td>142.970001</td>\n",
       "      <td>144.259995</td>\n",
       "      <td>143.720001</td>\n",
       "      <td>33128400.0</td>\n",
       "      <td>141.405502</td>\n",
       "    </tr>\n",
       "    <tr>\n",
       "      <th>2020-04-01</th>\n",
       "      <td>157.750000</td>\n",
       "      <td>150.820007</td>\n",
       "      <td>153.000000</td>\n",
       "      <td>152.110001</td>\n",
       "      <td>57969900.0</td>\n",
       "      <td>150.579803</td>\n",
       "    </tr>\n",
       "    <tr>\n",
       "      <th>2020-05-01</th>\n",
       "      <td>178.639999</td>\n",
       "      <td>174.009995</td>\n",
       "      <td>175.800003</td>\n",
       "      <td>174.570007</td>\n",
       "      <td>39370500.0</td>\n",
       "      <td>172.813858</td>\n",
       "    </tr>\n",
       "    <tr>\n",
       "      <th>2020-06-01</th>\n",
       "      <td>183.000000</td>\n",
       "      <td>181.460007</td>\n",
       "      <td>182.539993</td>\n",
       "      <td>182.830002</td>\n",
       "      <td>22622400.0</td>\n",
       "      <td>181.494843</td>\n",
       "    </tr>\n",
       "    <tr>\n",
       "      <th>2020-07-01</th>\n",
       "      <td>206.350006</td>\n",
       "      <td>201.770004</td>\n",
       "      <td>203.139999</td>\n",
       "      <td>204.699997</td>\n",
       "      <td>32061200.0</td>\n",
       "      <td>203.205124</td>\n",
       "    </tr>\n",
       "    <tr>\n",
       "      <th>2020-09-01</th>\n",
       "      <td>227.449997</td>\n",
       "      <td>224.429993</td>\n",
       "      <td>225.509995</td>\n",
       "      <td>227.270004</td>\n",
       "      <td>25791200.0</td>\n",
       "      <td>226.155685</td>\n",
       "    </tr>\n",
       "    <tr>\n",
       "      <th>2020-10-01</th>\n",
       "      <td>213.990005</td>\n",
       "      <td>211.320007</td>\n",
       "      <td>213.490005</td>\n",
       "      <td>212.460007</td>\n",
       "      <td>27158400.0</td>\n",
       "      <td>211.418289</td>\n",
       "    </tr>\n",
       "    <tr>\n",
       "      <th>2020-12-01</th>\n",
       "      <td>217.320007</td>\n",
       "      <td>213.350006</td>\n",
       "      <td>214.509995</td>\n",
       "      <td>216.210007</td>\n",
       "      <td>30931300.0</td>\n",
       "      <td>215.713181</td>\n",
       "    </tr>\n",
       "  </tbody>\n",
       "</table>\n",
       "</div>"
      ],
      "text/plain": [
       "                  High         Low        Open       Close      Volume  \\\n",
       "Date                                                                     \n",
       "2018-02-01   96.070000   93.580002   94.790001   94.260002  47227900.0   \n",
       "2018-03-01   94.570000   91.839996   93.989998   92.849998  37135600.0   \n",
       "2018-05-01   95.290001   92.790001   93.209999   95.000000  31408900.0   \n",
       "2018-06-01  100.860001   99.169998   99.279999  100.790001  28655600.0   \n",
       "2018-08-01  106.449997  105.419998  106.029999  106.279999  23628700.0   \n",
       "2018-10-01  115.680000  114.730003  114.750000  115.610001  18883100.0   \n",
       "2018-11-01  107.320000  105.529999  107.050003  105.919998  33384200.0   \n",
       "2019-02-01  104.099998  102.349998  103.779999  102.779999  35535700.0   \n",
       "2019-03-01  113.019997  111.669998  112.889999  112.529999  23501200.0   \n",
       "2019-04-01  119.110001  118.099998  118.949997  119.019997  22789100.0   \n",
       "2019-05-01  130.649994  127.699997  130.529999  127.879997  26821700.0   \n",
       "2019-07-01  136.699997  134.970001  136.630005  135.679993  22613500.0   \n",
       "2019-08-01  140.940002  136.929993  137.000000  138.059998  40557500.0   \n",
       "2019-10-01  140.250000  137.000000  139.660004  137.070007  21466600.0   \n",
       "2019-11-01  144.419998  142.970001  144.259995  143.720001  33128400.0   \n",
       "2020-04-01  157.750000  150.820007  153.000000  152.110001  57969900.0   \n",
       "2020-05-01  178.639999  174.009995  175.800003  174.570007  39370500.0   \n",
       "2020-06-01  183.000000  181.460007  182.539993  182.830002  22622400.0   \n",
       "2020-07-01  206.350006  201.770004  203.139999  204.699997  32061200.0   \n",
       "2020-09-01  227.449997  224.429993  225.509995  227.270004  25791200.0   \n",
       "2020-10-01  213.990005  211.320007  213.490005  212.460007  27158400.0   \n",
       "2020-12-01  217.320007  213.350006  214.509995  216.210007  30931300.0   \n",
       "\n",
       "             Adj Close  \n",
       "Date                    \n",
       "2018-02-01   90.141228  \n",
       "2018-03-01   89.209938  \n",
       "2018-05-01   91.275635  \n",
       "2018-06-01   97.258377  \n",
       "2018-08-01  102.556030  \n",
       "2018-10-01  111.988419  \n",
       "2018-11-01  102.601967  \n",
       "2019-02-01   99.990440  \n",
       "2019-03-01  109.943359  \n",
       "2019-04-01  116.284180  \n",
       "2019-05-01  124.940514  \n",
       "2019-07-01  133.051910  \n",
       "2019-08-01  135.385788  \n",
       "2019-10-01  134.862610  \n",
       "2019-11-01  141.405502  \n",
       "2020-04-01  150.579803  \n",
       "2020-05-01  172.813858  \n",
       "2020-06-01  181.494843  \n",
       "2020-07-01  203.205124  \n",
       "2020-09-01  226.155685  \n",
       "2020-10-01  211.418289  \n",
       "2020-12-01  215.713181  "
      ]
     },
     "execution_count": 28,
     "metadata": {},
     "output_type": "execute_result"
    }
   ],
   "source": [
    "stocks[stocks.index.is_month_start]"
   ]
  },
  {
   "cell_type": "markdown",
   "id": "large-fighter",
   "metadata": {},
   "source": [
    "TO ADD 5 DAYS TO EVERY DATE"
   ]
  },
  {
   "cell_type": "code",
   "execution_count": 57,
   "id": "general-nightlife",
   "metadata": {
    "collapsed": true
   },
   "outputs": [
    {
     "data": {
      "text/plain": [
       "Date\n",
       "2018-01-02     91.309998\n",
       "2018-01-03     91.510002\n",
       "2018-01-04     92.660004\n",
       "2018-01-05     93.410004\n",
       "2018-01-08     93.580002\n",
       "                 ...    \n",
       "2020-12-24    228.610001\n",
       "2020-12-28    231.029999\n",
       "2020-12-29    232.179993\n",
       "2020-12-30    230.630005\n",
       "2020-12-31    228.000000\n",
       "Name: High, Length: 756, dtype: float64"
      ]
     },
     "execution_count": 57,
     "metadata": {},
     "output_type": "execute_result"
    }
   ],
   "source": [
    "stocks[\"High\"] + 5 # adds 5 to float point values but not with dates"
   ]
  },
  {
   "cell_type": "code",
   "execution_count": 62,
   "id": "blessed-respondent",
   "metadata": {},
   "outputs": [
    {
     "data": {
      "text/plain": [
       "DatetimeIndex(['2017-12-28', '2017-12-29', '2017-12-30', '2017-12-31',\n",
       "               '2018-01-03', '2018-01-04', '2018-01-05', '2018-01-06',\n",
       "               '2018-01-07', '2018-01-11',\n",
       "               ...\n",
       "               '2020-12-12', '2020-12-13', '2020-12-16', '2020-12-17',\n",
       "               '2020-12-18', '2020-12-19', '2020-12-23', '2020-12-24',\n",
       "               '2020-12-25', '2020-12-26'],\n",
       "              dtype='datetime64[ns]', name='Date', length=756, freq=None)"
      ]
     },
     "execution_count": 62,
     "metadata": {},
     "output_type": "execute_result"
    }
   ],
   "source": [
    "#stocks.index + pd.DateOffset(days = 5) #adds 5 days to each date in the inde\n",
    "stocks.index - pd.DateOffset(days = 5)#subtracts 5 days to each date in the index"
   ]
  },
  {
   "cell_type": "code",
   "execution_count": 31,
   "id": "experienced-forum",
   "metadata": {},
   "outputs": [],
   "source": [
    "stocks.index + pd.DateOffset(days=5) #this adds 5 to the index in the dataframe "
   ]
  },
  {
   "cell_type": "code",
   "execution_count": 32,
   "id": "raising-nursery",
   "metadata": {},
   "outputs": [
    {
     "data": {
      "text/plain": [
       "DatetimeIndex(['2018-01-18', '2018-01-19', '2018-01-20', '2018-01-21',\n",
       "               '2018-01-24', '2018-01-25', '2018-01-26', '2018-01-27',\n",
       "               '2018-01-28', '2018-02-01',\n",
       "               ...\n",
       "               '2021-01-02', '2021-01-03', '2021-01-06', '2021-01-07',\n",
       "               '2021-01-08', '2021-01-09', '2021-01-13', '2021-01-14',\n",
       "               '2021-01-15', '2021-01-16'],\n",
       "              dtype='datetime64[ns]', name='Date', length=756, freq=None)"
      ]
     },
     "execution_count": 32,
     "metadata": {},
     "output_type": "execute_result"
    }
   ],
   "source": [
    "stocks.index + pd.DateOffset(weeks = 2) #adds two weeks to the DateIndex"
   ]
  },
  {
   "cell_type": "code",
   "execution_count": 71,
   "id": "married-empty",
   "metadata": {
    "collapsed": true
   },
   "outputs": [
    {
     "data": {
      "text/plain": [
       "DatetimeIndex(['2019-03-07 02:03:26', '2019-03-08 02:03:26',\n",
       "               '2019-03-09 02:03:26', '2019-03-10 02:03:26',\n",
       "               '2019-03-13 02:03:26', '2019-03-14 02:03:26',\n",
       "               '2019-03-15 02:03:26', '2019-03-16 02:03:26',\n",
       "               '2019-03-17 02:03:26', '2019-03-21 02:03:26',\n",
       "               ...\n",
       "               '2022-02-22 02:03:26', '2022-02-23 02:03:26',\n",
       "               '2022-02-26 02:03:26', '2022-02-27 02:03:26',\n",
       "               '2022-02-28 02:03:26', '2022-03-01 02:03:26',\n",
       "               '2022-03-05 02:03:26', '2022-03-05 02:03:26',\n",
       "               '2022-03-05 02:03:26', '2022-03-05 02:03:26'],\n",
       "              dtype='datetime64[ns]', name='Date', length=756, freq=None)"
      ]
     },
     "execution_count": 71,
     "metadata": {},
     "output_type": "execute_result"
    }
   ],
   "source": [
    "#stocks.index + pd.DateOffset(months = 2)\n",
    "#stocks.index - pd.DateOffset(years = 5)\n",
    "stocks.index + pd.DateOffset(years=1,months=2,days = 5,hours=2,minutes=3,seconds=26)# cann addyears and months and days as a single argument"
   ]
  },
  {
   "cell_type": "markdown",
   "id": "sustained-colony",
   "metadata": {},
   "source": [
    "# Timeseries Offsets"
   ]
  },
  {
   "cell_type": "code",
   "execution_count": 13,
   "id": "sticky-explosion",
   "metadata": {},
   "outputs": [
    {
     "data": {
      "text/plain": [
       "DatetimeIndex(['2018-01-02', '2018-01-03', '2018-01-04', '2018-01-05',\n",
       "               '2018-01-08', '2018-01-09', '2018-01-10', '2018-01-11',\n",
       "               '2018-01-12', '2018-01-16',\n",
       "               ...\n",
       "               '2020-12-17', '2020-12-18', '2020-12-21', '2020-12-22',\n",
       "               '2020-12-23', '2020-12-24', '2020-12-28', '2020-12-29',\n",
       "               '2020-12-30', '2020-12-31'],\n",
       "              dtype='datetime64[ns]', name='Date', length=756, freq=None)"
      ]
     },
     "execution_count": 13,
     "metadata": {},
     "output_type": "execute_result"
    }
   ],
   "source": [
    "stocks.index"
   ]
  },
  {
   "cell_type": "markdown",
   "id": "demonstrated-cargo",
   "metadata": {},
   "source": [
    "TO BRING EACH DATE TO THE END OF MONTH .eg:2018-03-02 to 2018-03-31."
   ]
  },
  {
   "cell_type": "code",
   "execution_count": 17,
   "id": "animated-yesterday",
   "metadata": {},
   "outputs": [
    {
     "data": {
      "text/plain": [
       "DatetimeIndex(['2018-01-31', '2018-01-31', '2018-01-31', '2018-01-31',\n",
       "               '2018-01-31', '2018-01-31', '2018-01-31', '2018-01-31',\n",
       "               '2018-01-31', '2018-01-31',\n",
       "               ...\n",
       "               '2020-12-31', '2020-12-31', '2020-12-31', '2020-12-31',\n",
       "               '2020-12-31', '2020-12-31', '2020-12-31', '2020-12-31',\n",
       "               '2020-12-31', '2021-01-31'],\n",
       "              dtype='datetime64[ns]', name='Date', length=756, freq=None)"
      ]
     },
     "execution_count": 17,
     "metadata": {},
     "output_type": "execute_result"
    }
   ],
   "source": [
    "stocks.index + pd.tseries.offsets.MonthEnd()"
   ]
  },
  {
   "cell_type": "code",
   "execution_count": 76,
   "id": "offensive-margin",
   "metadata": {
    "collapsed": true
   },
   "outputs": [
    {
     "data": {
      "text/html": [
       "<div>\n",
       "<style scoped>\n",
       "    .dataframe tbody tr th:only-of-type {\n",
       "        vertical-align: middle;\n",
       "    }\n",
       "\n",
       "    .dataframe tbody tr th {\n",
       "        vertical-align: top;\n",
       "    }\n",
       "\n",
       "    .dataframe thead th {\n",
       "        text-align: right;\n",
       "    }\n",
       "</style>\n",
       "<table border=\"1\" class=\"dataframe\">\n",
       "  <thead>\n",
       "    <tr style=\"text-align: right;\">\n",
       "      <th></th>\n",
       "      <th>Day of week</th>\n",
       "      <th>High</th>\n",
       "      <th>Low</th>\n",
       "      <th>Open</th>\n",
       "      <th>Close</th>\n",
       "      <th>Volume</th>\n",
       "      <th>Adj Close</th>\n",
       "    </tr>\n",
       "    <tr>\n",
       "      <th>Date</th>\n",
       "      <th></th>\n",
       "      <th></th>\n",
       "      <th></th>\n",
       "      <th></th>\n",
       "      <th></th>\n",
       "      <th></th>\n",
       "      <th></th>\n",
       "    </tr>\n",
       "  </thead>\n",
       "  <tbody>\n",
       "    <tr>\n",
       "      <th>2020-12-29</th>\n",
       "      <td>Tuesday</td>\n",
       "      <td>227.179993</td>\n",
       "      <td>223.580002</td>\n",
       "      <td>226.309998</td>\n",
       "      <td>224.149994</td>\n",
       "      <td>17403200.0</td>\n",
       "      <td>223.634918</td>\n",
       "    </tr>\n",
       "    <tr>\n",
       "      <th>2020-12-30</th>\n",
       "      <td>Wednesday</td>\n",
       "      <td>225.630005</td>\n",
       "      <td>221.470001</td>\n",
       "      <td>225.229996</td>\n",
       "      <td>221.679993</td>\n",
       "      <td>20272300.0</td>\n",
       "      <td>221.170593</td>\n",
       "    </tr>\n",
       "    <tr>\n",
       "      <th>2020-12-31</th>\n",
       "      <td>Thursday</td>\n",
       "      <td>223.000000</td>\n",
       "      <td>219.679993</td>\n",
       "      <td>221.699997</td>\n",
       "      <td>222.419998</td>\n",
       "      <td>20942100.0</td>\n",
       "      <td>221.908905</td>\n",
       "    </tr>\n",
       "  </tbody>\n",
       "</table>\n",
       "</div>"
      ],
      "text/plain": [
       "           Day of week        High         Low        Open       Close  \\\n",
       "Date                                                                     \n",
       "2020-12-29     Tuesday  227.179993  223.580002  226.309998  224.149994   \n",
       "2020-12-30   Wednesday  225.630005  221.470001  225.229996  221.679993   \n",
       "2020-12-31    Thursday  223.000000  219.679993  221.699997  222.419998   \n",
       "\n",
       "                Volume   Adj Close  \n",
       "Date                                \n",
       "2020-12-29  17403200.0  223.634918  \n",
       "2020-12-30  20272300.0  221.170593  \n",
       "2020-12-31  20942100.0  221.908905  "
      ]
     },
     "execution_count": 76,
     "metadata": {},
     "output_type": "execute_result"
    }
   ],
   "source": [
    "stocks.tail(3) # if an actual month end arrives like april 30 then  pandas\n",
    "               # wiil return the next month end and not that itself"
   ]
  },
  {
   "cell_type": "code",
   "execution_count": 15,
   "id": "instrumental-niger",
   "metadata": {},
   "outputs": [
    {
     "data": {
      "text/plain": [
       "DatetimeIndex(['2017-12-31', '2017-12-31', '2017-12-31', '2017-12-31',\n",
       "               '2017-12-31', '2017-12-31', '2017-12-31', '2017-12-31',\n",
       "               '2017-12-31', '2017-12-31',\n",
       "               ...\n",
       "               '2020-11-30', '2020-11-30', '2020-11-30', '2020-11-30',\n",
       "               '2020-11-30', '2020-11-30', '2020-11-30', '2020-11-30',\n",
       "               '2020-11-30', '2020-11-30'],\n",
       "              dtype='datetime64[ns]', name='Date', length=756, freq=None)"
      ]
     },
     "execution_count": 15,
     "metadata": {},
     "output_type": "execute_result"
    }
   ],
   "source": [
    "stocks.index - pd.tseries.offsets.MonthEnd()"
   ]
  },
  {
   "cell_type": "code",
   "execution_count": 19,
   "id": "attractive-batman",
   "metadata": {},
   "outputs": [
    {
     "data": {
      "text/plain": [
       "DatetimeIndex(['2018-01-01', '2018-01-01', '2018-01-01', '2018-01-01',\n",
       "               '2018-01-01', '2018-01-01', '2018-01-01', '2018-01-01',\n",
       "               '2018-01-01', '2018-01-01',\n",
       "               ...\n",
       "               '2020-12-01', '2020-12-01', '2020-12-01', '2020-12-01',\n",
       "               '2020-12-01', '2020-12-01', '2020-12-01', '2020-12-01',\n",
       "               '2020-12-01', '2020-12-01'],\n",
       "              dtype='datetime64[ns]', name='Date', length=756, freq=None)"
      ]
     },
     "execution_count": 19,
     "metadata": {},
     "output_type": "execute_result"
    }
   ],
   "source": [
    "#stocks.index + pd.tseries.offsets.MonthBegin() #begining of next month\n",
    "stocks.index - pd.tseries.offsets.MonthBegin()# next month begining backwards"
   ]
  },
  {
   "cell_type": "code",
   "execution_count": 34,
   "id": "presidential-capital",
   "metadata": {},
   "outputs": [],
   "source": [
    "#to get directly the required package\n",
    "from pandas.tseries import offsets "
   ]
  },
  {
   "cell_type": "code",
   "execution_count": 35,
   "id": "found-calculator",
   "metadata": {},
   "outputs": [
    {
     "data": {
      "text/plain": [
       "DatetimeIndex(['2017-12-31', '2017-12-31', '2017-12-31', '2017-12-31',\n",
       "               '2017-12-31', '2017-12-31', '2017-12-31', '2017-12-31',\n",
       "               '2017-12-31', '2017-12-31',\n",
       "               ...\n",
       "               '2020-11-30', '2020-11-30', '2020-11-30', '2020-11-30',\n",
       "               '2020-11-30', '2020-11-30', '2020-11-30', '2020-11-30',\n",
       "               '2020-11-30', '2020-11-30'],\n",
       "              dtype='datetime64[ns]', name='Date', length=756, freq=None)"
      ]
     },
     "execution_count": 35,
     "metadata": {},
     "output_type": "execute_result"
    }
   ],
   "source": [
    " stocks.index - offsets.MonthEnd()"
   ]
  },
  {
   "cell_type": "code",
   "execution_count": 90,
   "id": "figured-display",
   "metadata": {},
   "outputs": [
    {
     "data": {
      "text/plain": [
       "DatetimeIndex(['2018-01-31', '2018-01-31', '2018-01-31', '2018-01-31',\n",
       "               '2018-01-31', '2018-01-31', '2018-01-31', '2018-01-31',\n",
       "               '2018-01-31', '2018-01-31',\n",
       "               ...\n",
       "               '2020-12-31', '2020-12-31', '2020-12-31', '2020-12-31',\n",
       "               '2020-12-31', '2020-12-31', '2020-12-31', '2020-12-31',\n",
       "               '2020-12-31', '2021-01-29'],\n",
       "              dtype='datetime64[ns]', name='Date', length=756, freq=None)"
      ]
     },
     "execution_count": 90,
     "metadata": {},
     "output_type": "execute_result"
    }
   ],
   "source": [
    "stocks.index + offsets.BMonthEnd() # for business purposes"
   ]
  },
  {
   "cell_type": "code",
   "execution_count": 95,
   "id": "veterinary-fault",
   "metadata": {},
   "outputs": [
    {
     "data": {
      "text/plain": [
       "Day of week      Thursday\n",
       "High                223.0\n",
       "Low            219.679993\n",
       "Open           221.699997\n",
       "Close          222.419998\n",
       "Volume         20942100.0\n",
       "Adj Close      221.908905\n",
       "Name: 2020-12-31 00:00:00, dtype: object"
      ]
     },
     "execution_count": 95,
     "metadata": {},
     "output_type": "execute_result"
    }
   ],
   "source": [
    "stocks.loc[\"2020-12-31\"]"
   ]
  },
  {
   "cell_type": "code",
   "execution_count": 101,
   "id": "studied-theology",
   "metadata": {},
   "outputs": [
    {
     "data": {
      "text/plain": [
       "DatetimeIndex(['2018-01-01', '2018-01-01', '2018-01-01', '2018-01-01',\n",
       "               '2018-01-01', '2018-01-01', '2018-01-01', '2018-01-01',\n",
       "               '2018-01-01', '2018-01-01',\n",
       "               ...\n",
       "               '2020-01-01', '2020-01-01', '2020-01-01', '2020-01-01',\n",
       "               '2020-01-01', '2020-01-01', '2020-01-01', '2020-01-01',\n",
       "               '2020-01-01', '2020-01-01'],\n",
       "              dtype='datetime64[ns]', name='Date', length=756, freq=None)"
      ]
     },
     "execution_count": 101,
     "metadata": {},
     "output_type": "execute_result"
    }
   ],
   "source": [
    "#stocks.index + offsets.YearEnd()\n",
    "#stocks.index - offsets.YearEnd()\n",
    "#stocks.index + offsets.YearBegin()\n",
    "stocks.index - offsets.YearBegin()"
   ]
  },
  {
   "cell_type": "markdown",
   "id": "orange-carol",
   "metadata": {},
   "source": [
    "# Timedelta object\n",
    "   REPRESENTS A TIME SPAN,DURATION OR PASSAGE OF TIME"
   ]
  },
  {
   "cell_type": "code",
   "execution_count": 109,
   "id": "alternate-fraction",
   "metadata": {},
   "outputs": [],
   "source": [
    "time_a=pd.Timestamp(\"2020-03-28 05:09:23PM\")\n",
    "time_b=pd.Timestamp(\"2020-03-20 05:09:23AM\")"
   ]
  },
  {
   "cell_type": "code",
   "execution_count": 112,
   "id": "digital-conference",
   "metadata": {},
   "outputs": [
    {
     "data": {
      "text/plain": [
       "Timedelta('8 days 12:00:00')"
      ]
     },
     "execution_count": 112,
     "metadata": {},
     "output_type": "execute_result"
    }
   ],
   "source": [
    "time_a-time_b"
   ]
  },
  {
   "cell_type": "code",
   "execution_count": 113,
   "id": "positive-uzbekistan",
   "metadata": {},
   "outputs": [
    {
     "data": {
      "text/plain": [
       "Timedelta('-9 days +12:00:00')"
      ]
     },
     "execution_count": 113,
     "metadata": {},
     "output_type": "execute_result"
    }
   ],
   "source": [
    "time_b-time_a"
   ]
  },
  {
   "cell_type": "code",
   "execution_count": 115,
   "id": "abstract-morrison",
   "metadata": {},
   "outputs": [
    {
     "data": {
      "text/plain": [
       "Timedelta('3 days 00:00:00')"
      ]
     },
     "execution_count": 115,
     "metadata": {},
     "output_type": "execute_result"
    }
   ],
   "source": [
    "pd.Timedelta(days=3)#represents a passage of 3days time\n",
    "                  #particularly helpful in adding that much amount of time"
   ]
  },
  {
   "cell_type": "code",
   "execution_count": 118,
   "id": "atlantic-proxy",
   "metadata": {},
   "outputs": [
    {
     "data": {
      "text/plain": [
       "Timestamp('2020-03-31 17:09:23')"
      ]
     },
     "execution_count": 118,
     "metadata": {},
     "output_type": "execute_result"
    }
   ],
   "source": [
    "time_a+ pd.Timedelta(days=3) # adding 3 days to 2020-03-28"
   ]
  },
  {
   "cell_type": "code",
   "execution_count": 124,
   "id": "korean-graphic",
   "metadata": {},
   "outputs": [
    {
     "data": {
      "text/plain": [
       "Timestamp('2020-02-24 17:00:50')"
      ]
     },
     "execution_count": 124,
     "metadata": {},
     "output_type": "execute_result"
    }
   ],
   "source": [
    "time_b - pd.Timedelta(weeks=3,days=3,hours=12,minutes=8,seconds=33) #subtracting 3weeks 3days 12h 8min and 33sec from time_b"
   ]
  },
  {
   "cell_type": "code",
   "execution_count": 128,
   "id": "wound-prophet",
   "metadata": {},
   "outputs": [
    {
     "ename": "ValueError",
     "evalue": "cannot construct a Timedelta from the passed arguments, allowed keywords are [weeks, days, hours, minutes, seconds, milliseconds, microseconds, nanoseconds]",
     "output_type": "error",
     "traceback": [
      "\u001b[1;31m---------------------------------------------------------------------------\u001b[0m",
      "\u001b[1;31mTypeError\u001b[0m                                 Traceback (most recent call last)",
      "\u001b[1;32mpandas\\_libs\\tslibs\\timedeltas.pyx\u001b[0m in \u001b[0;36mpandas._libs.tslibs.timedeltas.Timedelta.__new__\u001b[1;34m()\u001b[0m\n",
      "\u001b[1;31mTypeError\u001b[0m: 'months' is an invalid keyword argument for __new__()",
      "\nDuring handling of the above exception, another exception occurred:\n",
      "\u001b[1;31mValueError\u001b[0m                                Traceback (most recent call last)",
      "\u001b[1;32m<ipython-input-128-70465b9380a9>\u001b[0m in \u001b[0;36m<module>\u001b[1;34m\u001b[0m\n\u001b[1;32m----> 1\u001b[1;33m \u001b[0mpd\u001b[0m\u001b[1;33m.\u001b[0m\u001b[0mTimedelta\u001b[0m\u001b[1;33m(\u001b[0m\u001b[0mmonths\u001b[0m\u001b[1;33m=\u001b[0m\u001b[1;36m3\u001b[0m\u001b[1;33m)\u001b[0m \u001b[1;31m#years and months will not work in timedelta as there is ambiguity regarding\u001b[0m\u001b[1;33m\u001b[0m\u001b[1;33m\u001b[0m\u001b[0m\n\u001b[0m\u001b[0;32m      2\u001b[0m     \u001b[1;31m#the no of days in a year(365 or 366) and the no of dayss in a month(31 or 30 or 29 or 28)\u001b[0m\u001b[1;33m\u001b[0m\u001b[1;33m\u001b[0m\u001b[1;33m\u001b[0m\u001b[0m\n",
      "\u001b[1;32mpandas\\_libs\\tslibs\\timedeltas.pyx\u001b[0m in \u001b[0;36mpandas._libs.tslibs.timedeltas.Timedelta.__new__\u001b[1;34m()\u001b[0m\n",
      "\u001b[1;31mValueError\u001b[0m: cannot construct a Timedelta from the passed arguments, allowed keywords are [weeks, days, hours, minutes, seconds, milliseconds, microseconds, nanoseconds]"
     ]
    }
   ],
   "source": [
    "pd.Timedelta(months=3) #years and months will not work in timedelta as there is ambiguity regarding \n",
    "    #the no of days in a year(365 or 366) and the no of dayss in a month(31 or 30 or 29 or 28)"
   ]
  },
  {
   "cell_type": "code",
   "execution_count": 137,
   "id": "right-jimmy",
   "metadata": {},
   "outputs": [
    {
     "data": {
      "text/plain": [
       "Timedelta('5 days 05:05:05')"
      ]
     },
     "execution_count": 137,
     "metadata": {},
     "output_type": "execute_result"
    }
   ],
   "source": [
    "#pd.Timedelta(\"5 minutes\")# string arguments are accepted in timedelta\n",
    "#pd.Timedelta(\"5 hours\")\n",
    "#pd.Timedelta(\"5 days 5 hours\")\n",
    "#pd.Timedelta(\"5days 5hours 5minutes 5seconds\")\n",
    "pd.Timedelta(\"5 days 5 hours 5 minutes 5 seconds\")"
   ]
  },
  {
   "cell_type": "code",
   "execution_count": 20,
   "id": "apart-block",
   "metadata": {},
   "outputs": [
    {
     "name": "stdout",
     "output_type": "stream",
     "text": [
      "2014-12-31 00:00:00\n"
     ]
    }
   ],
   "source": [
    "print(pd.Timestamp(\"2015-01-01\") - pd.DateOffset(days=1))"
   ]
  },
  {
   "cell_type": "code",
   "execution_count": 28,
   "id": "naked-secretary",
   "metadata": {},
   "outputs": [
    {
     "data": {
      "text/plain": [
       "DatetimeIndex(['2018-01-05 00:03:00', '2018-01-06 00:03:00',\n",
       "               '2018-01-07 00:03:00', '2018-01-08 00:03:00',\n",
       "               '2018-01-11 00:03:00', '2018-01-12 00:03:00',\n",
       "               '2018-01-13 00:03:00', '2018-01-14 00:03:00',\n",
       "               '2018-01-15 00:03:00', '2018-01-19 00:03:00',\n",
       "               ...\n",
       "               '2020-12-20 00:03:00', '2020-12-21 00:03:00',\n",
       "               '2020-12-24 00:03:00', '2020-12-25 00:03:00',\n",
       "               '2020-12-26 00:03:00', '2020-12-27 00:03:00',\n",
       "               '2020-12-31 00:03:00', '2021-01-01 00:03:00',\n",
       "               '2021-01-02 00:03:00', '2021-01-03 00:03:00'],\n",
       "              dtype='datetime64[ns]', name='Date', length=756, freq=None)"
      ]
     },
     "execution_count": 28,
     "metadata": {},
     "output_type": "execute_result"
    }
   ],
   "source": [
    "stocks.index + pd.Timedelta(\"3 days 3 minutes\")"
   ]
  },
  {
   "cell_type": "code",
   "execution_count": null,
   "id": "reflected-drawing",
   "metadata": {},
   "outputs": [],
   "source": []
  }
 ],
 "metadata": {
  "kernelspec": {
   "display_name": "Python 3",
   "language": "python",
   "name": "python3"
  },
  "language_info": {
   "codemirror_mode": {
    "name": "ipython",
    "version": 3
   },
   "file_extension": ".py",
   "mimetype": "text/x-python",
   "name": "python",
   "nbconvert_exporter": "python",
   "pygments_lexer": "ipython3",
   "version": "3.9.2"
  }
 },
 "nbformat": 4,
 "nbformat_minor": 5
}
