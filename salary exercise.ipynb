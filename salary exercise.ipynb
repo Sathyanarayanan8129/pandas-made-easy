{
 "cells": [
  {
   "cell_type": "code",
   "execution_count": 2,
   "id": "trying-sullivan",
   "metadata": {},
   "outputs": [],
   "source": [
    "import pandas as pd"
   ]
  },
  {
   "cell_type": "code",
   "execution_count": 3,
   "id": "documentary-indonesia",
   "metadata": {
    "collapsed": true
   },
   "outputs": [
    {
     "data": {
      "text/html": [
       "<div>\n",
       "<style scoped>\n",
       "    .dataframe tbody tr th:only-of-type {\n",
       "        vertical-align: middle;\n",
       "    }\n",
       "\n",
       "    .dataframe tbody tr th {\n",
       "        vertical-align: top;\n",
       "    }\n",
       "\n",
       "    .dataframe thead th {\n",
       "        text-align: right;\n",
       "    }\n",
       "</style>\n",
       "<table border=\"1\" class=\"dataframe\">\n",
       "  <thead>\n",
       "    <tr style=\"text-align: right;\">\n",
       "      <th></th>\n",
       "      <th>Year of Birth</th>\n",
       "      <th>Gender</th>\n",
       "      <th>Ethnicity</th>\n",
       "      <th>Child's First Name</th>\n",
       "      <th>Count</th>\n",
       "      <th>Rank</th>\n",
       "    </tr>\n",
       "  </thead>\n",
       "  <tbody>\n",
       "    <tr>\n",
       "      <th>0</th>\n",
       "      <td>2011</td>\n",
       "      <td>FEMALE</td>\n",
       "      <td>HISPANIC</td>\n",
       "      <td>GERALDINE</td>\n",
       "      <td>13</td>\n",
       "      <td>75</td>\n",
       "    </tr>\n",
       "    <tr>\n",
       "      <th>1</th>\n",
       "      <td>2011</td>\n",
       "      <td>FEMALE</td>\n",
       "      <td>HISPANIC</td>\n",
       "      <td>GIA</td>\n",
       "      <td>21</td>\n",
       "      <td>67</td>\n",
       "    </tr>\n",
       "    <tr>\n",
       "      <th>2</th>\n",
       "      <td>2011</td>\n",
       "      <td>FEMALE</td>\n",
       "      <td>HISPANIC</td>\n",
       "      <td>GIANNA</td>\n",
       "      <td>49</td>\n",
       "      <td>42</td>\n",
       "    </tr>\n",
       "    <tr>\n",
       "      <th>3</th>\n",
       "      <td>2011</td>\n",
       "      <td>FEMALE</td>\n",
       "      <td>HISPANIC</td>\n",
       "      <td>GISELLE</td>\n",
       "      <td>38</td>\n",
       "      <td>51</td>\n",
       "    </tr>\n",
       "    <tr>\n",
       "      <th>4</th>\n",
       "      <td>2011</td>\n",
       "      <td>FEMALE</td>\n",
       "      <td>HISPANIC</td>\n",
       "      <td>GRACE</td>\n",
       "      <td>36</td>\n",
       "      <td>53</td>\n",
       "    </tr>\n",
       "    <tr>\n",
       "      <th>...</th>\n",
       "      <td>...</td>\n",
       "      <td>...</td>\n",
       "      <td>...</td>\n",
       "      <td>...</td>\n",
       "      <td>...</td>\n",
       "      <td>...</td>\n",
       "    </tr>\n",
       "    <tr>\n",
       "      <th>29459</th>\n",
       "      <td>2016</td>\n",
       "      <td>FEMALE</td>\n",
       "      <td>HISPANIC</td>\n",
       "      <td>Alayna</td>\n",
       "      <td>10</td>\n",
       "      <td>74</td>\n",
       "    </tr>\n",
       "    <tr>\n",
       "      <th>29460</th>\n",
       "      <td>2015</td>\n",
       "      <td>FEMALE</td>\n",
       "      <td>HISPANIC</td>\n",
       "      <td>Yaritza</td>\n",
       "      <td>12</td>\n",
       "      <td>79</td>\n",
       "    </tr>\n",
       "    <tr>\n",
       "      <th>29461</th>\n",
       "      <td>2015</td>\n",
       "      <td>MALE</td>\n",
       "      <td>WHITE NON HISPANIC</td>\n",
       "      <td>Mendel</td>\n",
       "      <td>42</td>\n",
       "      <td>64</td>\n",
       "    </tr>\n",
       "    <tr>\n",
       "      <th>29462</th>\n",
       "      <td>2016</td>\n",
       "      <td>MALE</td>\n",
       "      <td>ASIAN AND PACIFIC ISLANDER</td>\n",
       "      <td>Isaac</td>\n",
       "      <td>21</td>\n",
       "      <td>48</td>\n",
       "    </tr>\n",
       "    <tr>\n",
       "      <th>29463</th>\n",
       "      <td>2015</td>\n",
       "      <td>FEMALE</td>\n",
       "      <td>WHITE NON HISPANIC</td>\n",
       "      <td>Alessia</td>\n",
       "      <td>12</td>\n",
       "      <td>81</td>\n",
       "    </tr>\n",
       "  </tbody>\n",
       "</table>\n",
       "<p>29464 rows × 6 columns</p>\n",
       "</div>"
      ],
      "text/plain": [
       "       Year of Birth  Gender                   Ethnicity Child's First Name  \\\n",
       "0               2011  FEMALE                    HISPANIC          GERALDINE   \n",
       "1               2011  FEMALE                    HISPANIC                GIA   \n",
       "2               2011  FEMALE                    HISPANIC             GIANNA   \n",
       "3               2011  FEMALE                    HISPANIC            GISELLE   \n",
       "4               2011  FEMALE                    HISPANIC              GRACE   \n",
       "...              ...     ...                         ...                ...   \n",
       "29459           2016  FEMALE                    HISPANIC             Alayna   \n",
       "29460           2015  FEMALE                    HISPANIC            Yaritza   \n",
       "29461           2015    MALE          WHITE NON HISPANIC             Mendel   \n",
       "29462           2016    MALE  ASIAN AND PACIFIC ISLANDER              Isaac   \n",
       "29463           2015  FEMALE          WHITE NON HISPANIC            Alessia   \n",
       "\n",
       "       Count  Rank  \n",
       "0         13    75  \n",
       "1         21    67  \n",
       "2         49    42  \n",
       "3         38    51  \n",
       "4         36    53  \n",
       "...      ...   ...  \n",
       "29459     10    74  \n",
       "29460     12    79  \n",
       "29461     42    64  \n",
       "29462     21    48  \n",
       "29463     12    81  \n",
       "\n",
       "[29464 rows x 6 columns]"
      ]
     },
     "execution_count": 3,
     "metadata": {},
     "output_type": "execute_result"
    }
   ],
   "source": [
    "url=\"https://data.cityofnewyork.us/api/views/25th-nujf/rows.csv\"\n",
    "a=pd.read_csv(url)\n",
    "a"
   ]
  },
  {
   "cell_type": "code",
   "execution_count": 4,
   "id": "connected-exploration",
   "metadata": {
    "collapsed": true
   },
   "outputs": [
    {
     "data": {
      "text/html": [
       "<div>\n",
       "<style scoped>\n",
       "    .dataframe tbody tr th:only-of-type {\n",
       "        vertical-align: middle;\n",
       "    }\n",
       "\n",
       "    .dataframe tbody tr th {\n",
       "        vertical-align: top;\n",
       "    }\n",
       "\n",
       "    .dataframe thead th {\n",
       "        text-align: right;\n",
       "    }\n",
       "</style>\n",
       "<table border=\"1\" class=\"dataframe\">\n",
       "  <thead>\n",
       "    <tr style=\"text-align: right;\">\n",
       "      <th></th>\n",
       "      <th>Gender</th>\n",
       "    </tr>\n",
       "  </thead>\n",
       "  <tbody>\n",
       "    <tr>\n",
       "      <th>0</th>\n",
       "      <td>FEMALE</td>\n",
       "    </tr>\n",
       "    <tr>\n",
       "      <th>1</th>\n",
       "      <td>FEMALE</td>\n",
       "    </tr>\n",
       "    <tr>\n",
       "      <th>2</th>\n",
       "      <td>FEMALE</td>\n",
       "    </tr>\n",
       "    <tr>\n",
       "      <th>3</th>\n",
       "      <td>FEMALE</td>\n",
       "    </tr>\n",
       "    <tr>\n",
       "      <th>4</th>\n",
       "      <td>FEMALE</td>\n",
       "    </tr>\n",
       "    <tr>\n",
       "      <th>...</th>\n",
       "      <td>...</td>\n",
       "    </tr>\n",
       "    <tr>\n",
       "      <th>29459</th>\n",
       "      <td>FEMALE</td>\n",
       "    </tr>\n",
       "    <tr>\n",
       "      <th>29460</th>\n",
       "      <td>FEMALE</td>\n",
       "    </tr>\n",
       "    <tr>\n",
       "      <th>29461</th>\n",
       "      <td>MALE</td>\n",
       "    </tr>\n",
       "    <tr>\n",
       "      <th>29462</th>\n",
       "      <td>MALE</td>\n",
       "    </tr>\n",
       "    <tr>\n",
       "      <th>29463</th>\n",
       "      <td>FEMALE</td>\n",
       "    </tr>\n",
       "  </tbody>\n",
       "</table>\n",
       "<p>29464 rows × 1 columns</p>\n",
       "</div>"
      ],
      "text/plain": [
       "       Gender\n",
       "0      FEMALE\n",
       "1      FEMALE\n",
       "2      FEMALE\n",
       "3      FEMALE\n",
       "4      FEMALE\n",
       "...       ...\n",
       "29459  FEMALE\n",
       "29460  FEMALE\n",
       "29461    MALE\n",
       "29462    MALE\n",
       "29463  FEMALE\n",
       "\n",
       "[29464 rows x 1 columns]"
      ]
     },
     "execution_count": 4,
     "metadata": {},
     "output_type": "execute_result"
    }
   ],
   "source": [
    "a['Gender'].to_frame()"
   ]
  },
  {
   "cell_type": "code",
   "execution_count": 5,
   "id": "subsequent-motor",
   "metadata": {},
   "outputs": [
    {
     "data": {
      "text/plain": [
       "'S$A$T$H$Y$A'"
      ]
     },
     "execution_count": 5,
     "metadata": {},
     "output_type": "execute_result"
    }
   ],
   "source": [
    "'$'.join(['S','A','T','H','Y','A'])"
   ]
  },
  {
   "cell_type": "code",
   "execution_count": 10,
   "id": "confirmed-surface",
   "metadata": {},
   "outputs": [
    {
     "data": {
      "text/plain": [
       "\"Aahil,Aaliyah,Aarav,Aaron,Aarya,Aaryan,Aayan,Abby,Abdiel,Abdoul,Abdoulaye,Abdul,Abdullah,Abe,Abel,Abigail,Aboubacar,Abraham,Abrar,Abrielle,Abril,Ace,Ada,Adalynn,Adam,Adan,Addison,Adelaide,Adele,Adelina,Adeline,Adelyn,Aden,Adiel,Adina,Aditya,Adonis,Adrian,Adriana,Adrianna,Adriel,Adyan,Aharon,Ahmad,Ahmed,Ahnaf,Ahron,Ahuva,Aicha,Aidan,Aiden,Aileen,Aimee,Aisha,Aissata,Aissatou,Aitana,Aiza,Aizah,Akiva,Alaia,Alaina,Alan,Alana,Alani,Alanis,Alanna,Alayna,Alba,Albert,Alberto,Aldo,Aleah,Alec,Aleena,Alejandra,Alejandro,Aleksander,Aleksandra,Alessandra,Alessandro,Alessia,Alex,Alexa,Alexander,Alexandra,Alexandria,Alexia,Alexis,Alfred,Alfredo,Ali,Alia,Aliah,Alice,Alicia,Alijah,Alina,Alisa,Alisha,Alison,Alissa,Alisson,Aliyah,Aliza,Allan,Allen,Allison,Allyson,Alma,Alondra,Alonso,Alpha,Alston,Alter,Alvin,Alyson,Alyssa,Amadou,Amaia,Amalia,Amanda,Amani,Amar'E,Amara,Amare,Amari,Amaya,Amayah,Ambar,Amber,Amberly,Ameer,Amelia,Amelie,Amia,Amina,Aminata,Amir,Amira,Amirah,Amiya,Amiyah,Amrom,Amy,Ana,Anabel,Anabella,Anabelle,Anabia,Anahi,Anais,Analia,Ananya,Anas,Anastasia,Anaya,Anayah,Anderson,Andre,Andrea,Andres,Andrew,Andy,Angel,Angela,Angelica,Angelina,Angeline,Angelique,Angelo,Angely,Angie,Angus,Anika,Anisa,Anisha,Aniya,Aniyah,Anjali,Anna,Annabel,Annabella,Annabelle,Annalise,Anne,Annie,Annika,Anson,Anthony,Anton,Antonella,Antonia,Antonio,Anya,April,Arabella,Archer,Arden,Arely,Arham,Ari,Aria,Ariadna,Ariadne,Ariah,Arian,Ariana,Arianna,Arianny,Ariel,Ariela,Ariella,Arielle,Arisha,Ariyah,Arjun,Arlette,Arlo,Armaan,Armando,Armani,Aron,Arthur,Arturo,Arvin,Arya,Aryan,Arye,Aryeh,Asher,Ashley,Ashly,Ashton,Asia,Atara,Athena,Atticus,Aubree,Aubrey,Audrey,August,Augustus,Aurora,Austin,Autumn,Ava,Avery,Avi,Aviel,Avigail,Avital,Aviva,Avraham,Avril,Avrohom,Avrum,Awa,Axel,Aya,Ayaan,Ayala,Ayan,Ayanna,Ayat,Ayden,Aydin,Ayelet,Ayesha,Ayla,Ayleen,Aylin,Azaan,Azaria,Azariah,Aziza,Baila,Bailey,Barbara,Baruch,Basya,Batsheva,Batya,Beatrice,Beatrix,Beckett,Belen,Bella,Ben,Benjamin,Bennett,Benson,Bentzion,Benzion,Berish,Berl,Bethany,Bianca,Bintou,Binyamin,Binyomin,Blake,Blessing,Blima,Blimy,Bodhi,Bonnie,Boruch,Boubacar,Bowen,Bracha,Bradley,Brady,Brandon,Brayan,Brayden,Breindy,Brenda,Brendan,Bria,Brian,Briana,Brianna,Brianny,Bridget,Briella,Brielle,Brigitte,Britney,Brittany,Brody,Brooke,Brooklyn,Brooks,Bruce,Brucha,Bruchy,Bruno,Bryan,Bryanna,Bryant,Bryce,Brynn,Bryson,Byron,Caden,Caiden,Cairo,Caitlin,Caleb,Cali,Calvin,Camden,Cameron,Camila,Camilla,Camille,Camilo,Camren,Carina,Carla,Carlos,Carly,Carmelo,Carmen,Carmine,Carolina,Caroline,Carson,Carter,Casey,Cassandra,Cassidy,Cataleya,Catalina,Catherine,Cayden,Cecelia,Cecilia,Celeste,Celia,Celine,Cesar,Chace,Chad,Chaim,Chana,Chance,Chanel,Chanie,Chany,Charles,Charlie,Charlotte,Chase,Chava,Chavy,Chaya,Chelsea,Cheskel,Chesky,Cheyenne,Chiara,Chloe,Chris,Christian,Christina,Christine,Christopher,Christy,Cindy,Claire,Clara,Clark,Claudia,Clementine,Cleo,Cody,Cole,Colette,Colin,Colton,Connie,Connor,Conor,Cooper,Cora,Corey,Cormac,Cristian,Cristina,Cristofer,Cristopher,Crosby,Crystal,Cynthia,Cyrus,Dahlia,Daisy,Dakota,Daleyza,Dalia,Dallas,Damani,Damari,Damaris,Damian,Damien,Damon,Dana,Daniel,Daniela,Daniella,Danielle,Danna,Danny,Dante,Daphne,Daria,Dariel,Darius,Darren,Darwin,Dashiell,David,Dayana,Dean,Deborah,Declan,Delilah,Denis,Denise,Denisse,Dennis,Denzel,Dereck,Derek,Derick,Derrick,Desmond,Destiny,Devin,Devon,Devora,Devorah,Diana,Diego,Dilan,Dillon,Dina,Diya,Diyora,Dominic,Dominick,Donovan,Doris,Dov,Dovid,Drew,Dulce,Duvid,Dwayne,Dylan,Ean,Eason,Eddie,Eddy,Eden,Edgar,Edison,Edith,Eduardo,Edward,Edwin,Efraim,Egypt,Eileen,Eitan,Elaine,Elan,Eleanor,Elena,Eleni,Eli,Eliam,Elian,Eliana,Elianna,Elianny,Elias,Eliel,Eliezer,Elijah,Elimelech,Elina,Eliot,Elisa,Elise,Elisheva,Eliyahu,Eliza,Elizabeth,Ella,Elle,Elliana,Ellie,Elliot,Elliott,Ellis,Elodie,Eloise,Elsa,Eluzer,Elvin,Elvis,Elya,Emaan,Emani,Emanuel,Emely,Emerson,Emery,Emil,Emilia,Emiliano,Emilio,Emily,Emma,Emmanuel,Emmeline,Emmett,Empress,Enrique,Enzo,Ephraim,Eric,Erica,Erick,Erik,Erika,Erin,Eshaal,Eshal,Eshan,Esme,Esmeralda,Essence,Esteban,Estelle,Ester,Esther,Estrella,Esty,Ethan,Etty,Eunice,Eva,Evan,Evangeline,Eve,Evelina,Evelyn,Everett,Everly,Evie,Eyad,Ezekiel,Ezequiel,Ezra,Ezriel,Fabian,Faiga,Faigy,Faith,Fanta,Farah,Farhan,Farida,Fatima,Fatou,Fatoumata,Felipe,Felix,Fernanda,Fernando,Feynman,Filip,Finley,Finn,Fiona,Fishel,Fradel,Frady,Fraidy,Frances,Francesca,Francesco,Francis,Francisco,Frank,Franklin,Freddy,Frederick,Freida,Freya,Frieda,Frimet,Gabriel,Gabriela,Gabriella,Gabrielle,Gael,Gaia,Galilea,Gary,Gavin,Gavriel,Gemma,Genesis,Genevieve,George,Georgia,Geraldine,Gerard,Gerardo,Gia,Giada,Giancarlo,Gianluca,Gianna,Gianni,Gideon,Giovani,Giovanna,Giovanni,Giovanny,Giselle,Gittel,Gitty,Giulia,Giuliana,Giuseppe,Golda,Goldie,Goldy,Gordon,Grace,Graham,Grant,Grayson,Gregory,Greta,Greyson,Griffin,Guadalupe,Gustavo,Guy,Gwendolyn,Hadassa,Hadassah,Hadley,Hafsa,Hailey,Hailie,Haley,Hamza,Hana,Haniya,Hanley,Hanna,Hannah,Hao,Hareem,Harley,Harlow,Harmony,Harper,Harrison,Harry,Harvey,Hashim,Hassan,Hawa,Hayden,Haylee,Hayley,Hazel,Heaven,Hector,Heidi,Heidy,Helen,Helena,Henchy,Henny,Henry,Herman,Hersh,Hershel,Hershy,Hillel,Hinda,Hindy,Hoorain,Hope,Hudson,Hugo,Hunter,Ian,Ibrahim,Ibrahima,Idy,Iker,Ilan,Ilana,Imani,Imogen,Imran,Inaaya,Inaya,Ines,Ingrid,Irene,Iris,Isaac,Isabel,Isabela,Isabella,Isabelle,Isaiah,Isaias,Ishaan,Ishmael,Isiah,Isis,Isla,Ismael,Israel,Issac,Itzel,Ivan,Ivanna,Ivy,Izabella,Izaiah,Jabari,Jace,Jack,Jackson,Jacky,Jacob,Jacqueline,Jad,Jada,Jade,Jaden,Jadiel,Jael,Jaelyn,Jaelynn,Jaheim,Jahir,Jahmir,Jaiden,Jaime,Jair,Jake,Jakub,Jalen,Jaliyah,Jamal,Jamar,Jamari,Jamel,James,Jameson,Jamie,Jamir,Jana,Janae,Jane,Janelle,Janice,Janiel,Janiya,Janiyah,Jannat,Jannatul,Januel,Jared,Jariel,Jasiah,Jaslene,Jasmin,Jasmina,Jasmine,Jason,Jasper,Javier,Jax,Jaxon,Jaxson,Jay,Jayce,Jayceon,Jaycob,Jayda,Jayden,Jayla,Jaylah,Jaylee,Jayleen,Jaylen,Jaylene,Jaylin,Jaylyn,Jayren,Jayson,Jazlyn,Jazmin,Jazmine,Jazzlyn,Jean,Jeancarlos,Jefferson,Jeffrey,Jelani,Jencarlos,Jenna,Jennifer,Jenny,Jeremiah,Jeremias,Jeremy,Jermaine,Jerry,Jesse,Jessica,Jessie,Jesus,Jia,Jimena,Jimmy,Joanna,Joaquin,Jocelyn,Joel,Johan,Johann,Johanna,John,Johnathan,Johnny,Jolie,Jolin,Jonael,Jonah,Jonas,Jonathan,Jordan,Jordi,Jordyn,Jorge,Jose,Josef,Joselyn,Joseph,Josephine,Joshua,Josiah,Josie,Josue,Journee,Journey,Joy,Joyce,Joziah,Juan,Judah,Jude,Judy,Julia,Julian,Juliana,Julianna,Julie,Julien,Juliet,Juliette,Julio,Julissa,Julius,Jun,June,Junior,Juniper,Justice,Justin,Kabir,Kacper,Kaden,Kadiatou,Kaelyn,Kai,Kaia,Kaiden,Kailee,Kailey,Kailyn,Kaitlyn,Kaleb,Kali,Kaliyah,Kamari,Kameron,Kamila,Kamiyah,Kamren,Karas,Kareem,Karen,Karina,Karla,Karter,Kassandra,Kate,Katelyn,Katelynn,Katerina,Katherine,Kathryn,Katie,Kaya,Kayden,Kayla,Kaylani,Kaylee,Kayleen,Kayleigh,Kaylie,Kaylin,Kayson,Kazi,Kehlani,Keila,Keily,Keira,Keith,Kelly,Kelsey,Kelvin,Kendra,Kendrick,Kennedi,Kennedy,Kenneth,Kenny,Kenya,Kevin,Keyla,Khadija,Khadijah,Khaleesi,Khalil,Khloe,Kian,Kiara,Kiera,Kieran,Kimberly,Kimi,Kimora,King,Kingsley,Kingston,Kira,Kiyan,Kori,Kourtney,Krish,Kristen,Kristian,Kristina,Krystal,Kyla,Kyle,Kylee,Kylie,Kymani,Kyree,Kyrie,Kyson,Laila,Lailah,Laith,Lamar,Lana,Landon,Lara,Larry,Laura,Lauren,Lauryn,Lawrence,Layan,Layla,Lazer,Lea,Leah,Leandro,Leanna,Leela,Legend,Leia,Leibish,Leila,Leilani,Leilany,Lena,Lenny,Leo,Leon,Leona,Leonard,Leonardo,Leonel,Leonidas,Leora,Lesley,Leslie,Lesly,Lev,Levi,Leyla,Lia,Liam,Lian,Liana,Liba,Libby,Lielle,Lila,Lilah,Lilia,Lilian,Liliana,Lillian,Lilliana,Lilly,Lily,Lina,Lincoln,Linda,Lindsay,Lionel,Liora,Lipa,Lisa,Litzy,Liv,Livia,Liz,Lizbeth,Lizeth,Logan,Lola,London,Londyn,Lorenzo,Louis,Louisa,Louise,Luca,Lucas,Lucia,Lucian,Luciana,Lucien,Lucille,Lucy,Luis,Luka,Lukas,Luke,Luna,Luz,Lydia,Lyla,Lyric,Mabel,Mackenzie,Maddox,Madeleine,Madeline,Madelyn,Madina,Madison,Madisyn,Mae,Maeve,Magaly,Maggie,Mahamadou,Mahnoor,Maia,Maimouna,Maisie,Maison,Maite,Major,Makai,Makayla,Makenzie,Makhi,Maksim,Malachi,Malak,Malaysia,Malcolm,Malek,Malia,Maliha,Malik,Malika,Maliyah,Malka,Malky,Mamadou,Mandy,Manha,Manuel,Marc,Marcel,Marcelo,Marco,Marcos,Marcus,Margaret,Margaux,Margot,Maria,Mariah,Mariam,Mariama,Mariana,Marie,Marielle,Marilyn,Marina,Mario,Marisol,Marjorie,Mark,Marley,Marlon,Marlowe,Marquis,Martin,Marvin,Mary,Maryam,Mason,Massimo,Mateo,Mathew,Mathias,Matias,Matilda,Matteo,Matthew,Matthias,Maurice,Mauricio,Maverick,Max,Maxim,Maximilian,Maximiliano,Maximo,Maximus,Maxwell,Maya,Mayer,Mayson,Mckenzie,Md,Mechel,Meera,Megan,Meilech,Meir,Mekhi,Melania,Melanie,Melany,Melina,Melissa,Melody,Melvin,Menachem,Menashe,Mendel,Mendy,Menucha,Meshilem,Messiah,Meyer,Mia,Miah,Micah,Michael,Michaela,Michal,Michelle,Miguel,Mika,Mikael,Mikaela,Mikayla,Mike,Mila,Milagros,Milan,Milana,Milani,Milania,Milena,Miles,Miley,Millie,Milo,Mina,Mindy,Mira,Miracle,Miranda,Mirel,Miri,Miriam,Misael,Mohamed,Mohammad,Mohammed,Moises,Moishe,Molly,Monica,Monserrat,Montserrat,Mordche,Mordechai,Morgan,Morris,Moses,Moshe,Motty,Mouhamed,Moussa,Muhammad,Musa,Mushka,Mustafa,Mya,Myles,Myra,Nabiha,Nachman,Nadia,Naftali,Naftuli,Nahla,Nala,Nalani,Nana,Nancy,Naomi,Nashla,Nashley,Nashly,Nasir,Natalia,Natalie,Nataly,Natasha,Nathalia,Nathalie,Nathaly,Nathan,Nathanael,Nathaniel,Nava,Nayeli,Nayla,Nazir,Nechama,Nehemiah,Neil,Nelson,Nevaeh,Neymar,Nia,Niam,Nicholas,Nico,Nicolas,Nicole,Nicolette,Nigel,Nikhil,Nikita,Nikolai,Nikolas,Nina,Noa,Noach,Noah,Noam,Noel,Noelle,Noemi,Nolan,Noor,Nora,Norah,Nosson,Nova,Nuchem,Nusrat,Nyah,Nyla,Nylah,Olive,Oliver,Olivia,Omar,Omari,Oren,Ori,Orion,Orlando,Oscar,Otis,Otto,Oumar,Oumou,Ousmane,Owen,Pablo,Paige,Pamela,Paola,Paris,Parker,Patrick,Paul,Paula,Payton,Pearl,Pedro,Penelope,Perel,Peretz,Perl,Perla,Perry,Pessy,Peter,Peyton,Philip,Phoebe,Phoenix,Pierce,Pinchas,Pinchus,Piper,Polina,Poppy,Precious,Preston,Prince,Princess,Princeton,Priscilla,Queena,Queenie,Quincy,Quinn,Rachel,Rafael,Rahaf,Raina,Raizel,Raizy,Ralph,Randy,Raphael,Raquel,Raul,Raya,Rayan,Raymond,Rayna,Rayyan,Reagan,Rebecca,Reed,Reem,Reese,Rehan,Reid,Reign,Reizy,Rena,Renata,Renee,Reuben,Reuven,Rhys,Ricardo,Richard,Ricky,Rifka,Rifky,Rihanna,Riley,Rina,Riva,River,Rivka,Rivkah,Rivky,Riya,Robert,Roberto,Rocco,Rochel,Rodney,Rodrigo,Roger,Rohan,Roiza,Roizy,Roman,Romeo,Romy,Ronald,Ronaldo,Ronan,Rory,Rosa,Rose,Roselyn,Rosemary,Rosie,Rowan,Roy,Royal,Royalty,Royce,Ruben,Ruby,Ruchel,Ruchy,Russell,Ruth,Ryan,Ryder,Rylee,Sabiha,Sabina,Sabrina,Sade,Sadie,Safa,Safwan,Sage,Saifan,Saige,Salma,Salome,Salvatore,Sam,Sama,Samaira,Samantha,Samara,Sami,Samir,Samira,Samiya,Samiyah,Samuel,Sanaa,Sanai,Sandra,Saniya,Saniyah,Santiago,Santino,Saoirse,Sara,Sarah,Sarahi,Sarai,Sari,Sariah,Sarina,Sariyah,Sasha,Saul,Savanna,Savannah,Savion,Sawyer,Scarlet,Scarlett,Sean,Sebastian,Sekou,Selena,Selim,Selina,Selma,Serena,Serenity,Sergio,Seth,Sevyn,Shaina,Shaindel,Shaindy,Shalom,Shane,Shania,Shaniya,Sharon,Shaul,Shawn,Shaya,Shayaan,Shayan,Shayla,Shayna,Shea,Sheldon,Sherlyn,Sherry,Shevy,Shia,Shifra,Shiloh,Shimon,Shira,Shirley,Shloime,Shloimy,Shloma,Shlome,Shlomo,Shmiel,Shmuel,Shneur,Sholom,Shoshana,Shraga,Shreya,Shulem,Sidney,Siena,Sienna,Silas,Sima,Simcha,Simi,Simon,Simone,Sincere,Sky,Skye,Skyla,Skylah,Skylar,Skyler,Sloane,Sofia,Solomon,Sonia,Sophia,Sophie,Soraya,Spencer,Stacey,Stacy,Stanley,Stella,Stephanie,Stephany,Stephen,Steve,Steven,Subhan,Sulaiman,Summer,Sunny,Suri,Sury,Sydney,Syed,Syeda,Sylvia,Sylvie,Symphony,Tabitha,Tahmid,Talia,Taliyah,Tamar,Tamara,Tamia,Tanisha,Taraji,Tasnim,Tatiana,Taylor,Teagan,Tehila,Tenzin,Terrell,Terrence,Terry,Tess,Tessa,Thea,Theo,Theodora,Theodore,Thiago,Thomas,Tiana,Tianna,Tiffany,Timothy,Timur,Tina,Toba,Tobias,Toby,Tomas,Tony,Tori,Tova,Trany,Travis,Trinity,Tristan,Troy,Tyler,Tzipora,Tziporah,Tzippy,Tzirel,Tzivia,Tzvi,Umar,Uriel,Usher,Valentina,Valentino,Valeria,Valerie,Valery,Vanessa,Veer,Vera,Veronica,Veronika,Vicky,Victor,Victoria,Vienna,Vihaan,Vincent,Vincenzo,Violet,Violeta,Virginia,Vivian,Viviana,Vivienne,Walker,Walter,Wendy,Wesley,Weston,Willa,William,Willow,Wilson,Winnie,Winston,Winter,Wolf,Wyatt,Wynter,Xander,Xavier,Ximena,Xin,Yaakov,Yachet,Yadiel,Yael,Yahir,Yahya,Yair,Yakov,Yamilet,Yamileth,Yandel,Yaniel,Yanky,Yara,Yaretzi,Yariel,Yaritza,Yaseen,Yasmin,Yasmina,Yasmine,Yassin,Yechezkel,Yechiel,Yehoshua,Yehuda,Yehudah,Yehudis,Yerik,Yesenia,Yeshaya,Yida,Yidel,Yides,Yisrael,Yisroel,Yitta,Yitty,Yitzchak,Yitzchok,Yocheved,Yoel,Yona,Yonah,Yonatan,Yosef,Yossi,Yousef,Youssef,Yu,Yuna,Yusuf,Zabdiel,Zachariah,Zachary,Zahara,Zahir,Zahra,Zaiden,Zain,Zainab,Zaire,Zakaria,Zalmen,Zamir,Zander,Zane,Zaniyah,Zara,Zaria,Zariah,Zayan,Zayden,Zayn,Zelda,Zendaya,Zev,Zion,Zissy,Zoe,Zoey,Zoya,Zuri,Zyaire\""
      ]
     },
     "execution_count": 10,
     "metadata": {},
     "output_type": "execute_result"
    }
   ],
   "source": [
    "','.join(a[\"Child's First Name\"].str.title().drop_duplicates().sort_values())"
   ]
  },
  {
   "cell_type": "code",
   "execution_count": 6,
   "id": "victorian-kitchen",
   "metadata": {},
   "outputs": [],
   "source": [
    "a.to_csv('Just_for_fun',index=False,columns=['Gender','Ethnicity','Count'])"
   ]
  },
  {
   "cell_type": "code",
   "execution_count": 10,
   "id": "framed-debate",
   "metadata": {},
   "outputs": [],
   "source": [
    "b=pd.read_excel('Book1.xlsx')"
   ]
  },
  {
   "cell_type": "code",
   "execution_count": 12,
   "id": "noble-cheese",
   "metadata": {},
   "outputs": [
    {
     "data": {
      "text/html": [
       "<div>\n",
       "<style scoped>\n",
       "    .dataframe tbody tr th:only-of-type {\n",
       "        vertical-align: middle;\n",
       "    }\n",
       "\n",
       "    .dataframe tbody tr th {\n",
       "        vertical-align: top;\n",
       "    }\n",
       "\n",
       "    .dataframe thead th {\n",
       "        text-align: right;\n",
       "    }\n",
       "</style>\n",
       "<table border=\"1\" class=\"dataframe\">\n",
       "  <thead>\n",
       "    <tr style=\"text-align: right;\">\n",
       "      <th></th>\n",
       "      <th>commdity code</th>\n",
       "      <th>price per unit</th>\n",
       "      <th>no ofunits sold</th>\n",
       "      <th>sales</th>\n",
       "      <th>Unnamed: 4</th>\n",
       "    </tr>\n",
       "  </thead>\n",
       "  <tbody>\n",
       "    <tr>\n",
       "      <th>0</th>\n",
       "      <td>1.0</td>\n",
       "      <td>1205</td>\n",
       "      <td>50</td>\n",
       "      <td>60250</td>\n",
       "      <td>45555</td>\n",
       "    </tr>\n",
       "    <tr>\n",
       "      <th>1</th>\n",
       "      <td>2.0</td>\n",
       "      <td>6570</td>\n",
       "      <td>60</td>\n",
       "      <td>394200</td>\n",
       "      <td>5666</td>\n",
       "    </tr>\n",
       "    <tr>\n",
       "      <th>2</th>\n",
       "      <td>3.0</td>\n",
       "      <td>8225</td>\n",
       "      <td>50</td>\n",
       "      <td>411250</td>\n",
       "      <td>78888</td>\n",
       "    </tr>\n",
       "    <tr>\n",
       "      <th>3</th>\n",
       "      <td>4.0</td>\n",
       "      <td>4505</td>\n",
       "      <td>90</td>\n",
       "      <td>405450</td>\n",
       "      <td>99999</td>\n",
       "    </tr>\n",
       "    <tr>\n",
       "      <th>4</th>\n",
       "      <td>NaN</td>\n",
       "      <td>4</td>\n",
       "      <td>1271150</td>\n",
       "      <td>799650</td>\n",
       "      <td>45560</td>\n",
       "    </tr>\n",
       "  </tbody>\n",
       "</table>\n",
       "</div>"
      ],
      "text/plain": [
       "   commdity code  price per unit  no ofunits sold   sales  Unnamed: 4\n",
       "0            1.0            1205               50   60250       45555\n",
       "1            2.0            6570               60  394200        5666\n",
       "2            3.0            8225               50  411250       78888\n",
       "3            4.0            4505               90  405450       99999\n",
       "4            NaN               4          1271150  799650       45560"
      ]
     },
     "execution_count": 12,
     "metadata": {},
     "output_type": "execute_result"
    }
   ],
   "source": [
    "b"
   ]
  },
  {
   "cell_type": "code",
   "execution_count": 15,
   "id": "regulated-consciousness",
   "metadata": {},
   "outputs": [],
   "source": [
    "great3=b[b['commdity code']>=3] "
   ]
  },
  {
   "cell_type": "code",
   "execution_count": 22,
   "id": "homeless-links",
   "metadata": {},
   "outputs": [],
   "source": [
    "less3=b[b['commdity code']<3]"
   ]
  },
  {
   "cell_type": "code",
   "execution_count": 19,
   "id": "textile-rebel",
   "metadata": {},
   "outputs": [],
   "source": [
    "xfile=pd.ExcelWriter('just_fun.xlsx',encoding='utf-8')"
   ]
  },
  {
   "cell_type": "code",
   "execution_count": 20,
   "id": "cooked-livestock",
   "metadata": {},
   "outputs": [],
   "source": [
    "great3.to_excel(xfile,sheet_name='onnu',encoding='utf-8')"
   ]
  },
  {
   "cell_type": "code",
   "execution_count": 23,
   "id": "curious-spider",
   "metadata": {},
   "outputs": [],
   "source": [
    "less3.to_excel(xfile,sheet_name='randu',encoding='utf-8')"
   ]
  },
  {
   "cell_type": "code",
   "execution_count": 24,
   "id": "continental-limitation",
   "metadata": {},
   "outputs": [],
   "source": [
    "xfile.save()"
   ]
  },
  {
   "cell_type": "code",
   "execution_count": 25,
   "id": "hollow-month",
   "metadata": {},
   "outputs": [],
   "source": [
    "b.to_excel(\"XLfile.xlsx\",sheet_name=\"onnu\")"
   ]
  },
  {
   "cell_type": "code",
   "execution_count": 20,
   "id": "fifty-magic",
   "metadata": {},
   "outputs": [
    {
     "name": "stderr",
     "output_type": "stream",
     "text": [
      "c:\\python\\python392\\lib\\site-packages\\IPython\\core\\interactiveshell.py:3165: DtypeWarning: Columns (3,4,5,6,12) have mixed types.Specify dtype option on import or set low_memory=False.\n",
      "  has_raised = await self.run_ast_nodes(code_ast.body, cell_name,\n"
     ]
    }
   ],
   "source": [
    "sal=pd.read_csv('Salaries.csv')"
   ]
  },
  {
   "cell_type": "code",
   "execution_count": 21,
   "id": "every-ireland",
   "metadata": {},
   "outputs": [
    {
     "data": {
      "text/html": [
       "<div>\n",
       "<style scoped>\n",
       "    .dataframe tbody tr th:only-of-type {\n",
       "        vertical-align: middle;\n",
       "    }\n",
       "\n",
       "    .dataframe tbody tr th {\n",
       "        vertical-align: top;\n",
       "    }\n",
       "\n",
       "    .dataframe thead th {\n",
       "        text-align: right;\n",
       "    }\n",
       "</style>\n",
       "<table border=\"1\" class=\"dataframe\">\n",
       "  <thead>\n",
       "    <tr style=\"text-align: right;\">\n",
       "      <th></th>\n",
       "      <th>Id</th>\n",
       "      <th>EmployeeName</th>\n",
       "      <th>JobTitle</th>\n",
       "      <th>BasePay</th>\n",
       "      <th>OvertimePay</th>\n",
       "      <th>OtherPay</th>\n",
       "      <th>Benefits</th>\n",
       "      <th>TotalPay</th>\n",
       "      <th>TotalPayBenefits</th>\n",
       "      <th>Year</th>\n",
       "      <th>Notes</th>\n",
       "      <th>Agency</th>\n",
       "      <th>Status</th>\n",
       "    </tr>\n",
       "  </thead>\n",
       "  <tbody>\n",
       "    <tr>\n",
       "      <th>0</th>\n",
       "      <td>1</td>\n",
       "      <td>NATHANIEL FORD</td>\n",
       "      <td>GENERAL MANAGER-METROPOLITAN TRANSIT AUTHORITY</td>\n",
       "      <td>167411.18</td>\n",
       "      <td>0.0</td>\n",
       "      <td>400184.25</td>\n",
       "      <td>NaN</td>\n",
       "      <td>567595.43</td>\n",
       "      <td>567595.43</td>\n",
       "      <td>2011</td>\n",
       "      <td>NaN</td>\n",
       "      <td>San Francisco</td>\n",
       "      <td>NaN</td>\n",
       "    </tr>\n",
       "    <tr>\n",
       "      <th>1</th>\n",
       "      <td>2</td>\n",
       "      <td>GARY JIMENEZ</td>\n",
       "      <td>CAPTAIN III (POLICE DEPARTMENT)</td>\n",
       "      <td>155966.02</td>\n",
       "      <td>245131.88</td>\n",
       "      <td>137811.38</td>\n",
       "      <td>NaN</td>\n",
       "      <td>538909.28</td>\n",
       "      <td>538909.28</td>\n",
       "      <td>2011</td>\n",
       "      <td>NaN</td>\n",
       "      <td>San Francisco</td>\n",
       "      <td>NaN</td>\n",
       "    </tr>\n",
       "    <tr>\n",
       "      <th>2</th>\n",
       "      <td>3</td>\n",
       "      <td>ALBERT PARDINI</td>\n",
       "      <td>CAPTAIN III (POLICE DEPARTMENT)</td>\n",
       "      <td>212739.13</td>\n",
       "      <td>106088.18</td>\n",
       "      <td>16452.6</td>\n",
       "      <td>NaN</td>\n",
       "      <td>335279.91</td>\n",
       "      <td>335279.91</td>\n",
       "      <td>2011</td>\n",
       "      <td>NaN</td>\n",
       "      <td>San Francisco</td>\n",
       "      <td>NaN</td>\n",
       "    </tr>\n",
       "    <tr>\n",
       "      <th>3</th>\n",
       "      <td>4</td>\n",
       "      <td>CHRISTOPHER CHONG</td>\n",
       "      <td>WIRE ROPE CABLE MAINTENANCE MECHANIC</td>\n",
       "      <td>77916.0</td>\n",
       "      <td>56120.71</td>\n",
       "      <td>198306.9</td>\n",
       "      <td>NaN</td>\n",
       "      <td>332343.61</td>\n",
       "      <td>332343.61</td>\n",
       "      <td>2011</td>\n",
       "      <td>NaN</td>\n",
       "      <td>San Francisco</td>\n",
       "      <td>NaN</td>\n",
       "    </tr>\n",
       "    <tr>\n",
       "      <th>4</th>\n",
       "      <td>5</td>\n",
       "      <td>PATRICK GARDNER</td>\n",
       "      <td>DEPUTY CHIEF OF DEPARTMENT,(FIRE DEPARTMENT)</td>\n",
       "      <td>134401.6</td>\n",
       "      <td>9737.0</td>\n",
       "      <td>182234.59</td>\n",
       "      <td>NaN</td>\n",
       "      <td>326373.19</td>\n",
       "      <td>326373.19</td>\n",
       "      <td>2011</td>\n",
       "      <td>NaN</td>\n",
       "      <td>San Francisco</td>\n",
       "      <td>NaN</td>\n",
       "    </tr>\n",
       "  </tbody>\n",
       "</table>\n",
       "</div>"
      ],
      "text/plain": [
       "   Id       EmployeeName                                        JobTitle  \\\n",
       "0   1     NATHANIEL FORD  GENERAL MANAGER-METROPOLITAN TRANSIT AUTHORITY   \n",
       "1   2       GARY JIMENEZ                 CAPTAIN III (POLICE DEPARTMENT)   \n",
       "2   3     ALBERT PARDINI                 CAPTAIN III (POLICE DEPARTMENT)   \n",
       "3   4  CHRISTOPHER CHONG            WIRE ROPE CABLE MAINTENANCE MECHANIC   \n",
       "4   5    PATRICK GARDNER    DEPUTY CHIEF OF DEPARTMENT,(FIRE DEPARTMENT)   \n",
       "\n",
       "     BasePay OvertimePay   OtherPay Benefits   TotalPay  TotalPayBenefits  \\\n",
       "0  167411.18         0.0  400184.25      NaN  567595.43         567595.43   \n",
       "1  155966.02   245131.88  137811.38      NaN  538909.28         538909.28   \n",
       "2  212739.13   106088.18    16452.6      NaN  335279.91         335279.91   \n",
       "3    77916.0    56120.71   198306.9      NaN  332343.61         332343.61   \n",
       "4   134401.6      9737.0  182234.59      NaN  326373.19         326373.19   \n",
       "\n",
       "   Year  Notes         Agency Status  \n",
       "0  2011    NaN  San Francisco    NaN  \n",
       "1  2011    NaN  San Francisco    NaN  \n",
       "2  2011    NaN  San Francisco    NaN  \n",
       "3  2011    NaN  San Francisco    NaN  \n",
       "4  2011    NaN  San Francisco    NaN  "
      ]
     },
     "execution_count": 21,
     "metadata": {},
     "output_type": "execute_result"
    }
   ],
   "source": [
    "sal.head()"
   ]
  },
  {
   "cell_type": "code",
   "execution_count": 5,
   "id": "complimentary-miracle",
   "metadata": {},
   "outputs": [
    {
     "name": "stdout",
     "output_type": "stream",
     "text": [
      "<class 'pandas.core.frame.DataFrame'>\n",
      "RangeIndex: 148654 entries, 0 to 148653\n",
      "Data columns (total 13 columns):\n",
      " #   Column            Non-Null Count   Dtype  \n",
      "---  ------            --------------   -----  \n",
      " 0   Id                148654 non-null  int64  \n",
      " 1   EmployeeName      148654 non-null  object \n",
      " 2   JobTitle          148654 non-null  object \n",
      " 3   BasePay           148049 non-null  object \n",
      " 4   OvertimePay       148654 non-null  object \n",
      " 5   OtherPay          148654 non-null  object \n",
      " 6   Benefits          112495 non-null  object \n",
      " 7   TotalPay          148654 non-null  float64\n",
      " 8   TotalPayBenefits  148654 non-null  float64\n",
      " 9   Year              148654 non-null  int64  \n",
      " 10  Notes             0 non-null       float64\n",
      " 11  Agency            148654 non-null  object \n",
      " 12  Status            38119 non-null   object \n",
      "dtypes: float64(3), int64(2), object(8)\n",
      "memory usage: 14.7+ MB\n"
     ]
    }
   ],
   "source": [
    "sal.info()"
   ]
  },
  {
   "cell_type": "code",
   "execution_count": 16,
   "id": "amazing-grain",
   "metadata": {},
   "outputs": [
    {
     "data": {
      "text/plain": [
       "74768.32197169267"
      ]
     },
     "execution_count": 16,
     "metadata": {},
     "output_type": "execute_result"
    }
   ],
   "source": [
    "sal['TotalPay'].mean()"
   ]
  },
  {
   "cell_type": "code",
   "execution_count": 22,
   "id": "mathematical-compression",
   "metadata": {},
   "outputs": [
    {
     "data": {
      "text/plain": [
       "567595.43"
      ]
     },
     "execution_count": 22,
     "metadata": {},
     "output_type": "execute_result"
    }
   ],
   "source": [
    "sal['TotalPayBenefits'].max()"
   ]
  },
  {
   "cell_type": "code",
   "execution_count": 26,
   "id": "separated-radius",
   "metadata": {},
   "outputs": [
    {
     "data": {
      "text/plain": [
       "24    CAPTAIN, FIRE SUPPRESSION\n",
       "Name: JobTitle, dtype: object"
      ]
     },
     "execution_count": 26,
     "metadata": {},
     "output_type": "execute_result"
    }
   ],
   "source": [
    "sal[sal['EmployeeName']=='JOSEPH DRISCOLL']['JobTitle']"
   ]
  },
  {
   "cell_type": "code",
   "execution_count": 28,
   "id": "underlying-bulletin",
   "metadata": {},
   "outputs": [
    {
     "data": {
      "text/plain": [
       "24    270324.91\n",
       "Name: TotalPay, dtype: float64"
      ]
     },
     "execution_count": 28,
     "metadata": {},
     "output_type": "execute_result"
    }
   ],
   "source": [
    "#how much does joseph driscoll make\n",
    "sal[sal['EmployeeName']=='JOSEPH DRISCOLL']['TotalPay']"
   ]
  },
  {
   "cell_type": "code",
   "execution_count": 36,
   "id": "facial-world",
   "metadata": {},
   "outputs": [
    {
     "data": {
      "text/plain": [
       "0    NATHANIEL FORD\n",
       "Name: EmployeeName, dtype: object"
      ]
     },
     "execution_count": 36,
     "metadata": {},
     "output_type": "execute_result"
    }
   ],
   "source": [
    "# name of person who gets max salary\n",
    "sal[sal['TotalPay']==sal['TotalPay'].max()]['EmployeeName']"
   ]
  },
  {
   "cell_type": "code",
   "execution_count": 44,
   "id": "preceding-bookmark",
   "metadata": {
    "collapsed": true
   },
   "outputs": [
    {
     "data": {
      "text/plain": [
       "Id                                                               1\n",
       "EmployeeName                                        NATHANIEL FORD\n",
       "JobTitle            GENERAL MANAGER-METROPOLITAN TRANSIT AUTHORITY\n",
       "BasePay                                                  167411.18\n",
       "OvertimePay                                                    0.0\n",
       "OtherPay                                                 400184.25\n",
       "Benefits                                                       NaN\n",
       "TotalPay                                                 567595.43\n",
       "TotalPayBenefits                                         567595.43\n",
       "Year                                                          2011\n",
       "Notes                                                          NaN\n",
       "Agency                                               San Francisco\n",
       "Status                                                         NaN\n",
       "Name: 0, dtype: object"
      ]
     },
     "execution_count": 44,
     "metadata": {},
     "output_type": "execute_result"
    }
   ],
   "source": [
    "sal.loc[sal['TotalPayBenefits'].idxmax()]"
   ]
  },
  {
   "cell_type": "code",
   "execution_count": 46,
   "id": "quarterly-racing",
   "metadata": {},
   "outputs": [
    {
     "data": {
      "text/plain": [
       "Id                                                               1\n",
       "EmployeeName                                        NATHANIEL FORD\n",
       "JobTitle            GENERAL MANAGER-METROPOLITAN TRANSIT AUTHORITY\n",
       "BasePay                                                  167411.18\n",
       "OvertimePay                                                    0.0\n",
       "OtherPay                                                 400184.25\n",
       "Benefits                                                       NaN\n",
       "TotalPay                                                 567595.43\n",
       "TotalPayBenefits                                         567595.43\n",
       "Year                                                          2011\n",
       "Notes                                                          NaN\n",
       "Agency                                               San Francisco\n",
       "Status                                                         NaN\n",
       "Name: 0, dtype: object"
      ]
     },
     "execution_count": 46,
     "metadata": {},
     "output_type": "execute_result"
    }
   ],
   "source": [
    "sal.loc[sal['TotalPayBenefits'].argmax()]"
   ]
  },
  {
   "cell_type": "code",
   "execution_count": 42,
   "id": "opened-thomas",
   "metadata": {},
   "outputs": [
    {
     "data": {
      "text/plain": [
       "148653    Joe Lopez\n",
       "Name: EmployeeName, dtype: object"
      ]
     },
     "execution_count": 42,
     "metadata": {},
     "output_type": "execute_result"
    }
   ],
   "source": [
    "# name of lowest paid person\n",
    "sal[sal['TotalPay']==sal['TotalPay'].min()]['EmployeeName']"
   ]
  },
  {
   "cell_type": "code",
   "execution_count": 51,
   "id": "logical-warren",
   "metadata": {
    "scrolled": true
   },
   "outputs": [
    {
     "data": {
      "text/plain": [
       "148653"
      ]
     },
     "execution_count": 51,
     "metadata": {},
     "output_type": "execute_result"
    }
   ],
   "source": [
    "sal.loc[sal['TotalPay'].idxmin()]"
   ]
  },
  {
   "cell_type": "code",
   "execution_count": 53,
   "id": "advisory-parade",
   "metadata": {},
   "outputs": [
    {
     "data": {
      "text/plain": [
       "Id                                      148654\n",
       "EmployeeName                         Joe Lopez\n",
       "JobTitle            Counselor, Log Cabin Ranch\n",
       "BasePay                                   0.00\n",
       "OvertimePay                               0.00\n",
       "OtherPay                               -618.13\n",
       "Benefits                                  0.00\n",
       "TotalPay                               -618.13\n",
       "TotalPayBenefits                       -618.13\n",
       "Year                                      2014\n",
       "Notes                                      NaN\n",
       "Agency                           San Francisco\n",
       "Status                                      PT\n",
       "Name: 148653, dtype: object"
      ]
     },
     "execution_count": 53,
     "metadata": {},
     "output_type": "execute_result"
    }
   ],
   "source": [
    "sal.iloc[sal['TotalPay'].argmin()]"
   ]
  },
  {
   "cell_type": "code",
   "execution_count": 54,
   "id": "objective-luxury",
   "metadata": {},
   "outputs": [
    {
     "data": {
      "text/html": [
       "<div>\n",
       "<style scoped>\n",
       "    .dataframe tbody tr th:only-of-type {\n",
       "        vertical-align: middle;\n",
       "    }\n",
       "\n",
       "    .dataframe tbody tr th {\n",
       "        vertical-align: top;\n",
       "    }\n",
       "\n",
       "    .dataframe thead th {\n",
       "        text-align: right;\n",
       "    }\n",
       "</style>\n",
       "<table border=\"1\" class=\"dataframe\">\n",
       "  <thead>\n",
       "    <tr style=\"text-align: right;\">\n",
       "      <th></th>\n",
       "      <th>Id</th>\n",
       "      <th>EmployeeName</th>\n",
       "      <th>JobTitle</th>\n",
       "      <th>BasePay</th>\n",
       "      <th>OvertimePay</th>\n",
       "      <th>OtherPay</th>\n",
       "      <th>Benefits</th>\n",
       "      <th>TotalPay</th>\n",
       "      <th>TotalPayBenefits</th>\n",
       "      <th>Year</th>\n",
       "      <th>Notes</th>\n",
       "      <th>Agency</th>\n",
       "      <th>Status</th>\n",
       "    </tr>\n",
       "  </thead>\n",
       "  <tbody>\n",
       "    <tr>\n",
       "      <th>0</th>\n",
       "      <td>1</td>\n",
       "      <td>NATHANIEL FORD</td>\n",
       "      <td>GENERAL MANAGER-METROPOLITAN TRANSIT AUTHORITY</td>\n",
       "      <td>167411.18</td>\n",
       "      <td>0.0</td>\n",
       "      <td>400184.25</td>\n",
       "      <td>NaN</td>\n",
       "      <td>567595.43</td>\n",
       "      <td>567595.43</td>\n",
       "      <td>2011</td>\n",
       "      <td>NaN</td>\n",
       "      <td>San Francisco</td>\n",
       "      <td>NaN</td>\n",
       "    </tr>\n",
       "    <tr>\n",
       "      <th>1</th>\n",
       "      <td>2</td>\n",
       "      <td>GARY JIMENEZ</td>\n",
       "      <td>CAPTAIN III (POLICE DEPARTMENT)</td>\n",
       "      <td>155966.02</td>\n",
       "      <td>245131.88</td>\n",
       "      <td>137811.38</td>\n",
       "      <td>NaN</td>\n",
       "      <td>538909.28</td>\n",
       "      <td>538909.28</td>\n",
       "      <td>2011</td>\n",
       "      <td>NaN</td>\n",
       "      <td>San Francisco</td>\n",
       "      <td>NaN</td>\n",
       "    </tr>\n",
       "    <tr>\n",
       "      <th>2</th>\n",
       "      <td>3</td>\n",
       "      <td>ALBERT PARDINI</td>\n",
       "      <td>CAPTAIN III (POLICE DEPARTMENT)</td>\n",
       "      <td>212739.13</td>\n",
       "      <td>106088.18</td>\n",
       "      <td>16452.6</td>\n",
       "      <td>NaN</td>\n",
       "      <td>335279.91</td>\n",
       "      <td>335279.91</td>\n",
       "      <td>2011</td>\n",
       "      <td>NaN</td>\n",
       "      <td>San Francisco</td>\n",
       "      <td>NaN</td>\n",
       "    </tr>\n",
       "    <tr>\n",
       "      <th>3</th>\n",
       "      <td>4</td>\n",
       "      <td>CHRISTOPHER CHONG</td>\n",
       "      <td>WIRE ROPE CABLE MAINTENANCE MECHANIC</td>\n",
       "      <td>77916.0</td>\n",
       "      <td>56120.71</td>\n",
       "      <td>198306.9</td>\n",
       "      <td>NaN</td>\n",
       "      <td>332343.61</td>\n",
       "      <td>332343.61</td>\n",
       "      <td>2011</td>\n",
       "      <td>NaN</td>\n",
       "      <td>San Francisco</td>\n",
       "      <td>NaN</td>\n",
       "    </tr>\n",
       "    <tr>\n",
       "      <th>4</th>\n",
       "      <td>5</td>\n",
       "      <td>PATRICK GARDNER</td>\n",
       "      <td>DEPUTY CHIEF OF DEPARTMENT,(FIRE DEPARTMENT)</td>\n",
       "      <td>134401.6</td>\n",
       "      <td>9737.0</td>\n",
       "      <td>182234.59</td>\n",
       "      <td>NaN</td>\n",
       "      <td>326373.19</td>\n",
       "      <td>326373.19</td>\n",
       "      <td>2011</td>\n",
       "      <td>NaN</td>\n",
       "      <td>San Francisco</td>\n",
       "      <td>NaN</td>\n",
       "    </tr>\n",
       "    <tr>\n",
       "      <th>...</th>\n",
       "      <td>...</td>\n",
       "      <td>...</td>\n",
       "      <td>...</td>\n",
       "      <td>...</td>\n",
       "      <td>...</td>\n",
       "      <td>...</td>\n",
       "      <td>...</td>\n",
       "      <td>...</td>\n",
       "      <td>...</td>\n",
       "      <td>...</td>\n",
       "      <td>...</td>\n",
       "      <td>...</td>\n",
       "      <td>...</td>\n",
       "    </tr>\n",
       "    <tr>\n",
       "      <th>148649</th>\n",
       "      <td>148650</td>\n",
       "      <td>Roy I Tillery</td>\n",
       "      <td>Custodian</td>\n",
       "      <td>0.00</td>\n",
       "      <td>0.00</td>\n",
       "      <td>0.00</td>\n",
       "      <td>0.00</td>\n",
       "      <td>0.00</td>\n",
       "      <td>0.00</td>\n",
       "      <td>2014</td>\n",
       "      <td>NaN</td>\n",
       "      <td>San Francisco</td>\n",
       "      <td>PT</td>\n",
       "    </tr>\n",
       "    <tr>\n",
       "      <th>148650</th>\n",
       "      <td>148651</td>\n",
       "      <td>Not provided</td>\n",
       "      <td>Not provided</td>\n",
       "      <td>Not Provided</td>\n",
       "      <td>Not Provided</td>\n",
       "      <td>Not Provided</td>\n",
       "      <td>Not Provided</td>\n",
       "      <td>0.00</td>\n",
       "      <td>0.00</td>\n",
       "      <td>2014</td>\n",
       "      <td>NaN</td>\n",
       "      <td>San Francisco</td>\n",
       "      <td>NaN</td>\n",
       "    </tr>\n",
       "    <tr>\n",
       "      <th>148651</th>\n",
       "      <td>148652</td>\n",
       "      <td>Not provided</td>\n",
       "      <td>Not provided</td>\n",
       "      <td>Not Provided</td>\n",
       "      <td>Not Provided</td>\n",
       "      <td>Not Provided</td>\n",
       "      <td>Not Provided</td>\n",
       "      <td>0.00</td>\n",
       "      <td>0.00</td>\n",
       "      <td>2014</td>\n",
       "      <td>NaN</td>\n",
       "      <td>San Francisco</td>\n",
       "      <td>NaN</td>\n",
       "    </tr>\n",
       "    <tr>\n",
       "      <th>148652</th>\n",
       "      <td>148653</td>\n",
       "      <td>Not provided</td>\n",
       "      <td>Not provided</td>\n",
       "      <td>Not Provided</td>\n",
       "      <td>Not Provided</td>\n",
       "      <td>Not Provided</td>\n",
       "      <td>Not Provided</td>\n",
       "      <td>0.00</td>\n",
       "      <td>0.00</td>\n",
       "      <td>2014</td>\n",
       "      <td>NaN</td>\n",
       "      <td>San Francisco</td>\n",
       "      <td>NaN</td>\n",
       "    </tr>\n",
       "    <tr>\n",
       "      <th>148653</th>\n",
       "      <td>148654</td>\n",
       "      <td>Joe Lopez</td>\n",
       "      <td>Counselor, Log Cabin Ranch</td>\n",
       "      <td>0.00</td>\n",
       "      <td>0.00</td>\n",
       "      <td>-618.13</td>\n",
       "      <td>0.00</td>\n",
       "      <td>-618.13</td>\n",
       "      <td>-618.13</td>\n",
       "      <td>2014</td>\n",
       "      <td>NaN</td>\n",
       "      <td>San Francisco</td>\n",
       "      <td>PT</td>\n",
       "    </tr>\n",
       "  </tbody>\n",
       "</table>\n",
       "<p>148654 rows × 13 columns</p>\n",
       "</div>"
      ],
      "text/plain": [
       "            Id       EmployeeName  \\\n",
       "0            1     NATHANIEL FORD   \n",
       "1            2       GARY JIMENEZ   \n",
       "2            3     ALBERT PARDINI   \n",
       "3            4  CHRISTOPHER CHONG   \n",
       "4            5    PATRICK GARDNER   \n",
       "...        ...                ...   \n",
       "148649  148650      Roy I Tillery   \n",
       "148650  148651       Not provided   \n",
       "148651  148652       Not provided   \n",
       "148652  148653       Not provided   \n",
       "148653  148654          Joe Lopez   \n",
       "\n",
       "                                              JobTitle       BasePay  \\\n",
       "0       GENERAL MANAGER-METROPOLITAN TRANSIT AUTHORITY     167411.18   \n",
       "1                      CAPTAIN III (POLICE DEPARTMENT)     155966.02   \n",
       "2                      CAPTAIN III (POLICE DEPARTMENT)     212739.13   \n",
       "3                 WIRE ROPE CABLE MAINTENANCE MECHANIC       77916.0   \n",
       "4         DEPUTY CHIEF OF DEPARTMENT,(FIRE DEPARTMENT)      134401.6   \n",
       "...                                                ...           ...   \n",
       "148649                                       Custodian          0.00   \n",
       "148650                                    Not provided  Not Provided   \n",
       "148651                                    Not provided  Not Provided   \n",
       "148652                                    Not provided  Not Provided   \n",
       "148653                      Counselor, Log Cabin Ranch          0.00   \n",
       "\n",
       "         OvertimePay      OtherPay      Benefits   TotalPay  TotalPayBenefits  \\\n",
       "0                0.0     400184.25           NaN  567595.43         567595.43   \n",
       "1          245131.88     137811.38           NaN  538909.28         538909.28   \n",
       "2          106088.18       16452.6           NaN  335279.91         335279.91   \n",
       "3           56120.71      198306.9           NaN  332343.61         332343.61   \n",
       "4             9737.0     182234.59           NaN  326373.19         326373.19   \n",
       "...              ...           ...           ...        ...               ...   \n",
       "148649          0.00          0.00          0.00       0.00              0.00   \n",
       "148650  Not Provided  Not Provided  Not Provided       0.00              0.00   \n",
       "148651  Not Provided  Not Provided  Not Provided       0.00              0.00   \n",
       "148652  Not Provided  Not Provided  Not Provided       0.00              0.00   \n",
       "148653          0.00       -618.13          0.00    -618.13           -618.13   \n",
       "\n",
       "        Year  Notes         Agency Status  \n",
       "0       2011    NaN  San Francisco    NaN  \n",
       "1       2011    NaN  San Francisco    NaN  \n",
       "2       2011    NaN  San Francisco    NaN  \n",
       "3       2011    NaN  San Francisco    NaN  \n",
       "4       2011    NaN  San Francisco    NaN  \n",
       "...      ...    ...            ...    ...  \n",
       "148649  2014    NaN  San Francisco     PT  \n",
       "148650  2014    NaN  San Francisco    NaN  \n",
       "148651  2014    NaN  San Francisco    NaN  \n",
       "148652  2014    NaN  San Francisco    NaN  \n",
       "148653  2014    NaN  San Francisco     PT  \n",
       "\n",
       "[148654 rows x 13 columns]"
      ]
     },
     "execution_count": 54,
     "metadata": {},
     "output_type": "execute_result"
    }
   ],
   "source": [
    "sal"
   ]
  },
  {
   "cell_type": "code",
   "execution_count": 62,
   "id": "varied-world",
   "metadata": {},
   "outputs": [
    {
     "data": {
      "text/plain": [
       "Year\n",
       "2011    71744.103871\n",
       "2012    74113.262265\n",
       "2013    77611.443142\n",
       "2014    75463.918140\n",
       "Name: TotalPay, dtype: float64"
      ]
     },
     "execution_count": 62,
     "metadata": {},
     "output_type": "execute_result"
    }
   ],
   "source": [
    "#mean totalpay of all employees per year\n",
    "sal.groupby('Year').mean()['TotalPay']"
   ]
  },
  {
   "cell_type": "code",
   "execution_count": 66,
   "id": "smooth-happiness",
   "metadata": {},
   "outputs": [
    {
     "data": {
      "text/plain": [
       "2159"
      ]
     },
     "execution_count": 66,
     "metadata": {},
     "output_type": "execute_result"
    }
   ],
   "source": [
    "#  unique job titles\n",
    "sal['JobTitle'].unique()\n",
    "#no of unique job titles\n",
    "sal['JobTitle'].nunique()"
   ]
  },
  {
   "cell_type": "code",
   "execution_count": 68,
   "id": "seasonal-hungarian",
   "metadata": {},
   "outputs": [
    {
     "data": {
      "text/plain": [
       "2159"
      ]
     },
     "execution_count": 68,
     "metadata": {},
     "output_type": "execute_result"
    }
   ],
   "source": [
    "len(sal['JobTitle'].unique())"
   ]
  },
  {
   "cell_type": "code",
   "execution_count": 76,
   "id": "invalid-gates",
   "metadata": {},
   "outputs": [
    {
     "data": {
      "text/plain": [
       "2014    38123\n",
       "2013    37606\n",
       "2012    36766\n",
       "2011    36159\n",
       "Name: Year, dtype: int64"
      ]
     },
     "execution_count": 76,
     "metadata": {},
     "output_type": "execute_result"
    }
   ],
   "source": [
    "# top 5 most common jobs\n",
    "sal['JobTitle'].value_counts().head()"
   ]
  },
  {
   "cell_type": "code",
   "execution_count": 85,
   "id": "occupational-french",
   "metadata": {},
   "outputs": [
    {
     "data": {
      "text/plain": [
       "202"
      ]
     },
     "execution_count": 85,
     "metadata": {},
     "output_type": "execute_result"
    }
   ],
   "source": [
    "#no of job titles represented by only one person in 2013\n",
    "#sal[sal['Year']==2013]  grabbing the year 2013\n",
    "#sal[sal['Year']==2013]['JobTitle'] grabbing job title\n",
    "sum(sal[sal['Year']==2013]['JobTitle'].value_counts()==1)"
   ]
  },
  {
   "cell_type": "code",
   "execution_count": 87,
   "id": "paperback-puzzle",
   "metadata": {},
   "outputs": [],
   "source": [
    "# how many people have the word chief in job title\n",
    "def chief_string(title):\n",
    "    if 'chief' in title.lower().split():\n",
    "        return True\n",
    "    else:\n",
    "        return False"
   ]
  },
  {
   "cell_type": "code",
   "execution_count": 88,
   "id": "nervous-testament",
   "metadata": {},
   "outputs": [
    {
     "data": {
      "text/plain": [
       "'GENERAL MANAGER-METROPOLITAN TRANSIT AUTHORITY'"
      ]
     },
     "execution_count": 88,
     "metadata": {},
     "output_type": "execute_result"
    }
   ],
   "source": [
    "sal['JobTitle'].iloc[0]"
   ]
  },
  {
   "cell_type": "code",
   "execution_count": 89,
   "id": "numerous-pacific",
   "metadata": {},
   "outputs": [
    {
     "data": {
      "text/plain": [
       "False"
      ]
     },
     "execution_count": 89,
     "metadata": {},
     "output_type": "execute_result"
    }
   ],
   "source": [
    "chief_string('GENERAL MANAGER-METROPOLITAN TRANSIT AUTHORITY')"
   ]
  },
  {
   "cell_type": "code",
   "execution_count": 90,
   "id": "specified-hours",
   "metadata": {},
   "outputs": [
    {
     "data": {
      "text/plain": [
       "True"
      ]
     },
     "execution_count": 90,
     "metadata": {},
     "output_type": "execute_result"
    }
   ],
   "source": [
    "chief_string(' CHIEF GENERAL MANAGER-METROPOLITAN TRANSIT AUTHORITY')"
   ]
  },
  {
   "cell_type": "code",
   "execution_count": 95,
   "id": "periodic-humanity",
   "metadata": {},
   "outputs": [
    {
     "data": {
      "text/plain": [
       "477"
      ]
     },
     "execution_count": 95,
     "metadata": {},
     "output_type": "execute_result"
    }
   ],
   "source": [
    "#so\n",
    "sum(sal['JobTitle'].apply(lambda x: chief_string(x)))"
   ]
  },
  {
   "cell_type": "code",
   "execution_count": 100,
   "id": "suspended-inquiry",
   "metadata": {},
   "outputs": [],
   "source": [
    "# is ther a correlation btwn length of job title string and salary\n",
    "sal['Title_len']=sal['JobTitle'].apply(len)\n"
   ]
  },
  {
   "cell_type": "code",
   "execution_count": 102,
   "id": "breathing-unemployment",
   "metadata": {},
   "outputs": [
    {
     "data": {
      "text/html": [
       "<div>\n",
       "<style scoped>\n",
       "    .dataframe tbody tr th:only-of-type {\n",
       "        vertical-align: middle;\n",
       "    }\n",
       "\n",
       "    .dataframe tbody tr th {\n",
       "        vertical-align: top;\n",
       "    }\n",
       "\n",
       "    .dataframe thead th {\n",
       "        text-align: right;\n",
       "    }\n",
       "</style>\n",
       "<table border=\"1\" class=\"dataframe\">\n",
       "  <thead>\n",
       "    <tr style=\"text-align: right;\">\n",
       "      <th></th>\n",
       "      <th>JobTitle</th>\n",
       "      <th>Title_len</th>\n",
       "    </tr>\n",
       "  </thead>\n",
       "  <tbody>\n",
       "    <tr>\n",
       "      <th>0</th>\n",
       "      <td>GENERAL MANAGER-METROPOLITAN TRANSIT AUTHORITY</td>\n",
       "      <td>46</td>\n",
       "    </tr>\n",
       "    <tr>\n",
       "      <th>1</th>\n",
       "      <td>CAPTAIN III (POLICE DEPARTMENT)</td>\n",
       "      <td>31</td>\n",
       "    </tr>\n",
       "    <tr>\n",
       "      <th>2</th>\n",
       "      <td>CAPTAIN III (POLICE DEPARTMENT)</td>\n",
       "      <td>31</td>\n",
       "    </tr>\n",
       "    <tr>\n",
       "      <th>3</th>\n",
       "      <td>WIRE ROPE CABLE MAINTENANCE MECHANIC</td>\n",
       "      <td>36</td>\n",
       "    </tr>\n",
       "    <tr>\n",
       "      <th>4</th>\n",
       "      <td>DEPUTY CHIEF OF DEPARTMENT,(FIRE DEPARTMENT)</td>\n",
       "      <td>44</td>\n",
       "    </tr>\n",
       "    <tr>\n",
       "      <th>...</th>\n",
       "      <td>...</td>\n",
       "      <td>...</td>\n",
       "    </tr>\n",
       "    <tr>\n",
       "      <th>148649</th>\n",
       "      <td>Custodian</td>\n",
       "      <td>9</td>\n",
       "    </tr>\n",
       "    <tr>\n",
       "      <th>148650</th>\n",
       "      <td>Not provided</td>\n",
       "      <td>12</td>\n",
       "    </tr>\n",
       "    <tr>\n",
       "      <th>148651</th>\n",
       "      <td>Not provided</td>\n",
       "      <td>12</td>\n",
       "    </tr>\n",
       "    <tr>\n",
       "      <th>148652</th>\n",
       "      <td>Not provided</td>\n",
       "      <td>12</td>\n",
       "    </tr>\n",
       "    <tr>\n",
       "      <th>148653</th>\n",
       "      <td>Counselor, Log Cabin Ranch</td>\n",
       "      <td>26</td>\n",
       "    </tr>\n",
       "  </tbody>\n",
       "</table>\n",
       "<p>148654 rows × 2 columns</p>\n",
       "</div>"
      ],
      "text/plain": [
       "                                              JobTitle  Title_len\n",
       "0       GENERAL MANAGER-METROPOLITAN TRANSIT AUTHORITY         46\n",
       "1                      CAPTAIN III (POLICE DEPARTMENT)         31\n",
       "2                      CAPTAIN III (POLICE DEPARTMENT)         31\n",
       "3                 WIRE ROPE CABLE MAINTENANCE MECHANIC         36\n",
       "4         DEPUTY CHIEF OF DEPARTMENT,(FIRE DEPARTMENT)         44\n",
       "...                                                ...        ...\n",
       "148649                                       Custodian          9\n",
       "148650                                    Not provided         12\n",
       "148651                                    Not provided         12\n",
       "148652                                    Not provided         12\n",
       "148653                      Counselor, Log Cabin Ranch         26\n",
       "\n",
       "[148654 rows x 2 columns]"
      ]
     },
     "execution_count": 102,
     "metadata": {},
     "output_type": "execute_result"
    }
   ],
   "source": [
    "sal[['JobTitle','Title_len']] "
   ]
  },
  {
   "cell_type": "code",
   "execution_count": 103,
   "id": "further-colombia",
   "metadata": {},
   "outputs": [
    {
     "data": {
      "text/html": [
       "<div>\n",
       "<style scoped>\n",
       "    .dataframe tbody tr th:only-of-type {\n",
       "        vertical-align: middle;\n",
       "    }\n",
       "\n",
       "    .dataframe tbody tr th {\n",
       "        vertical-align: top;\n",
       "    }\n",
       "\n",
       "    .dataframe thead th {\n",
       "        text-align: right;\n",
       "    }\n",
       "</style>\n",
       "<table border=\"1\" class=\"dataframe\">\n",
       "  <thead>\n",
       "    <tr style=\"text-align: right;\">\n",
       "      <th></th>\n",
       "      <th>Title_len</th>\n",
       "    </tr>\n",
       "  </thead>\n",
       "  <tbody>\n",
       "    <tr>\n",
       "      <th>Title_len</th>\n",
       "      <td>1.0</td>\n",
       "    </tr>\n",
       "  </tbody>\n",
       "</table>\n",
       "</div>"
      ],
      "text/plain": [
       "           Title_len\n",
       "Title_len        1.0"
      ]
     },
     "execution_count": 103,
     "metadata": {},
     "output_type": "execute_result"
    }
   ],
   "source": [
    "sal[['JobTitle','Title_len']].corr()"
   ]
  },
  {
   "cell_type": "code",
   "execution_count": 104,
   "id": "respected-flooring",
   "metadata": {},
   "outputs": [
    {
     "data": {
      "text/html": [
       "<div>\n",
       "<style scoped>\n",
       "    .dataframe tbody tr th:only-of-type {\n",
       "        vertical-align: middle;\n",
       "    }\n",
       "\n",
       "    .dataframe tbody tr th {\n",
       "        vertical-align: top;\n",
       "    }\n",
       "\n",
       "    .dataframe thead th {\n",
       "        text-align: right;\n",
       "    }\n",
       "</style>\n",
       "<table border=\"1\" class=\"dataframe\">\n",
       "  <thead>\n",
       "    <tr style=\"text-align: right;\">\n",
       "      <th></th>\n",
       "      <th>TotalPay</th>\n",
       "      <th>Title_len</th>\n",
       "    </tr>\n",
       "  </thead>\n",
       "  <tbody>\n",
       "    <tr>\n",
       "      <th>TotalPay</th>\n",
       "      <td>1.000000</td>\n",
       "      <td>-0.015356</td>\n",
       "    </tr>\n",
       "    <tr>\n",
       "      <th>Title_len</th>\n",
       "      <td>-0.015356</td>\n",
       "      <td>1.000000</td>\n",
       "    </tr>\n",
       "  </tbody>\n",
       "</table>\n",
       "</div>"
      ],
      "text/plain": [
       "           TotalPay  Title_len\n",
       "TotalPay   1.000000  -0.015356\n",
       "Title_len -0.015356   1.000000"
      ]
     },
     "execution_count": 104,
     "metadata": {},
     "output_type": "execute_result"
    }
   ],
   "source": [
    "sal[['TotalPay','Title_len']].corr()"
   ]
  },
  {
   "cell_type": "code",
   "execution_count": null,
   "id": "english-horror",
   "metadata": {},
   "outputs": [],
   "source": []
  }
 ],
 "metadata": {
  "kernelspec": {
   "display_name": "Python 3",
   "language": "python",
   "name": "python3"
  },
  "language_info": {
   "codemirror_mode": {
    "name": "ipython",
    "version": 3
   },
   "file_extension": ".py",
   "mimetype": "text/x-python",
   "name": "python",
   "nbconvert_exporter": "python",
   "pygments_lexer": "ipython3",
   "version": "3.9.2"
  }
 },
 "nbformat": 4,
 "nbformat_minor": 5
}
